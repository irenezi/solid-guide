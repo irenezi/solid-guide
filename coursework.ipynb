{
  "nbformat": 4,
  "nbformat_minor": 0,
  "metadata": {
    "colab": {
      "name": "coursework.ipynb",
      "provenance": [],
      "collapsed_sections": [],
      "authorship_tag": "ABX9TyN7aG10+wHBJgucrJTdZRqw",
      "include_colab_link": true
    },
    "kernelspec": {
      "display_name": "Python 3",
      "name": "python3"
    }
  },
  "cells": [
    {
      "cell_type": "markdown",
      "metadata": {
        "id": "view-in-github",
        "colab_type": "text"
      },
      "source": [
        "<a href=\"https://colab.research.google.com/github/irenezi/solid-guide/blob/master/coursework.ipynb\" target=\"_parent\"><img src=\"https://colab.research.google.com/assets/colab-badge.svg\" alt=\"Open In Colab\"/></a>"
      ]
    },
    {
      "cell_type": "code",
      "metadata": {
        "id": "l3_qVcGUuKhO"
      },
      "source": [
        "import pandas as pd\r\n",
        "import numpy as np\r\n",
        "import time\r\n",
        "from pandas import read_csv, set_option\r\n",
        "from numpy import set_printoptions\r\n",
        "from matplotlib import pyplot\r\n",
        "from pandas.plotting import scatter_matrix\r\n",
        "from sklearn.preprocessing import Normalizer, MinMaxScaler\r\n",
        "from sklearn.feature_selection import VarianceThreshold, SelectKBest, chi2, RFE\r\n",
        "from sklearn.model_selection import cross_validate, GridSearchCV\r\n",
        "from sklearn.linear_model import LogisticRegression\r\n",
        "from sklearn.neighbors import KNeighborsClassifier\r\n",
        "from sklearn.discriminant_analysis import LinearDiscriminantAnalysis\r\n",
        "from sklearn.svm import SVC, LinearSVC\r\n",
        "from sklearn.metrics import accuracy_score, recall_score\r\n",
        "from sklearn.metrics import precision_score, confusion_matrix\r\n",
        "from sklearn.ensemble import ExtraTreesClassifier\r\n",
        "from keras.layers import Dense, Input \r\n",
        "from keras.models import Model, Sequential\r\n",
        "from keras.optimizers import Adam\r\n",
        "from keras.regularizers import l1\r\n",
        "from keras.wrappers.scikit_learn import KerasClassifier"
      ],
      "execution_count": null,
      "outputs": []
    },
    {
      "cell_type": "code",
      "metadata": {
        "id": "1T8gpZlHcfYf"
      },
      "source": [
        "def filter_constant_columns(df_data_set_x, variance=0):\r\n",
        "  # This function filters out all the constant columns (variance = 0)\r\n",
        "  \r\n",
        "  constant_filter = VarianceThreshold(threshold=variance)\r\n",
        "  constant_filter.fit(df_data_set_x)\r\n",
        "  non_constant = constant_filter.get_support()\r\n",
        "\r\n",
        "  columns_to_keep = (df_data_set_x.columns[constant_filter.get_support()])\r\n",
        "\r\n",
        "  return df_data_set_x[columns_to_keep]"
      ],
      "execution_count": null,
      "outputs": []
    },
    {
      "cell_type": "code",
      "metadata": {
        "id": "34mL89vG5mDf"
      },
      "source": [
        "def normalize(x_train_input, x_test_input):\n",
        "  # Normalize train and test data\n",
        "  # Normalize the training set and save the normalization parameters\n",
        "  # Normalize the test set using the training normalization parameters\n",
        "\n",
        "  scaler=Normalizer().fit(x_train_input)\n",
        "  x_train_norm=scaler.transform(x_train_input)\n",
        "  x_test_norm=scaler.transform(x_test_input)\n",
        "  \n",
        "  return x_train_norm, x_test_norm"
      ],
      "execution_count": null,
      "outputs": []
    },
    {
      "cell_type": "code",
      "metadata": {
        "id": "YU8ONbjs05A1"
      },
      "source": [
        "def rescale(x_train_input, x_test_input):\n",
        "  # Rescale train and test data\n",
        "  # Rescale the training set and save the parameters\n",
        "  # Rescale the test set using the training parameters\n",
        "\n",
        "  scaler=MinMaxScaler(feature_range=(0,1))\n",
        "  scaler = scaler.fit(x_train_input)\n",
        "  x_train_resc = scaler.transform(x_train_input)\n",
        "  x_test_resc = scaler.transform(x_test_input)\n",
        "  return x_train_resc, x_test_resc"
      ],
      "execution_count": null,
      "outputs": []
    },
    {
      "cell_type": "code",
      "metadata": {
        "id": "HqtXs2ub9sgf"
      },
      "source": [
        "def compare_algorithms(x_train_input, y_train_output, x_test_input, y_test_output):\n",
        "\n",
        "  # prints the validation accuracy (using K-Folf method on the train data set)\n",
        "  # and the test accuracy by apllying a variety of models to the test data set  \n",
        "  \n",
        "  models=[]\n",
        "  models.append(('LR', LogisticRegression(solver='liblinear'))) \n",
        "  models.append(('LDA', LinearDiscriminantAnalysis()))\n",
        "  models.append(('KNN', KNeighborsClassifier()))\n",
        "  #models.append(('CART', DecisionTreeClassifier()))\n",
        "  #models.append(('NB', GaussianNB()))\n",
        "  models.append(('SVC', SVC()))\n",
        "  models.append(('LnSVC', LinearSVC()))\n",
        "\n",
        "  for name, model in models:\n",
        "    model.fit(x_train_input, y_train_output)\n",
        "    train_prediction = model.predict(x_train_input)\n",
        "    train_acc = accuracy_score(y_train_output, train_prediction)\n",
        "    test_prediction = model.predict(x_test_input)\n",
        "    test_acc = accuracy_score(y_test_output, test_prediction)\n",
        "    print(\"%s: train_acc: %.3f / test_acc: %.3f\" % (name,train_acc, test_acc))\n",
        "  "
      ],
      "execution_count": null,
      "outputs": []
    },
    {
      "cell_type": "code",
      "metadata": {
        "id": "z9vgZFr8euFc"
      },
      "source": [
        "def kbest(x_train_input, y_train_output, x_test_input):\n",
        "  # feature selection using K-best\n",
        "  \n",
        "  # apply SelectKBest class to extract top 10 best features\n",
        "  bestfeatures = SelectKBest(score_func=chi2, k=10)\n",
        "  fit = bestfeatures.fit(x_train_input, y_train_output)\n",
        "  dfscores = pd.DataFrame(fit.scores_)\n",
        "  df = pd.DataFrame(x_train_input)\n",
        "  dfcolumns = pd.DataFrame(df.columns)\n",
        "\n",
        "  # concat two dataframes for better visualization \n",
        "  featureScores = pd.concat([dfcolumns,dfscores],axis=1)\n",
        "  # naming the dataframe columns\n",
        "  featureScores.columns = ['Specs','Score']  \n",
        "\n",
        "  # print 10 best features\n",
        "  print(featureScores.nlargest(10,'Score'))  \n",
        "\n",
        "  # find the columns of the 10 best features\n",
        "  featureScores=featureScores.nlargest(10,'Score').values\n",
        "  col=list(featureScores[:,0])\n",
        "\n",
        "  # returned train data set\n",
        "  features = fit.transform(x_train_input)\n",
        "\n",
        "  # returned test data set\n",
        "  df_test_features = pd.DataFrame(x_test_input)\n",
        "  test_features = df_test_features[col]\n",
        "\n",
        "  return features, test_features.values"
      ],
      "execution_count": null,
      "outputs": []
    },
    {
      "cell_type": "code",
      "metadata": {
        "id": "0M9oa_TtnPJo"
      },
      "source": [
        "def rfe_elimination(model, x_train_input, y_train_output, x_test_input):\n",
        "  # apply Recursive Feature Elimination(RFE) for feature selection\n",
        "\n",
        "  rfe=RFE(model,10)\n",
        "  fit=rfe.fit(x_train_input, y_train_output)\n",
        "  #print(\"Num Features: %d\" % fit.n_features_)\n",
        "  #print(\"Selected Features: %s\" % fit.support_)\n",
        "  #print(\"Feature Ranking: %s\" % fit.ranking_)\n",
        "\n",
        "  dfscores = pd.DataFrame(fit.ranking_)\n",
        "  df = pd.DataFrame(x_train_input)\n",
        "  dfcolumns = pd.DataFrame(df.columns)\n",
        "\n",
        "  # concat two dataframes for better visualization \n",
        "  featureScores = pd.concat([dfcolumns,dfscores],axis=1)\n",
        "  # naming the dataframe columns\n",
        "  featureScores.columns = ['Specs','Score']  \n",
        "  print(featureScores.nsmallest(10,'Score')) \n",
        "\n",
        "  # find the columns of the 10 best features\n",
        "  featureScores=(featureScores.nsmallest(10,'Score')).values\n",
        "  col=list(featureScores[:,0])\n",
        "\n",
        "  # returned train data set\n",
        "  features=fit.transform(x_train_input)\n",
        "\n",
        "  # returned test data set\n",
        "  df_test_features = pd.DataFrame(x_test_input)\n",
        "  test_features = df_test_features[col]\n",
        "\n",
        "  return features, test_features.values"
      ],
      "execution_count": null,
      "outputs": []
    },
    {
      "cell_type": "code",
      "metadata": {
        "id": "PqH5mEPbp-ei"
      },
      "source": [
        "def extra_trees_classifier(x_train_input, y_train_output, x_test_input):\n",
        "  # feature selection with extra tree classifier - Feature Importance\n",
        "\n",
        "  model = ExtraTreesClassifier(random_state=21)\n",
        "  tree=model.fit(x_train_input,y_train_output)\n",
        "  #print(model.feature_importances_)\n",
        "\n",
        "  dfscores = pd.DataFrame(tree.feature_importances_)\n",
        "  df = pd.DataFrame(x_train_input)\n",
        "  dfcolumns = pd.DataFrame(df.columns)\n",
        "  \n",
        "  # concat two dataframes for better visualization \n",
        "  featureScores = pd.concat([dfcolumns,dfscores],axis=1)\n",
        "  # naming the dataframe columns\n",
        "  featureScores.columns = ['Specs','Score']  \n",
        "  featureScores=featureScores.nlargest(10,'Score')\n",
        "  print(featureScores)\n",
        "\n",
        "  # find the columns of the 10 best features\n",
        "  featureScores=featureScores.values\n",
        "  col=list(featureScores[:,0])\n",
        "\n",
        "  # returned train data set\n",
        "  features=df[col]\n",
        "\n",
        "  # returned test data set\n",
        "  df_test_features = pd.DataFrame(x_test_input)\n",
        "  test_features = df_test_features[col]\n",
        "\n",
        "  return features.values, test_features.values"
      ],
      "execution_count": null,
      "outputs": []
    },
    {
      "cell_type": "code",
      "metadata": {
        "id": "yTkwkbZFEEPP"
      },
      "source": [
        "#no need to reshape!!!!\n",
        "#reshape\n",
        "#x_train_norm = x_train_norm.reshape((len(x_train_norm), np.prod(x_train_norm.shape[1:]))) \n",
        "#x_test_norm = x_test_norm.reshape((len(x_test_norm), np.prod(x_test_norm.shape[1:])))\n",
        "#print(x_train_norm.shape)"
      ],
      "execution_count": null,
      "outputs": []
    },
    {
      "cell_type": "code",
      "metadata": {
        "id": "A-nSGFUobMwN"
      },
      "source": [
        "def stacked_autoencoder(x_train_input, x_test_input):\n",
        "  # returns the encoder model of a stacked autoencoder with 2 hidden layers\n",
        "\n",
        "  input = Input(shape=(82,))\n",
        "  hidden_1 = Dense(500, activation='relu')(input)\n",
        "  hidden_2 = Dense(300, activation='relu')(hidden_1)\n",
        "  code = Dense(20, activation='relu')(hidden_2)\n",
        "  hidden_3 = Dense(300, activation='relu')(code)\n",
        "  hidden_4 = Dense(500, activation='relu')(hidden_3) \n",
        "  output = Dense(82, activation='sigmoid')(hidden_4)\n",
        "\n",
        "  # define autoencoder model\n",
        "  autoencoder = Model(inputs=input, outputs=output)\n",
        "  # compile model\n",
        "  autoencoder.compile(optimizer='adam', loss='binary_crossentropy')\n",
        "  # fit model to reconstruct the input\n",
        "  autoencoder.fit(x_train_input, x_train_input, batch_size=200, epochs=20, validation_data=(x_test_input, x_test_input))\n",
        "\n",
        "  # define encoder model\n",
        "  encoder1 = Model(inputs=input, outputs=code)\n",
        "#  # save the encoder model to file\n",
        "#  encoder.save(\"encoder1.h5\")\n",
        "\n",
        "  return encoder1"
      ],
      "execution_count": null,
      "outputs": []
    },
    {
      "cell_type": "code",
      "metadata": {
        "id": "Q9wwaGy4joN0"
      },
      "source": [
        "def denoising_autoencoder(x_train_input, x_test_input):\n",
        "  # returns the encoder model of a denoising autoencoder with 2 hidden layers\n",
        "\n",
        "  # add noise\n",
        "  noise_factor = 0.4\n",
        "  x_train_noisy = x_train_input + noise_factor * np.random.normal(size=x_train_input.shape)\n",
        "  x_test_noisy = x_test_input + noise_factor * np.random.normal(size=x_test_input.shape)\n",
        "  x_train_noisy = np.clip(x_train_noisy, 0.0, 1.0)\n",
        "  x_test_noisy = np.clip(x_test_noisy, 0.0, 1.0)\n",
        "\n",
        "  input = Input(shape=(82,))\n",
        "  hidden_1 = Dense(500, activation='relu')(input)\n",
        "  hidden_2 = Dense(300, activation='relu')(hidden_1)\n",
        "  code = Dense(20, activation='relu')(hidden_2)\n",
        "  hidden_3 = Dense(300, activation='relu')(code)\n",
        "  hidden_4 = Dense(500, activation='relu')(hidden_3) \n",
        "  output = Dense(82, activation='sigmoid')(hidden_4)\n",
        "\n",
        "  #define noisy aytoencoder model\n",
        "  autoencoder_noisy = Model(inputs=input, outputs=output)\n",
        "  # compile the model\n",
        "  autoencoder_noisy.compile(optimizer='adam', loss='binary_crossentropy')\n",
        "  # fit model to reconstruct the input\n",
        "  autoencoder_noisy.fit(x_train_noisy, x_train_noisy, batch_size=200, epochs=20, validation_data=(x_test_noisy, x_test_noisy))\n",
        "\n",
        "  # define the encoder model\n",
        "  encoder2 = Model(inputs=input, outputs=code)\n",
        "  #  # save the encoder model to file\n",
        "  #  encoder.save(\"encoder2.h5\")\n",
        "\n",
        "  return encoder2"
      ],
      "execution_count": null,
      "outputs": []
    },
    {
      "cell_type": "code",
      "metadata": {
        "id": "sNxK6SdZelO9"
      },
      "source": [
        "def sparse_autoencoder(x_train_input, x_test_input):\n",
        "  #returns the encoder model of a sparse autoencoder \n",
        "\n",
        "  input_size = 82\n",
        "  code_size = 20\n",
        "\n",
        "  input = Input(shape=(input_size,))\n",
        "  code = Dense(code_size,activity_regularizer=l1(10e-6), activation='relu')(input) \n",
        "  output = Dense(input_size, activation='sigmoid')(code)\n",
        "\n",
        "  # define autoencoder model\n",
        "  autoencoder_regularized = Model(inputs=input, outputs=output) \n",
        "  # compile the autoencoder model\n",
        "  autoencoder_regularized.compile(optimizer='adam', loss='binary_crossentropy') \n",
        "  # fit autoencoder model to reconstruct the input\n",
        "  autoencoder_regularized.fit(x_train_input, x_train_input, batch_size=200,epochs=20, validation_data=(x_test_input, x_test_input))\n",
        "  \n",
        "  # define the encoder model\n",
        "  encoder3 = Model(input, code)\n",
        "  #  # save the encoder model to file\n",
        "  #  encoder.save(\"encoder3.h5\")\n",
        "\n",
        "  return encoder3"
      ],
      "execution_count": null,
      "outputs": []
    },
    {
      "cell_type": "code",
      "metadata": {
        "id": "5yvE42mfZOl-"
      },
      "source": [
        "def encoder_transformation(encoder, x_train_input, x_test_input):\n",
        "  # use the encoder models to transform the data\n",
        "\n",
        "  # train_data transformation\n",
        "  x_train_encoded = encoder.predict(x_train_input)\n",
        "  # test data transformation\n",
        "  x_test_encoded = encoder.predict(x_test_input)\n",
        "\n",
        "  return x_train_encoded, x_test_encoded"
      ],
      "execution_count": null,
      "outputs": []
    },
    {
      "cell_type": "code",
      "metadata": {
        "id": "WHefLBK23CgZ"
      },
      "source": [
        "def mixed_data(train1, train2, test1, test2):\n",
        "  # concatenates columns wise 2 numpy arrays\n",
        "  # in order to combine original and extracted data\n",
        "\n",
        "  train_array = np.concatenate((train1, train2), axis=1)\n",
        "  test_array = np.concatenate((test1, test2), axis=1)\n",
        "\n",
        "  return train_array, test_array"
      ],
      "execution_count": null,
      "outputs": []
    },
    {
      "cell_type": "code",
      "metadata": {
        "id": "V5gT_0oYKs8X"
      },
      "source": [
        "def compare_algorithms_2(x_train_input, y_train_output, x_test_input, y_test_output):\n",
        "\n",
        "  # applying a selection of models from compare_algorithms method\n",
        "  # prints the validation accuracy (using K-Folf method on the train data set)\n",
        "  # and the test accuracy, AUC metric, classification report and \n",
        "  # time to built (TBM) and to test (TTM) the model \n",
        "\n",
        "  models=[]\n",
        "  models.append(('LR', LogisticRegression(solver='liblinear'))) \n",
        "  models.append(('LDA', LinearDiscriminantAnalysis()))\n",
        "  models.append(('LnSVC', LinearSVC()))\n",
        "  \n",
        "  for name, model in models:\n",
        "\n",
        "    start = time.time()\n",
        "    model.fit(x_train_input, y_train_output)\n",
        "    train_time = time.time()\n",
        "\n",
        "    test_prediction = model.predict(x_test_input)\n",
        "    matrix = confusion_matrix(y_test_output, test_prediction)\n",
        "    acc = round(accuracy_score(y_test_output, test_prediction),3)\n",
        "    DR = round(recall_score(y_test_output, test_prediction),3)\n",
        "    Prec = round(precision_score(y_test_output, test_prediction),3)\n",
        "    FAR = round(float(matrix[0][1] / (matrix[0][1] + matrix[0][0])),3)\n",
        "    FNR = round(float(matrix[1][0] / (matrix[1][0] + matrix[1][1])),3)\n",
        "    Type_1 = matrix[0][1]\n",
        "    Type_2 = matrix[1][0]\n",
        "    \n",
        "    test_time = time.time()\n",
        "    \n",
        "    print(\"%s:\" % (name))\n",
        "    print(matrix)\n",
        "    print(\"acc: \",acc,\" / DR: \",DR,\" / Prec: \",Prec,\" / FAR: \",FAR,\" / FNR: \",FNR)\n",
        "    print(\"Type I error: \",Type_1, \" / Type II error: \",Type_2)  \n",
        "    print(\"TBM: \",round(train_time-start,2))\n",
        "    print(\"TTM: \",round(test_time-train_time,2), \"\\n\")\n"
      ],
      "execution_count": null,
      "outputs": []
    },
    {
      "cell_type": "code",
      "metadata": {
        "id": "hGoncg6iBrnA"
      },
      "source": [
        "def mixed_data_2(x_train_input, y_train_output):\n",
        "  # concatenates columns wise 2 numpy arrays\n",
        "  # to create a data set (dataframe) that contains both x and y variables\n",
        "\n",
        "  train_array = np.concatenate((x_train_input, y_train_output.reshape(-1,1)), axis=1)\n",
        "  df_train_array = pd.DataFrame(train_array)\n",
        "  \n",
        "  return df_train_array"
      ],
      "execution_count": null,
      "outputs": []
    },
    {
      "cell_type": "code",
      "metadata": {
        "id": "Sf2viYDoyOo3"
      },
      "source": [
        "def reduced_data(df_data, new_size=600):\n",
        "  # creates a reduced dataset in order to minimize time needed for grid search\n",
        "\n",
        "  number_of_rows = df_data.shape[0]\n",
        "  random_indices = np.random.choice(number_of_rows, size=new_size, replace=False)\n",
        "  random_rows = df_data.values[random_indices, :]\n",
        "\n",
        "  X=random_rows[:,0:(len(df_data.columns)-1)]\n",
        "  Y=random_rows[:,(len(df_data.columns)-1)]\n",
        "\n",
        "  return X,Y"
      ],
      "execution_count": null,
      "outputs": []
    },
    {
      "cell_type": "markdown",
      "metadata": {
        "id": "KxJd23Hyp39u"
      },
      "source": [
        "RUN"
      ]
    },
    {
      "cell_type": "markdown",
      "metadata": {
        "id": "K76ClZgz5vu0"
      },
      "source": [
        "DEALING WITH THE DATA"
      ]
    },
    {
      "cell_type": "code",
      "metadata": {
        "id": "8UunGMNRNXAT"
      },
      "source": [
        "#load the data\n",
        "filename1 =\"train_imperson_without4n7_balanced_data.csv\"\n",
        "filename2 =\"test_imperson_without4n7_balanced_data.csv\"\n",
        "\n",
        "df_train_data = read_csv(filename1)\n",
        "df_test_data = read_csv(filename2)\n",
        "\n",
        "\n",
        "# apply constant column filter\n",
        "\n",
        "# not matched constant columns in the train and test data set\n",
        "\n",
        "# merge them to one data set\n",
        "df_full_data = df_train_data.append(df_test_data)\n",
        "\n",
        "#apply the filter\n",
        "df_full_data_filtered = filter_constant_columns(df_full_data)\n",
        "\n",
        "# separate the data sets\n",
        "df_train_data_filtered = df_full_data_filtered[0:97044]\n",
        "df_test_data_filtered = df_full_data_filtered[97044:]\n",
        "\n",
        "\n",
        "#separate the filtered x,y\n",
        "x_train = df_train_data_filtered[df_train_data_filtered.columns[:-1]].values\n",
        "y_train = df_train_data_filtered[df_train_data_filtered.columns[-1]].values\n",
        "x_test = df_test_data_filtered[df_test_data_filtered.columns[:-1]].values\n",
        "y_test = df_test_data_filtered[df_test_data_filtered.columns[-1]].values"
      ],
      "execution_count": null,
      "outputs": []
    },
    {
      "cell_type": "code",
      "metadata": {
        "id": "ghXPi-v--9Yt"
      },
      "source": [
        "x_train_norm, x_test_norm = normalize(x_train, x_test)"
      ],
      "execution_count": null,
      "outputs": []
    },
    {
      "cell_type": "code",
      "metadata": {
        "id": "FwOrcHT105K0"
      },
      "source": [
        "x_train_resc, x_test_resc = rescale(x_train, x_test)"
      ],
      "execution_count": null,
      "outputs": []
    },
    {
      "cell_type": "markdown",
      "metadata": {
        "id": "VMhTSMRZ9jUn"
      },
      "source": [
        "FITTING MODELS TO COMPARE, USING: Raw data / Normalized data / Rescaled data"
      ]
    },
    {
      "cell_type": "code",
      "metadata": {
        "colab": {
          "base_uri": "https://localhost:8080/"
        },
        "id": "yvrwOm0DpVvq",
        "outputId": "9c039da5-9c49-44a6-b2c2-17bdd4ff4b40"
      },
      "source": [
        "# fitting models to raw data\n",
        "compare_algorithms(x_train, y_train, x_test, y_test)"
      ],
      "execution_count": null,
      "outputs": [
        {
          "output_type": "stream",
          "text": [
            "LR: train_acc: 0.992 / test_acc: 0.868\n",
            "LDA: train_acc: 0.985 / test_acc: 0.931\n",
            "KNN: train_acc: 0.999 / test_acc: 0.534\n",
            "SVC: train_acc: 0.995 / test_acc: 0.530\n",
            "LnSVC: train_acc: 0.995 / test_acc: 0.652\n"
          ],
          "name": "stdout"
        }
      ]
    },
    {
      "cell_type": "code",
      "metadata": {
        "colab": {
          "base_uri": "https://localhost:8080/"
        },
        "id": "HqcPfwG2sIX3",
        "outputId": "10f93136-04a5-4b3f-93c3-156bab44f548"
      },
      "source": [
        "# fitting models to normalized data\n",
        "compare_algorithms(x_train_norm, y_train, x_test_norm, y_test)"
      ],
      "execution_count": null,
      "outputs": [
        {
          "output_type": "stream",
          "text": [
            "LR: train_acc: 0.989 / test_acc: 0.965\n",
            "LDA: train_acc: 0.985 / test_acc: 0.614\n",
            "KNN: train_acc: 0.999 / test_acc: 0.532\n",
            "SVC: train_acc: 0.995 / test_acc: 0.531\n",
            "LnSVC: train_acc: 0.992 / test_acc: 0.525\n"
          ],
          "name": "stdout"
        }
      ]
    },
    {
      "cell_type": "code",
      "metadata": {
        "colab": {
          "base_uri": "https://localhost:8080/"
        },
        "id": "2ddemxPoeRWQ",
        "outputId": "1bacf737-02b6-4a67-c46e-556dbfba7095"
      },
      "source": [
        "# fitting models to rescaled data\n",
        "compare_algorithms(x_train_resc, y_train, x_test_resc, y_test)"
      ],
      "execution_count": null,
      "outputs": [
        {
          "output_type": "stream",
          "text": [
            "LR: train_acc: 0.996 / test_acc: 0.506\n",
            "LDA: train_acc: 0.985 / test_acc: 0.931\n",
            "KNN: train_acc: 1.000 / test_acc: 0.536\n",
            "SVC: train_acc: 0.997 / test_acc: 0.499\n",
            "LnSVC: train_acc: 0.997 / test_acc: 0.509\n"
          ],
          "name": "stdout"
        }
      ]
    },
    {
      "cell_type": "markdown",
      "metadata": {
        "id": "RhzBVdyXe4JK"
      },
      "source": [
        "FEATURE SELECTION (TOP 10 FEATURES) USING: K-BEST / RFE / EXTRA TREES"
      ]
    },
    {
      "cell_type": "code",
      "metadata": {
        "colab": {
          "base_uri": "https://localhost:8080/"
        },
        "id": "chfPKEsKDaQ7",
        "outputId": "6d2f15d3-86e6-4477-da7b-e9554e4ec140"
      },
      "source": [
        "# K-Best method for raw data\n",
        "kbest_train_features, kbest_test_features = kbest(x_train, y_train, x_test)"
      ],
      "execution_count": null,
      "outputs": [
        {
          "output_type": "stream",
          "text": [
            "    Specs         Score\n",
            "26     26  32124.682195\n",
            "16     16  28936.000138\n",
            "22     22  28321.490224\n",
            "13     13  24346.021809\n",
            "81     81  13311.733744\n",
            "15     15  12317.666392\n",
            "2       2  12076.290588\n",
            "3       3  12076.290588\n",
            "23     23   7911.296191\n",
            "36     36   7720.479234\n"
          ],
          "name": "stdout"
        }
      ]
    },
    {
      "cell_type": "code",
      "metadata": {
        "colab": {
          "base_uri": "https://localhost:8080/"
        },
        "id": "f_B2k0e1DbTA",
        "outputId": "1c6e4845-1571-49ac-90ef-e61ebfdaaef0"
      },
      "source": [
        "# K-Best method for normalized data\n",
        "kbest_train_features_norm, kbest_test_features_norm = kbest(x_train_norm, y_train, x_test_norm)"
      ],
      "execution_count": null,
      "outputs": [
        {
          "output_type": "stream",
          "text": [
            "    Specs        Score\n",
            "26     26  7185.552254\n",
            "22     22  6458.853639\n",
            "16     16  6265.412604\n",
            "13     13  5162.369647\n",
            "81     81  2648.775398\n",
            "15     15  2569.185754\n",
            "2       2  2378.606418\n",
            "3       3  2378.606418\n",
            "23     23  2091.641720\n",
            "28     28  1758.070006\n"
          ],
          "name": "stdout"
        }
      ]
    },
    {
      "cell_type": "code",
      "metadata": {
        "colab": {
          "base_uri": "https://localhost:8080/"
        },
        "id": "u-2LbYOhAKvr",
        "outputId": "82c223df-d773-499c-955b-84919432ab6d"
      },
      "source": [
        "# K-Best method for rescaled data\n",
        "kbest_train_features_resc, kbest_test_features_resc = kbest(x_train_resc, y_train, x_test_resc)"
      ],
      "execution_count": null,
      "outputs": [
        {
          "output_type": "stream",
          "text": [
            "    Specs         Score\n",
            "26     26  32124.682195\n",
            "16     16  28936.000138\n",
            "22     22  28321.490224\n",
            "13     13  24346.021809\n",
            "81     81  13311.733744\n",
            "15     15  12317.666392\n",
            "2       2  12076.290588\n",
            "3       3  12076.290588\n",
            "23     23   7911.296191\n",
            "36     36   7720.479234\n"
          ],
          "name": "stdout"
        }
      ]
    },
    {
      "cell_type": "code",
      "metadata": {
        "colab": {
          "base_uri": "https://localhost:8080/"
        },
        "id": "AVYdEmXfDbdb",
        "outputId": "51d5b24d-4272-4fc2-cddf-5104788dbe4b"
      },
      "source": [
        "# Recursive Feature Elimination method for raw data\n",
        "rfe_train_features, rfe_test_features = rfe_elimination(LogisticRegression(solver='liblinear'), x_train, y_train, x_test)"
      ],
      "execution_count": null,
      "outputs": [
        {
          "output_type": "stream",
          "text": [
            "    Specs  Score\n",
            "3       3      1\n",
            "13     13      1\n",
            "22     22      1\n",
            "25     25      1\n",
            "36     36      1\n",
            "44     44      1\n",
            "46     46      1\n",
            "50     50      1\n",
            "55     55      1\n",
            "74     74      1\n"
          ],
          "name": "stdout"
        }
      ]
    },
    {
      "cell_type": "code",
      "metadata": {
        "colab": {
          "base_uri": "https://localhost:8080/"
        },
        "id": "zWbFiNooFVZy",
        "outputId": "a7b08bbf-bd59-4cf3-d91d-4fa42782d744"
      },
      "source": [
        "# Recursive Feature Elimination method for normalized data\n",
        "rfe_train_features_norm, rfe_test_features_norm = rfe_elimination(LogisticRegression(solver='liblinear'), x_train_norm, y_train, x_test_norm)"
      ],
      "execution_count": null,
      "outputs": [
        {
          "output_type": "stream",
          "text": [
            "    Specs  Score\n",
            "13     13      1\n",
            "15     15      1\n",
            "18     18      1\n",
            "22     22      1\n",
            "26     26      1\n",
            "36     36      1\n",
            "44     44      1\n",
            "46     46      1\n",
            "69     69      1\n",
            "73     73      1\n"
          ],
          "name": "stdout"
        }
      ]
    },
    {
      "cell_type": "code",
      "metadata": {
        "colab": {
          "base_uri": "https://localhost:8080/"
        },
        "id": "odiRrBypgliG",
        "outputId": "78cc7844-4721-4bc9-b442-b270489bf82c"
      },
      "source": [
        "# Recursive Feature Elimination method for rescaled data\n",
        "rfe_train_features_resc, rfe_test_features_resc = rfe_elimination(LogisticRegression(solver='liblinear'), x_train_resc, y_train, x_test_resc)"
      ],
      "execution_count": null,
      "outputs": [
        {
          "output_type": "stream",
          "text": [
            "    Specs  Score\n",
            "13     13      1\n",
            "20     20      1\n",
            "23     23      1\n",
            "25     25      1\n",
            "36     36      1\n",
            "50     50      1\n",
            "51     51      1\n",
            "55     55      1\n",
            "62     62      1\n",
            "74     74      1\n"
          ],
          "name": "stdout"
        }
      ]
    },
    {
      "cell_type": "code",
      "metadata": {
        "colab": {
          "base_uri": "https://localhost:8080/"
        },
        "id": "yoJzUpGNFlXU",
        "outputId": "a8ac4784-f326-4688-f667-c04331c8f988"
      },
      "source": [
        "# Extra Trees Classifier method for raw data\n",
        "extree_train_features, extree_test_features = extra_trees_classifier(x_train, y_train, x_test)"
      ],
      "execution_count": null,
      "outputs": [
        {
          "output_type": "stream",
          "text": [
            "    Specs     Score\n",
            "15     15  0.109607\n",
            "26     26  0.105623\n",
            "22     22  0.098700\n",
            "13     13  0.068557\n",
            "16     16  0.062296\n",
            "23     23  0.060353\n",
            "28     28  0.052966\n",
            "11     11  0.051659\n",
            "36     36  0.047049\n",
            "21     21  0.032328\n"
          ],
          "name": "stdout"
        }
      ]
    },
    {
      "cell_type": "code",
      "metadata": {
        "colab": {
          "base_uri": "https://localhost:8080/"
        },
        "id": "IRSY3vSlFp0M",
        "outputId": "be05f53d-eda8-447e-a755-bd748b5d3b93"
      },
      "source": [
        "# Extra Trees Classifier method for normalized data\n",
        "extree_train_features_norm, extree_test_features_norm = extra_trees_classifier(x_train_norm, y_train, x_test_norm)"
      ],
      "execution_count": null,
      "outputs": [
        {
          "output_type": "stream",
          "text": [
            "    Specs     Score\n",
            "26     26  0.100260\n",
            "15     15  0.088078\n",
            "22     22  0.073067\n",
            "16     16  0.070049\n",
            "13     13  0.050870\n",
            "28     28  0.048229\n",
            "36     36  0.036058\n",
            "75     75  0.033650\n",
            "23     23  0.033624\n",
            "11     11  0.031078\n"
          ],
          "name": "stdout"
        }
      ]
    },
    {
      "cell_type": "code",
      "metadata": {
        "colab": {
          "base_uri": "https://localhost:8080/"
        },
        "id": "4TxoNGth8guq",
        "outputId": "8c7b9229-4a9b-471e-bdb0-abea22fe9d39"
      },
      "source": [
        "# Extra Trees Classifier method for rescaled data\n",
        "extree_train_features_resc, extree_test_features_resc = extra_trees_classifier(x_train_resc, y_train, x_test_resc)"
      ],
      "execution_count": null,
      "outputs": [
        {
          "output_type": "stream",
          "text": [
            "    Specs     Score\n",
            "15     15  0.109607\n",
            "26     26  0.105623\n",
            "22     22  0.098700\n",
            "13     13  0.068557\n",
            "16     16  0.062296\n",
            "23     23  0.060353\n",
            "28     28  0.052966\n",
            "11     11  0.051659\n",
            "36     36  0.047049\n",
            "21     21  0.032328\n"
          ],
          "name": "stdout"
        }
      ]
    },
    {
      "cell_type": "markdown",
      "metadata": {
        "id": "JRgjjuRX8ckL"
      },
      "source": [
        "MODEL EVALUATION WITH SELECTED FEATURES"
      ]
    },
    {
      "cell_type": "code",
      "metadata": {
        "id": "L3DLrpW7IkE6"
      },
      "source": [
        "# raw data"
      ],
      "execution_count": null,
      "outputs": []
    },
    {
      "cell_type": "code",
      "metadata": {
        "colab": {
          "base_uri": "https://localhost:8080/"
        },
        "id": "2TsOIMuN8I5B",
        "outputId": "4027884f-3ea6-46e0-d1a8-f55ad43fa089"
      },
      "source": [
        "# compare models using top 10 features from K-Best for raw data\n",
        "compare_algorithms(kbest_train_features, y_train, kbest_test_features, y_test)"
      ],
      "execution_count": null,
      "outputs": [
        {
          "output_type": "stream",
          "text": [
            "LR: train_acc: 0.961 / test_acc: 0.500\n",
            "LDA: train_acc: 0.929 / test_acc: 0.277\n",
            "KNN: train_acc: 0.999 / test_acc: 0.500\n",
            "SVC: train_acc: 0.992 / test_acc: 0.500\n",
            "LnSVC: train_acc: 0.960 / test_acc: 0.500\n"
          ],
          "name": "stdout"
        }
      ]
    },
    {
      "cell_type": "code",
      "metadata": {
        "colab": {
          "base_uri": "https://localhost:8080/"
        },
        "id": "F_cZSXi08Ki9",
        "outputId": "297bd1a5-0a3d-4b79-e1ca-9777d457e494"
      },
      "source": [
        "# compare models using top 10 features from RFE for raw data\n",
        "compare_algorithms(rfe_train_features, y_train, rfe_test_features, y_test)"
      ],
      "execution_count": null,
      "outputs": [
        {
          "output_type": "stream",
          "text": [
            "LR: train_acc: 0.985 / test_acc: 0.861\n",
            "LDA: train_acc: 0.969 / test_acc: 0.820\n",
            "KNN: train_acc: 1.000 / test_acc: 0.531\n",
            "SVC: train_acc: 0.997 / test_acc: 0.521\n",
            "LnSVC: train_acc: 0.993 / test_acc: 0.866\n"
          ],
          "name": "stdout"
        }
      ]
    },
    {
      "cell_type": "code",
      "metadata": {
        "colab": {
          "base_uri": "https://localhost:8080/"
        },
        "id": "QQAeaDaE8KuT",
        "outputId": "16245c45-afff-4693-d258-3c5327e29fd2"
      },
      "source": [
        "# compare models using top 10 features from Extra Trees for raw data\n",
        "compare_algorithms(extree_train_features, y_train, extree_test_features, y_test)"
      ],
      "execution_count": null,
      "outputs": [
        {
          "output_type": "stream",
          "text": [
            "LR: train_acc: 0.970 / test_acc: 0.959\n",
            "LDA: train_acc: 0.938 / test_acc: 0.916\n",
            "KNN: train_acc: 0.998 / test_acc: 0.521\n",
            "SVC: train_acc: 0.988 / test_acc: 0.502\n",
            "LnSVC: train_acc: 0.971 / test_acc: 0.958\n"
          ],
          "name": "stdout"
        }
      ]
    },
    {
      "cell_type": "code",
      "metadata": {
        "id": "wbCWrQMlIoPH"
      },
      "source": [
        "# normalized data"
      ],
      "execution_count": null,
      "outputs": []
    },
    {
      "cell_type": "code",
      "metadata": {
        "colab": {
          "base_uri": "https://localhost:8080/"
        },
        "id": "VFmIHHIf8640",
        "outputId": "cd9415e9-1ace-40ea-e344-b135ca2f238e"
      },
      "source": [
        "# compare models using top 10 features from K-Best for normalized data\n",
        "compare_algorithms(kbest_train_features_norm, y_train, kbest_test_features_norm, y_test)"
      ],
      "execution_count": null,
      "outputs": [
        {
          "output_type": "stream",
          "text": [
            "LR: train_acc: 0.929 / test_acc: 0.500\n",
            "LDA: train_acc: 0.928 / test_acc: 0.675\n",
            "KNN: train_acc: 0.998 / test_acc: 0.500\n",
            "SVC: train_acc: 0.982 / test_acc: 0.500\n",
            "LnSVC: train_acc: 0.941 / test_acc: 0.499\n"
          ],
          "name": "stdout"
        }
      ]
    },
    {
      "cell_type": "code",
      "metadata": {
        "colab": {
          "base_uri": "https://localhost:8080/"
        },
        "id": "5JeVgY8_87Sl",
        "outputId": "b1a10bf0-1e30-4eab-9cd2-028221c3abff"
      },
      "source": [
        "# compare models using top 10 features from RFE for normalized data\n",
        "compare_algorithms(rfe_train_features_norm, y_train, rfe_test_features_norm, y_test)"
      ],
      "execution_count": null,
      "outputs": [
        {
          "output_type": "stream",
          "text": [
            "LR: train_acc: 0.987 / test_acc: 0.520\n",
            "LDA: train_acc: 0.974 / test_acc: 0.958\n",
            "KNN: train_acc: 0.999 / test_acc: 0.532\n",
            "SVC: train_acc: 0.992 / test_acc: 0.527\n",
            "LnSVC: train_acc: 0.988 / test_acc: 0.519\n"
          ],
          "name": "stdout"
        }
      ]
    },
    {
      "cell_type": "code",
      "metadata": {
        "colab": {
          "base_uri": "https://localhost:8080/"
        },
        "id": "v2NL0Wxw87XO",
        "outputId": "e6ae9594-dfc3-4e15-a262-23bdaebf83d7"
      },
      "source": [
        "# compare models using top 10 features from Extra Trees for normalized data\n",
        "compare_algorithms(extree_train_features_norm, y_train, extree_test_features_norm, y_test)"
      ],
      "execution_count": null,
      "outputs": [
        {
          "output_type": "stream",
          "text": [
            "LR: train_acc: 0.954 / test_acc: 0.964\n",
            "LDA: train_acc: 0.934 / test_acc: 0.907\n",
            "KNN: train_acc: 0.999 / test_acc: 0.528\n",
            "SVC: train_acc: 0.989 / test_acc: 0.507\n",
            "LnSVC: train_acc: 0.962 / test_acc: 0.967\n"
          ],
          "name": "stdout"
        }
      ]
    },
    {
      "cell_type": "code",
      "metadata": {
        "id": "RYYrr87QIspf"
      },
      "source": [
        "# rescaled data"
      ],
      "execution_count": null,
      "outputs": []
    },
    {
      "cell_type": "code",
      "metadata": {
        "colab": {
          "base_uri": "https://localhost:8080/"
        },
        "id": "YDdK1mPUwj9u",
        "outputId": "26dd5b59-6bce-4ced-efc4-0d413b0de402"
      },
      "source": [
        "# compare models using top 10 features from K-Best for rescaled data\n",
        "compare_algorithms(kbest_train_features_resc, y_train, kbest_test_features_resc, y_test)"
      ],
      "execution_count": null,
      "outputs": [
        {
          "output_type": "stream",
          "text": [
            "LR: train_acc: 0.961 / test_acc: 0.500\n",
            "LDA: train_acc: 0.929 / test_acc: 0.277\n",
            "KNN: train_acc: 0.999 / test_acc: 0.500\n",
            "SVC: train_acc: 0.992 / test_acc: 0.500\n",
            "LnSVC: train_acc: 0.960 / test_acc: 0.500\n"
          ],
          "name": "stdout"
        }
      ]
    },
    {
      "cell_type": "code",
      "metadata": {
        "colab": {
          "base_uri": "https://localhost:8080/"
        },
        "id": "EEZ6j4DJ1_2c",
        "outputId": "6ea20d4b-0695-4856-8b36-2a3fc3ee2a5c"
      },
      "source": [
        "# compare models using top 10 features from RFE for rescaled data\n",
        "compare_algorithms(rfe_train_features_resc, y_train, rfe_test_features_resc, y_test)"
      ],
      "execution_count": null,
      "outputs": [
        {
          "output_type": "stream",
          "text": [
            "LR: train_acc: 0.992 / test_acc: 0.813\n",
            "LDA: train_acc: 0.980 / test_acc: 0.783\n",
            "KNN: train_acc: 0.999 / test_acc: 0.535\n",
            "SVC: train_acc: 0.997 / test_acc: 0.494\n",
            "LnSVC: train_acc: 0.995 / test_acc: 0.816\n"
          ],
          "name": "stdout"
        }
      ]
    },
    {
      "cell_type": "code",
      "metadata": {
        "colab": {
          "base_uri": "https://localhost:8080/"
        },
        "id": "wcN_JfGV13TP",
        "outputId": "ba83de35-da80-44a6-c865-d2359a7b2feb"
      },
      "source": [
        "# compare models using top 10 features from Extra Trees for rescaled data\n",
        "compare_algorithms(extree_train_features_resc, y_train, extree_test_features_resc, y_test)"
      ],
      "execution_count": null,
      "outputs": [
        {
          "output_type": "stream",
          "text": [
            "LR: train_acc: 0.969 / test_acc: 0.959\n",
            "LDA: train_acc: 0.938 / test_acc: 0.916\n",
            "KNN: train_acc: 0.998 / test_acc: 0.521\n",
            "SVC: train_acc: 0.988 / test_acc: 0.502\n",
            "LnSVC: train_acc: 0.971 / test_acc: 0.958\n"
          ],
          "name": "stdout"
        }
      ]
    },
    {
      "cell_type": "markdown",
      "metadata": {
        "id": "pTCG65_Ay2Qf"
      },
      "source": [
        "USE OF AUTOENCODERS FOR FEATURE EXTRACTION: STACKED / DENOISING / SPARSE\n",
        "\n",
        "---\n",
        "\n",
        "\n"
      ]
    },
    {
      "cell_type": "code",
      "metadata": {
        "colab": {
          "base_uri": "https://localhost:8080/"
        },
        "id": "RzKXtUwLVXGm",
        "outputId": "a819a070-ec1a-4d1e-9596-881057c735b7"
      },
      "source": [
        "# creating the encoder model of the stacked autoencoder\n",
        "# for the raw, normalized and rescaled data\n",
        "\n",
        "encoder1_raw = stacked_autoencoder(x_train, x_test)\n",
        "encoder1_norm = stacked_autoencoder(x_train_norm, x_test_norm)\n",
        "encoder1_resc = stacked_autoencoder(x_train_resc, x_test_resc)\n"
      ],
      "execution_count": null,
      "outputs": [
        {
          "output_type": "stream",
          "text": [
            "Epoch 1/20\n",
            "486/486 [==============================] - 10s 19ms/step - loss: 0.1386 - val_loss: 0.5030\n",
            "Epoch 2/20\n",
            "486/486 [==============================] - 9s 18ms/step - loss: 0.0604 - val_loss: 0.4983\n",
            "Epoch 3/20\n",
            "486/486 [==============================] - 9s 18ms/step - loss: 0.0597 - val_loss: 0.4690\n",
            "Epoch 4/20\n",
            "486/486 [==============================] - 9s 18ms/step - loss: 0.0593 - val_loss: 0.4574\n",
            "Epoch 5/20\n",
            "486/486 [==============================] - 9s 18ms/step - loss: 0.0592 - val_loss: 0.4353\n",
            "Epoch 6/20\n",
            "486/486 [==============================] - 9s 18ms/step - loss: 0.0591 - val_loss: 0.4323\n",
            "Epoch 7/20\n",
            "486/486 [==============================] - 9s 18ms/step - loss: 0.0590 - val_loss: 0.4107\n",
            "Epoch 8/20\n",
            "486/486 [==============================] - 9s 18ms/step - loss: 0.0590 - val_loss: 0.4075\n",
            "Epoch 9/20\n",
            "486/486 [==============================] - 9s 18ms/step - loss: 0.0589 - val_loss: 0.4077\n",
            "Epoch 10/20\n",
            "486/486 [==============================] - 9s 19ms/step - loss: 0.0589 - val_loss: 0.4058\n",
            "Epoch 11/20\n",
            "486/486 [==============================] - 9s 19ms/step - loss: 0.0588 - val_loss: 0.4099\n",
            "Epoch 12/20\n",
            "486/486 [==============================] - 9s 19ms/step - loss: 0.0588 - val_loss: 0.4178\n",
            "Epoch 13/20\n",
            "486/486 [==============================] - 9s 18ms/step - loss: 0.0589 - val_loss: 0.4196\n",
            "Epoch 14/20\n",
            "486/486 [==============================] - 9s 18ms/step - loss: 0.0588 - val_loss: 0.4172\n",
            "Epoch 15/20\n",
            "486/486 [==============================] - 9s 18ms/step - loss: 0.0588 - val_loss: 0.4230\n",
            "Epoch 16/20\n",
            "486/486 [==============================] - 9s 18ms/step - loss: 0.0588 - val_loss: 0.4247\n",
            "Epoch 17/20\n",
            "486/486 [==============================] - 9s 18ms/step - loss: 0.0594 - val_loss: 0.4382\n",
            "Epoch 18/20\n",
            "486/486 [==============================] - 9s 18ms/step - loss: 0.0590 - val_loss: 0.4665\n",
            "Epoch 19/20\n",
            "486/486 [==============================] - 9s 18ms/step - loss: 0.0588 - val_loss: 0.4768\n",
            "Epoch 20/20\n",
            "486/486 [==============================] - 9s 18ms/step - loss: 0.0587 - val_loss: 0.4730\n",
            "Epoch 1/20\n",
            "486/486 [==============================] - 9s 18ms/step - loss: 0.2120 - val_loss: 0.1740\n",
            "Epoch 2/20\n",
            "486/486 [==============================] - 9s 19ms/step - loss: 0.1476 - val_loss: 0.1757\n",
            "Epoch 3/20\n",
            "486/486 [==============================] - 9s 18ms/step - loss: 0.1473 - val_loss: 0.1755\n",
            "Epoch 4/20\n",
            "486/486 [==============================] - 9s 18ms/step - loss: 0.1471 - val_loss: 0.1759\n",
            "Epoch 5/20\n",
            "486/486 [==============================] - 9s 18ms/step - loss: 0.1469 - val_loss: 0.1751\n",
            "Epoch 6/20\n",
            "486/486 [==============================] - 9s 18ms/step - loss: 0.1470 - val_loss: 0.1740\n",
            "Epoch 7/20\n",
            "486/486 [==============================] - 9s 18ms/step - loss: 0.1468 - val_loss: 0.1736\n",
            "Epoch 8/20\n",
            "486/486 [==============================] - 9s 18ms/step - loss: 0.1469 - val_loss: 0.1730\n",
            "Epoch 9/20\n",
            "486/486 [==============================] - 9s 18ms/step - loss: 0.1468 - val_loss: 0.1724\n",
            "Epoch 10/20\n",
            "486/486 [==============================] - 9s 18ms/step - loss: 0.1468 - val_loss: 0.1722\n",
            "Epoch 11/20\n",
            "486/486 [==============================] - 9s 18ms/step - loss: 0.1468 - val_loss: 0.1723\n",
            "Epoch 12/20\n",
            "486/486 [==============================] - 9s 18ms/step - loss: 0.1468 - val_loss: 0.1721\n",
            "Epoch 13/20\n",
            "486/486 [==============================] - 9s 18ms/step - loss: 0.1468 - val_loss: 0.1719\n",
            "Epoch 14/20\n",
            "486/486 [==============================] - 9s 18ms/step - loss: 0.1468 - val_loss: 0.1724\n",
            "Epoch 15/20\n",
            "486/486 [==============================] - 9s 18ms/step - loss: 0.1468 - val_loss: 0.1725\n",
            "Epoch 16/20\n",
            "486/486 [==============================] - 9s 18ms/step - loss: 0.1467 - val_loss: 0.1726\n",
            "Epoch 17/20\n",
            "486/486 [==============================] - 9s 18ms/step - loss: 0.1468 - val_loss: 0.1727\n",
            "Epoch 18/20\n",
            "486/486 [==============================] - 9s 18ms/step - loss: 0.1467 - val_loss: 0.1735\n",
            "Epoch 19/20\n",
            "486/486 [==============================] - 9s 18ms/step - loss: 0.1468 - val_loss: 0.1736\n",
            "Epoch 20/20\n",
            "486/486 [==============================] - 9s 18ms/step - loss: 0.1468 - val_loss: 0.1742\n",
            "Epoch 1/20\n",
            "486/486 [==============================] - 10s 19ms/step - loss: 0.1324 - val_loss: -2535183.7500\n",
            "Epoch 2/20\n",
            "486/486 [==============================] - 9s 18ms/step - loss: 0.0520 - val_loss: -1052290.8750\n",
            "Epoch 3/20\n",
            "486/486 [==============================] - 9s 18ms/step - loss: 0.0509 - val_loss: -2328825.2500\n",
            "Epoch 4/20\n",
            "486/486 [==============================] - 9s 19ms/step - loss: 0.0506 - val_loss: -3416747.7500\n",
            "Epoch 5/20\n",
            "486/486 [==============================] - 9s 18ms/step - loss: 0.0504 - val_loss: -2125535.2500\n",
            "Epoch 6/20\n",
            "486/486 [==============================] - 9s 18ms/step - loss: 0.0502 - val_loss: -4076310.5000\n",
            "Epoch 7/20\n",
            "486/486 [==============================] - 9s 19ms/step - loss: 0.0502 - val_loss: -3625343.2500\n",
            "Epoch 8/20\n",
            "486/486 [==============================] - 9s 19ms/step - loss: 0.0501 - val_loss: -1998714.3750\n",
            "Epoch 9/20\n",
            "486/486 [==============================] - 9s 18ms/step - loss: 0.0501 - val_loss: -3162857.2500\n",
            "Epoch 10/20\n",
            "486/486 [==============================] - 9s 18ms/step - loss: 0.0501 - val_loss: -5160106.5000\n",
            "Epoch 11/20\n",
            "486/486 [==============================] - 9s 18ms/step - loss: 0.0500 - val_loss: -2605667.2500\n",
            "Epoch 12/20\n",
            "486/486 [==============================] - 9s 18ms/step - loss: 0.0500 - val_loss: -4776541.0000\n",
            "Epoch 13/20\n",
            "486/486 [==============================] - 9s 18ms/step - loss: 0.0500 - val_loss: -3727119.2500\n",
            "Epoch 14/20\n",
            "486/486 [==============================] - 9s 18ms/step - loss: 0.0500 - val_loss: -3315714.7500\n",
            "Epoch 15/20\n",
            "486/486 [==============================] - 9s 18ms/step - loss: 0.0499 - val_loss: -4908362.0000\n",
            "Epoch 16/20\n",
            "486/486 [==============================] - 9s 18ms/step - loss: 0.0499 - val_loss: -7276262.0000\n",
            "Epoch 17/20\n",
            "486/486 [==============================] - 9s 18ms/step - loss: 0.0498 - val_loss: -5714117.0000\n",
            "Epoch 18/20\n",
            "486/486 [==============================] - 9s 18ms/step - loss: 0.0500 - val_loss: -3913447.2500\n",
            "Epoch 19/20\n",
            "486/486 [==============================] - 9s 18ms/step - loss: 0.0499 - val_loss: -8001718.5000\n",
            "Epoch 20/20\n",
            "486/486 [==============================] - 9s 18ms/step - loss: 0.0499 - val_loss: -7111862.0000\n"
          ],
          "name": "stdout"
        }
      ]
    },
    {
      "cell_type": "code",
      "metadata": {
        "colab": {
          "base_uri": "https://localhost:8080/"
        },
        "id": "W9NlA5GaWOO-",
        "outputId": "8ae8f39c-17d1-4428-e772-e53fd45bedbe"
      },
      "source": [
        "# creating the encoder model of the denoising autoencoder\n",
        "# for the raw, normalized and rescaled data\n",
        "\n",
        "encoder2_raw = denoising_autoencoder(x_train, x_test)\n",
        "encoder2_norm = denoising_autoencoder(x_train_norm, x_test_norm)\n",
        "encoder2_resc = denoising_autoencoder(x_train_resc, x_test_resc)"
      ],
      "execution_count": null,
      "outputs": [
        {
          "output_type": "stream",
          "text": [
            "Epoch 1/20\n",
            "486/486 [==============================] - 10s 19ms/step - loss: 0.4758 - val_loss: 0.4541\n",
            "Epoch 2/20\n",
            "486/486 [==============================] - 9s 18ms/step - loss: 0.4285 - val_loss: 0.4512\n",
            "Epoch 3/20\n",
            "486/486 [==============================] - 9s 18ms/step - loss: 0.4255 - val_loss: 0.4488\n",
            "Epoch 4/20\n",
            "486/486 [==============================] - 9s 18ms/step - loss: 0.4235 - val_loss: 0.4473\n",
            "Epoch 5/20\n",
            "486/486 [==============================] - 9s 19ms/step - loss: 0.4220 - val_loss: 0.4457\n",
            "Epoch 6/20\n",
            "486/486 [==============================] - 9s 18ms/step - loss: 0.4211 - val_loss: 0.4443\n",
            "Epoch 7/20\n",
            "486/486 [==============================] - 9s 18ms/step - loss: 0.4204 - val_loss: 0.4430\n",
            "Epoch 8/20\n",
            "486/486 [==============================] - 9s 19ms/step - loss: 0.4194 - val_loss: 0.4418\n",
            "Epoch 9/20\n",
            "486/486 [==============================] - 9s 18ms/step - loss: 0.4189 - val_loss: 0.4409\n",
            "Epoch 10/20\n",
            "486/486 [==============================] - 9s 18ms/step - loss: 0.4186 - val_loss: 0.4413\n",
            "Epoch 11/20\n",
            "486/486 [==============================] - 9s 18ms/step - loss: 0.4179 - val_loss: 0.4409\n",
            "Epoch 12/20\n",
            "486/486 [==============================] - 9s 18ms/step - loss: 0.4172 - val_loss: 0.4403\n",
            "Epoch 13/20\n",
            "486/486 [==============================] - 9s 18ms/step - loss: 0.4171 - val_loss: 0.4399\n",
            "Epoch 14/20\n",
            "486/486 [==============================] - 9s 18ms/step - loss: 0.4169 - val_loss: 0.4398\n",
            "Epoch 15/20\n",
            "486/486 [==============================] - 9s 18ms/step - loss: 0.4164 - val_loss: 0.4395\n",
            "Epoch 16/20\n",
            "486/486 [==============================] - 9s 19ms/step - loss: 0.4162 - val_loss: 0.4402\n",
            "Epoch 17/20\n",
            "486/486 [==============================] - 9s 18ms/step - loss: 0.4157 - val_loss: 0.4386\n",
            "Epoch 18/20\n",
            "486/486 [==============================] - 9s 18ms/step - loss: 0.4151 - val_loss: 0.4381\n",
            "Epoch 19/20\n",
            "486/486 [==============================] - 9s 18ms/step - loss: 0.4148 - val_loss: 0.4378\n",
            "Epoch 20/20\n",
            "486/486 [==============================] - 9s 18ms/step - loss: 0.4142 - val_loss: 0.4374\n",
            "Epoch 1/20\n",
            "486/486 [==============================] - 9s 18ms/step - loss: 0.4837 - val_loss: 0.4386\n",
            "Epoch 2/20\n",
            "486/486 [==============================] - 9s 18ms/step - loss: 0.4376 - val_loss: 0.4355\n",
            "Epoch 3/20\n",
            "486/486 [==============================] - 9s 18ms/step - loss: 0.4337 - val_loss: 0.4318\n",
            "Epoch 4/20\n",
            "486/486 [==============================] - 9s 18ms/step - loss: 0.4305 - val_loss: 0.4289\n",
            "Epoch 5/20\n",
            "486/486 [==============================] - 9s 18ms/step - loss: 0.4277 - val_loss: 0.4264\n",
            "Epoch 6/20\n",
            "486/486 [==============================] - 9s 18ms/step - loss: 0.4250 - val_loss: 0.4246\n",
            "Epoch 7/20\n",
            "486/486 [==============================] - 9s 18ms/step - loss: 0.4238 - val_loss: 0.4231\n",
            "Epoch 8/20\n",
            "486/486 [==============================] - 9s 18ms/step - loss: 0.4226 - val_loss: 0.4226\n",
            "Epoch 9/20\n",
            "486/486 [==============================] - 9s 18ms/step - loss: 0.4217 - val_loss: 0.4215\n",
            "Epoch 10/20\n",
            "486/486 [==============================] - 9s 18ms/step - loss: 0.4210 - val_loss: 0.4217\n",
            "Epoch 11/20\n",
            "486/486 [==============================] - 9s 18ms/step - loss: 0.4201 - val_loss: 0.4202\n",
            "Epoch 12/20\n",
            "486/486 [==============================] - 9s 18ms/step - loss: 0.4191 - val_loss: 0.4192\n",
            "Epoch 13/20\n",
            "486/486 [==============================] - 9s 18ms/step - loss: 0.4184 - val_loss: 0.4187\n",
            "Epoch 14/20\n",
            "486/486 [==============================] - 9s 19ms/step - loss: 0.4171 - val_loss: 0.4171\n",
            "Epoch 15/20\n",
            "486/486 [==============================] - 9s 19ms/step - loss: 0.4160 - val_loss: 0.4162\n",
            "Epoch 16/20\n",
            "486/486 [==============================] - 9s 18ms/step - loss: 0.4151 - val_loss: 0.4154\n",
            "Epoch 17/20\n",
            "486/486 [==============================] - 9s 18ms/step - loss: 0.4141 - val_loss: 0.4146\n",
            "Epoch 18/20\n",
            "486/486 [==============================] - 9s 19ms/step - loss: 0.4130 - val_loss: 0.4134\n",
            "Epoch 19/20\n",
            "486/486 [==============================] - 9s 18ms/step - loss: 0.4123 - val_loss: 0.4128\n",
            "Epoch 20/20\n",
            "486/486 [==============================] - 9s 19ms/step - loss: 0.4116 - val_loss: 0.4115\n",
            "Epoch 1/20\n",
            "486/486 [==============================] - 10s 19ms/step - loss: 0.4793 - val_loss: 0.4352\n",
            "Epoch 2/20\n",
            "486/486 [==============================] - 9s 18ms/step - loss: 0.4327 - val_loss: 0.4310\n",
            "Epoch 3/20\n",
            "486/486 [==============================] - 9s 18ms/step - loss: 0.4283 - val_loss: 0.4294\n",
            "Epoch 4/20\n",
            "486/486 [==============================] - 9s 18ms/step - loss: 0.4266 - val_loss: 0.4280\n",
            "Epoch 5/20\n",
            "486/486 [==============================] - 9s 18ms/step - loss: 0.4257 - val_loss: 0.4268\n",
            "Epoch 6/20\n",
            "486/486 [==============================] - 9s 18ms/step - loss: 0.4246 - val_loss: 0.4258\n",
            "Epoch 7/20\n",
            "486/486 [==============================] - 9s 18ms/step - loss: 0.4224 - val_loss: 0.4224\n",
            "Epoch 8/20\n",
            "486/486 [==============================] - 9s 18ms/step - loss: 0.4207 - val_loss: 0.4219\n",
            "Epoch 9/20\n",
            "486/486 [==============================] - 9s 18ms/step - loss: 0.4199 - val_loss: 0.4218\n",
            "Epoch 10/20\n",
            "486/486 [==============================] - 9s 19ms/step - loss: 0.4190 - val_loss: 0.4213\n",
            "Epoch 11/20\n",
            "486/486 [==============================] - 9s 19ms/step - loss: 0.4186 - val_loss: 0.4201\n",
            "Epoch 12/20\n",
            "486/486 [==============================] - 9s 18ms/step - loss: 0.4182 - val_loss: 0.4201\n",
            "Epoch 13/20\n",
            "486/486 [==============================] - 9s 18ms/step - loss: 0.4175 - val_loss: 0.4202\n",
            "Epoch 14/20\n",
            "486/486 [==============================] - 9s 18ms/step - loss: 0.4169 - val_loss: 0.4183\n",
            "Epoch 15/20\n",
            "486/486 [==============================] - 9s 18ms/step - loss: 0.4161 - val_loss: 0.4180\n",
            "Epoch 16/20\n",
            "486/486 [==============================] - 9s 18ms/step - loss: 0.4156 - val_loss: 0.4172\n",
            "Epoch 17/20\n",
            "486/486 [==============================] - 9s 18ms/step - loss: 0.4149 - val_loss: 0.4172\n",
            "Epoch 18/20\n",
            "486/486 [==============================] - 9s 18ms/step - loss: 0.4144 - val_loss: 0.4159\n",
            "Epoch 19/20\n",
            "486/486 [==============================] - 9s 18ms/step - loss: 0.4138 - val_loss: 0.4156\n",
            "Epoch 20/20\n",
            "486/486 [==============================] - 9s 18ms/step - loss: 0.4132 - val_loss: 0.4151\n"
          ],
          "name": "stdout"
        }
      ]
    },
    {
      "cell_type": "code",
      "metadata": {
        "colab": {
          "base_uri": "https://localhost:8080/"
        },
        "id": "75Uxc1-vWwO3",
        "outputId": "6e8e1fb8-87f8-4f5f-bed3-2d74ea3e901d"
      },
      "source": [
        "# creating the encoder model of sparse autoencoder\n",
        "# for the raw, normalized and rescaled data\n",
        "encoder3_raw = sparse_autoencoder(x_train, x_test)\n",
        "encoder3_norm = sparse_autoencoder(x_train_norm, x_test_norm)\n",
        "encoder3_resc = sparse_autoencoder(x_train_resc, x_test_resc) "
      ],
      "execution_count": null,
      "outputs": [
        {
          "output_type": "stream",
          "text": [
            "Epoch 1/20\n",
            "486/486 [==============================] - 2s 3ms/step - loss: 0.3376 - val_loss: 0.2651\n",
            "Epoch 2/20\n",
            "486/486 [==============================] - 1s 2ms/step - loss: 0.0778 - val_loss: 0.2791\n",
            "Epoch 3/20\n",
            "486/486 [==============================] - 1s 2ms/step - loss: 0.0699 - val_loss: 0.2842\n",
            "Epoch 4/20\n",
            "486/486 [==============================] - 1s 3ms/step - loss: 0.0661 - val_loss: 0.2885\n",
            "Epoch 5/20\n",
            "486/486 [==============================] - 1s 2ms/step - loss: 0.0639 - val_loss: 0.2920\n",
            "Epoch 6/20\n",
            "486/486 [==============================] - 1s 2ms/step - loss: 0.0627 - val_loss: 0.2962\n",
            "Epoch 7/20\n",
            "486/486 [==============================] - 1s 2ms/step - loss: 0.0621 - val_loss: 0.3006\n",
            "Epoch 8/20\n",
            "486/486 [==============================] - 1s 2ms/step - loss: 0.0616 - val_loss: 0.3040\n",
            "Epoch 9/20\n",
            "486/486 [==============================] - 1s 2ms/step - loss: 0.0613 - val_loss: 0.3066\n",
            "Epoch 10/20\n",
            "486/486 [==============================] - 1s 2ms/step - loss: 0.0609 - val_loss: 0.3072\n",
            "Epoch 11/20\n",
            "486/486 [==============================] - 1s 2ms/step - loss: 0.0608 - val_loss: 0.3084\n",
            "Epoch 12/20\n",
            "486/486 [==============================] - 1s 3ms/step - loss: 0.0606 - val_loss: 0.3108\n",
            "Epoch 13/20\n",
            "486/486 [==============================] - 1s 2ms/step - loss: 0.0604 - val_loss: 0.3139\n",
            "Epoch 14/20\n",
            "486/486 [==============================] - 1s 2ms/step - loss: 0.0604 - val_loss: 0.3173\n",
            "Epoch 15/20\n",
            "486/486 [==============================] - 1s 2ms/step - loss: 0.0602 - val_loss: 0.3217\n",
            "Epoch 16/20\n",
            "486/486 [==============================] - 1s 3ms/step - loss: 0.0600 - val_loss: 0.3284\n",
            "Epoch 17/20\n",
            "486/486 [==============================] - 1s 3ms/step - loss: 0.0600 - val_loss: 0.3371\n",
            "Epoch 18/20\n",
            "486/486 [==============================] - 1s 2ms/step - loss: 0.0598 - val_loss: 0.3447\n",
            "Epoch 19/20\n",
            "486/486 [==============================] - 1s 3ms/step - loss: 0.0598 - val_loss: 0.3517\n",
            "Epoch 20/20\n",
            "486/486 [==============================] - 1s 3ms/step - loss: 0.0597 - val_loss: 0.3597\n",
            "Epoch 1/20\n",
            "486/486 [==============================] - 2s 3ms/step - loss: 0.4014 - val_loss: 0.1719\n",
            "Epoch 2/20\n",
            "486/486 [==============================] - 1s 2ms/step - loss: 0.1604 - val_loss: 0.1687\n",
            "Epoch 3/20\n",
            "486/486 [==============================] - 1s 2ms/step - loss: 0.1523 - val_loss: 0.1673\n",
            "Epoch 4/20\n",
            "486/486 [==============================] - 1s 2ms/step - loss: 0.1499 - val_loss: 0.1673\n",
            "Epoch 5/20\n",
            "486/486 [==============================] - 1s 3ms/step - loss: 0.1494 - val_loss: 0.1676\n",
            "Epoch 6/20\n",
            "486/486 [==============================] - 1s 2ms/step - loss: 0.1490 - val_loss: 0.1678\n",
            "Epoch 7/20\n",
            "486/486 [==============================] - 1s 3ms/step - loss: 0.1488 - val_loss: 0.1683\n",
            "Epoch 8/20\n",
            "486/486 [==============================] - 1s 3ms/step - loss: 0.1485 - val_loss: 0.1687\n",
            "Epoch 9/20\n",
            "486/486 [==============================] - 1s 3ms/step - loss: 0.1485 - val_loss: 0.1689\n",
            "Epoch 10/20\n",
            "486/486 [==============================] - 1s 2ms/step - loss: 0.1482 - val_loss: 0.1691\n",
            "Epoch 11/20\n",
            "486/486 [==============================] - 1s 3ms/step - loss: 0.1481 - val_loss: 0.1694\n",
            "Epoch 12/20\n",
            "486/486 [==============================] - 1s 3ms/step - loss: 0.1480 - val_loss: 0.1695\n",
            "Epoch 13/20\n",
            "486/486 [==============================] - 1s 3ms/step - loss: 0.1479 - val_loss: 0.1697\n",
            "Epoch 14/20\n",
            "486/486 [==============================] - 1s 2ms/step - loss: 0.1477 - val_loss: 0.1699\n",
            "Epoch 15/20\n",
            "486/486 [==============================] - 1s 2ms/step - loss: 0.1476 - val_loss: 0.1702\n",
            "Epoch 16/20\n",
            "486/486 [==============================] - 1s 2ms/step - loss: 0.1476 - val_loss: 0.1706\n",
            "Epoch 17/20\n",
            "486/486 [==============================] - 1s 3ms/step - loss: 0.1475 - val_loss: 0.1711\n",
            "Epoch 18/20\n",
            "486/486 [==============================] - 1s 3ms/step - loss: 0.1474 - val_loss: 0.1716\n",
            "Epoch 19/20\n",
            "486/486 [==============================] - 1s 3ms/step - loss: 0.1474 - val_loss: 0.1724\n",
            "Epoch 20/20\n",
            "486/486 [==============================] - 1s 3ms/step - loss: 0.1473 - val_loss: 0.1729\n",
            "Epoch 1/20\n",
            "486/486 [==============================] - 2s 3ms/step - loss: 0.3260 - val_loss: -994558.0000\n",
            "Epoch 2/20\n",
            "486/486 [==============================] - 1s 2ms/step - loss: 0.0695 - val_loss: -1519192.0000\n",
            "Epoch 3/20\n",
            "486/486 [==============================] - 1s 2ms/step - loss: 0.0598 - val_loss: -1895045.7500\n",
            "Epoch 4/20\n",
            "486/486 [==============================] - 1s 2ms/step - loss: 0.0558 - val_loss: -2492929.5000\n",
            "Epoch 5/20\n",
            "486/486 [==============================] - 1s 3ms/step - loss: 0.0541 - val_loss: -2962687.2500\n",
            "Epoch 6/20\n",
            "486/486 [==============================] - 1s 3ms/step - loss: 0.0531 - val_loss: -3357358.5000\n",
            "Epoch 7/20\n",
            "486/486 [==============================] - 1s 3ms/step - loss: 0.0527 - val_loss: -3861265.5000\n",
            "Epoch 8/20\n",
            "486/486 [==============================] - 1s 3ms/step - loss: 0.0525 - val_loss: -4252414.0000\n",
            "Epoch 9/20\n",
            "486/486 [==============================] - 1s 3ms/step - loss: 0.0522 - val_loss: -4504448.0000\n",
            "Epoch 10/20\n",
            "486/486 [==============================] - 1s 3ms/step - loss: 0.0520 - val_loss: -4680914.5000\n",
            "Epoch 11/20\n",
            "486/486 [==============================] - 1s 3ms/step - loss: 0.0518 - val_loss: -4924340.5000\n",
            "Epoch 12/20\n",
            "486/486 [==============================] - 1s 3ms/step - loss: 0.0516 - val_loss: -5067070.0000\n",
            "Epoch 13/20\n",
            "486/486 [==============================] - 1s 3ms/step - loss: 0.0514 - val_loss: -5201205.0000\n",
            "Epoch 14/20\n",
            "486/486 [==============================] - 1s 3ms/step - loss: 0.0514 - val_loss: -5385947.0000\n",
            "Epoch 15/20\n",
            "486/486 [==============================] - 1s 3ms/step - loss: 0.0512 - val_loss: -5720963.5000\n",
            "Epoch 16/20\n",
            "486/486 [==============================] - 1s 3ms/step - loss: 0.0510 - val_loss: -5801158.5000\n",
            "Epoch 17/20\n",
            "486/486 [==============================] - 1s 3ms/step - loss: 0.0510 - val_loss: -6003928.0000\n",
            "Epoch 18/20\n",
            "486/486 [==============================] - 1s 3ms/step - loss: 0.0509 - val_loss: -6188670.5000\n",
            "Epoch 19/20\n",
            "486/486 [==============================] - 1s 3ms/step - loss: 0.0508 - val_loss: -6552456.0000\n",
            "Epoch 20/20\n",
            "486/486 [==============================] - 2s 3ms/step - loss: 0.0508 - val_loss: -6987628.0000\n"
          ],
          "name": "stdout"
        }
      ]
    },
    {
      "cell_type": "code",
      "metadata": {
        "id": "PmbXNlBbw2-3"
      },
      "source": [
        "# data transformation - encoder1\n",
        "x_train_enc_1, x_test_enc_1 = encoder_transformation(encoder1_raw, x_train, x_test)\n",
        "x_train_norm_enc_1, x_test_norm_enc_1 = encoder_transformation(encoder1_norm, x_train_norm, x_test_norm) \n",
        "x_train_resc_enc_1, x_test_resc_enc_1 = encoder_transformation(encoder1_resc, x_train_resc, x_test_resc)"
      ],
      "execution_count": null,
      "outputs": []
    },
    {
      "cell_type": "code",
      "metadata": {
        "id": "rmSH-di8mDuS"
      },
      "source": [
        "# data transformation - encoder2\n",
        "x_train_enc_2, x_test_enc_2 = encoder_transformation(encoder2_raw, x_train, x_test)\n",
        "x_train_norm_enc_2, x_test_norm_enc_2 = encoder_transformation(encoder2_norm, x_train_norm, x_test_norm) \n",
        "x_train_resc_enc_2, x_test_resc_enc_2 = encoder_transformation(encoder2_resc, x_train_resc, x_test_resc)"
      ],
      "execution_count": null,
      "outputs": []
    },
    {
      "cell_type": "code",
      "metadata": {
        "id": "ZiqH0aw2mTcM"
      },
      "source": [
        "# data transformation - encoder3\n",
        "x_train_enc_3, x_test_enc_3 = encoder_transformation(encoder3_raw, x_train, x_test)\n",
        "x_train_norm_enc_3, x_test_norm_enc_3 = encoder_transformation(encoder3_norm, x_train_norm, x_test_norm) \n",
        "x_train_resc_enc_3, x_test_resc_enc_3 = encoder_transformation(encoder3_resc, x_train_resc, x_test_resc)"
      ],
      "execution_count": null,
      "outputs": []
    },
    {
      "cell_type": "markdown",
      "metadata": {
        "id": "5YU7E9DwECvK"
      },
      "source": [
        "FITTING MODELS TO EXTRACTED DATA"
      ]
    },
    {
      "cell_type": "code",
      "metadata": {
        "colab": {
          "base_uri": "https://localhost:8080/"
        },
        "id": "WVjBiGd-V_Y7",
        "outputId": "5a057a86-d573-409a-9448-6518bf753628"
      },
      "source": [
        "# encoder1 - raw data\n",
        "compare_algorithms(x_train_enc_1, y_train, x_test_enc_1, y_test)"
      ],
      "execution_count": null,
      "outputs": [
        {
          "output_type": "stream",
          "text": [
            "LR: train_acc: 0.990 / test_acc: 0.516\n",
            "LDA: train_acc: 0.981 / test_acc: 0.698\n",
            "KNN: train_acc: 1.000 / test_acc: 0.534\n",
            "SVC: train_acc: 0.998 / test_acc: 0.534\n",
            "LnSVC: train_acc: 0.991 / test_acc: 0.518\n"
          ],
          "name": "stdout"
        },
        {
          "output_type": "stream",
          "text": [
            "/usr/local/lib/python3.6/dist-packages/sklearn/svm/_base.py:947: ConvergenceWarning: Liblinear failed to converge, increase the number of iterations.\n",
            "  \"the number of iterations.\", ConvergenceWarning)\n"
          ],
          "name": "stderr"
        }
      ]
    },
    {
      "cell_type": "code",
      "metadata": {
        "colab": {
          "base_uri": "https://localhost:8080/"
        },
        "id": "pSIjofEq-eLq",
        "outputId": "7d71150f-122c-4f3d-c42e-9367007e83ed"
      },
      "source": [
        "# encoder1 - normalized data\n",
        "compare_algorithms(x_train_norm_enc_1, y_train, x_test_norm_enc_1, y_test)"
      ],
      "execution_count": null,
      "outputs": [
        {
          "output_type": "stream",
          "text": [
            "LR: train_acc: 0.993 / test_acc: 0.821\n",
            "LDA: train_acc: 0.979 / test_acc: 0.929\n",
            "KNN: train_acc: 1.000 / test_acc: 0.529\n",
            "SVC: train_acc: 0.997 / test_acc: 0.505\n",
            "LnSVC: train_acc: 0.994 / test_acc: 0.750\n"
          ],
          "name": "stdout"
        },
        {
          "output_type": "stream",
          "text": [
            "/usr/local/lib/python3.6/dist-packages/sklearn/svm/_base.py:947: ConvergenceWarning: Liblinear failed to converge, increase the number of iterations.\n",
            "  \"the number of iterations.\", ConvergenceWarning)\n"
          ],
          "name": "stderr"
        }
      ]
    },
    {
      "cell_type": "code",
      "metadata": {
        "colab": {
          "base_uri": "https://localhost:8080/"
        },
        "id": "pdV97uaiWyXc",
        "outputId": "d850a91a-27fb-45bd-ed84-8bc460859116"
      },
      "source": [
        "# encoder1 - rescaled data\n",
        "compare_algorithms(x_train_resc_enc_1, y_train, x_test_resc_enc_1, y_test)"
      ],
      "execution_count": null,
      "outputs": [
        {
          "output_type": "stream",
          "text": [
            "LR: train_acc: 0.955 / test_acc: 0.851\n",
            "LDA: train_acc: 0.946 / test_acc: 0.905\n",
            "KNN: train_acc: 1.000 / test_acc: 0.500\n",
            "SVC: train_acc: 0.999 / test_acc: 0.500\n",
            "LnSVC: train_acc: 0.954 / test_acc: 0.854\n"
          ],
          "name": "stdout"
        },
        {
          "output_type": "stream",
          "text": [
            "/usr/local/lib/python3.6/dist-packages/sklearn/svm/_base.py:947: ConvergenceWarning: Liblinear failed to converge, increase the number of iterations.\n",
            "  \"the number of iterations.\", ConvergenceWarning)\n"
          ],
          "name": "stderr"
        }
      ]
    },
    {
      "cell_type": "code",
      "metadata": {
        "colab": {
          "base_uri": "https://localhost:8080/"
        },
        "id": "T-aID_07c8Sa",
        "outputId": "c7e0b856-4d25-4bf6-8da7-4bbb5f4bfe27"
      },
      "source": [
        "# encoder2 - raw data\n",
        "compare_algorithms(x_train_enc_2, y_train, x_test_enc_2, y_test)"
      ],
      "execution_count": null,
      "outputs": [
        {
          "output_type": "stream",
          "text": [
            "LR: train_acc: 0.988 / test_acc: 0.522\n",
            "LDA: train_acc: 0.976 / test_acc: 0.554\n",
            "KNN: train_acc: 0.999 / test_acc: 0.521\n",
            "SVC: train_acc: 0.996 / test_acc: 0.525\n",
            "LnSVC: train_acc: 0.990 / test_acc: 0.528\n"
          ],
          "name": "stdout"
        },
        {
          "output_type": "stream",
          "text": [
            "/usr/local/lib/python3.6/dist-packages/sklearn/svm/_base.py:947: ConvergenceWarning: Liblinear failed to converge, increase the number of iterations.\n",
            "  \"the number of iterations.\", ConvergenceWarning)\n"
          ],
          "name": "stderr"
        }
      ]
    },
    {
      "cell_type": "code",
      "metadata": {
        "colab": {
          "base_uri": "https://localhost:8080/"
        },
        "id": "_kyJudLdc8KJ",
        "outputId": "122c145b-20e9-4b01-ce72-424c5fe087bf"
      },
      "source": [
        "# encoder2 - normalized data\n",
        "compare_algorithms(x_train_norm_enc_2, y_train, x_test_norm_enc_2, y_test)"
      ],
      "execution_count": null,
      "outputs": [
        {
          "output_type": "stream",
          "text": [
            "LR: train_acc: 0.990 / test_acc: 0.500\n",
            "LDA: train_acc: 0.975 / test_acc: 0.500\n",
            "KNN: train_acc: 0.999 / test_acc: 0.500\n",
            "SVC: train_acc: 0.992 / test_acc: 0.500\n",
            "LnSVC: train_acc: 0.993 / test_acc: 0.500\n"
          ],
          "name": "stdout"
        },
        {
          "output_type": "stream",
          "text": [
            "/usr/local/lib/python3.6/dist-packages/sklearn/svm/_base.py:947: ConvergenceWarning: Liblinear failed to converge, increase the number of iterations.\n",
            "  \"the number of iterations.\", ConvergenceWarning)\n"
          ],
          "name": "stderr"
        }
      ]
    },
    {
      "cell_type": "code",
      "metadata": {
        "colab": {
          "base_uri": "https://localhost:8080/"
        },
        "id": "uo74Tuqoc8O1",
        "outputId": "33fdb898-15c5-4a5a-8ac0-9b5cea4016fa"
      },
      "source": [
        "# encoder2 - rescaled data\n",
        "compare_algorithms(x_train_resc_enc_2, y_train, x_test_resc_enc_2, y_test)"
      ],
      "execution_count": null,
      "outputs": [
        {
          "output_type": "stream",
          "text": [
            "LR: train_acc: 0.993 / test_acc: 0.907\n",
            "LDA: train_acc: 0.979 / test_acc: 0.906\n",
            "KNN: train_acc: 1.000 / test_acc: 0.499\n",
            "SVC: train_acc: 0.998 / test_acc: 0.499\n",
            "LnSVC: train_acc: 0.993 / test_acc: 0.908\n"
          ],
          "name": "stdout"
        },
        {
          "output_type": "stream",
          "text": [
            "/usr/local/lib/python3.6/dist-packages/sklearn/svm/_base.py:947: ConvergenceWarning: Liblinear failed to converge, increase the number of iterations.\n",
            "  \"the number of iterations.\", ConvergenceWarning)\n"
          ],
          "name": "stderr"
        }
      ]
    },
    {
      "cell_type": "code",
      "metadata": {
        "colab": {
          "base_uri": "https://localhost:8080/"
        },
        "id": "ZN7rn6qkci3P",
        "outputId": "ab40189e-5a6b-4d6c-ebfd-36a7aebaa570"
      },
      "source": [
        "# encoder3 - raw data\n",
        "compare_algorithms(x_train_enc_3, y_train, x_test_enc_3, y_test)"
      ],
      "execution_count": null,
      "outputs": [
        {
          "output_type": "stream",
          "text": [
            "LR: train_acc: 0.990 / test_acc: 0.530\n",
            "LDA: train_acc: 0.976 / test_acc: 0.916\n",
            "KNN: train_acc: 0.999 / test_acc: 0.501\n",
            "SVC: train_acc: 0.997 / test_acc: 0.532\n",
            "LnSVC: train_acc: 0.992 / test_acc: 0.525\n"
          ],
          "name": "stdout"
        },
        {
          "output_type": "stream",
          "text": [
            "/usr/local/lib/python3.6/dist-packages/sklearn/svm/_base.py:947: ConvergenceWarning: Liblinear failed to converge, increase the number of iterations.\n",
            "  \"the number of iterations.\", ConvergenceWarning)\n"
          ],
          "name": "stderr"
        }
      ]
    },
    {
      "cell_type": "code",
      "metadata": {
        "colab": {
          "base_uri": "https://localhost:8080/"
        },
        "id": "r7qMWnRsHsjp",
        "outputId": "3abbdc9d-1619-484f-d186-cc15840a8f2c"
      },
      "source": [
        "# encoder3 - normalized data\n",
        "compare_algorithms(x_train_norm_enc_3, y_train, x_test_norm_enc_3, y_test)"
      ],
      "execution_count": null,
      "outputs": [
        {
          "output_type": "stream",
          "text": [
            "LR: train_acc: 0.990 / test_acc: 0.639\n",
            "LDA: train_acc: 0.980 / test_acc: 0.808\n",
            "KNN: train_acc: 0.999 / test_acc: 0.528\n",
            "SVC: train_acc: 0.995 / test_acc: 0.527\n",
            "LnSVC: train_acc: 0.992 / test_acc: 0.962\n"
          ],
          "name": "stdout"
        },
        {
          "output_type": "stream",
          "text": [
            "/usr/local/lib/python3.6/dist-packages/sklearn/svm/_base.py:947: ConvergenceWarning: Liblinear failed to converge, increase the number of iterations.\n",
            "  \"the number of iterations.\", ConvergenceWarning)\n"
          ],
          "name": "stderr"
        }
      ]
    },
    {
      "cell_type": "code",
      "metadata": {
        "colab": {
          "base_uri": "https://localhost:8080/"
        },
        "id": "bCNeSJ7Rcjl0",
        "outputId": "96404221-c670-4504-9436-e575364eec19"
      },
      "source": [
        "# encoder3 - rescaled data\n",
        "compare_algorithms(x_train_resc_enc_3, y_train, x_test_resc_enc_3, y_test)"
      ],
      "execution_count": null,
      "outputs": [
        {
          "output_type": "stream",
          "text": [
            "LR: train_acc: 0.994 / test_acc: 0.460\n",
            "LDA: train_acc: 0.978 / test_acc: 0.905\n",
            "KNN: train_acc: 1.000 / test_acc: 0.500\n",
            "SVC: train_acc: 0.998 / test_acc: 0.499\n",
            "LnSVC: train_acc: 0.995 / test_acc: 0.448\n"
          ],
          "name": "stdout"
        },
        {
          "output_type": "stream",
          "text": [
            "/usr/local/lib/python3.6/dist-packages/sklearn/svm/_base.py:947: ConvergenceWarning: Liblinear failed to converge, increase the number of iterations.\n",
            "  \"the number of iterations.\", ConvergenceWarning)\n"
          ],
          "name": "stderr"
        }
      ]
    },
    {
      "cell_type": "markdown",
      "metadata": {
        "id": "2FSNpsVKAzcr"
      },
      "source": [
        "COMBINE ORIGINAL WITH EXTRACTED FEATURES (NORMALIZED DATA, ENCODERS 1 AND 3)\n",
        "\n"
      ]
    },
    {
      "cell_type": "code",
      "metadata": {
        "id": "KZQcfi6QBeWS"
      },
      "source": [
        "# FULL SET OF ORIGINAL FEATURES + EXTRACTED FEATURES\n",
        "# 82 + 20 = 102 FEATURES "
      ],
      "execution_count": null,
      "outputs": []
    },
    {
      "cell_type": "code",
      "metadata": {
        "id": "a6UW1RHbBNIC"
      },
      "source": [
        "# stacked encoder\n",
        "x_train_full_enc_1, x_test_full_enc_1 = mixed_data(x_train_norm, x_train_norm_enc_1, x_test_norm, x_test_norm_enc_1)\n",
        "# sparse encoder\n",
        "x_train_full_enc_3, x_test_full_enc_3 = mixed_data(x_train_norm, x_train_norm_enc_3, x_test_norm, x_test_norm_enc_3)"
      ],
      "execution_count": null,
      "outputs": []
    },
    {
      "cell_type": "code",
      "metadata": {
        "id": "C4NbPBKbFOVc"
      },
      "source": [
        "# SELECTED SET OF ORIGINAL FEATURES (EXTRA TREES CLASSIFIER) + EXTRACTED FEATURES\n",
        "# 10 + 20 = 30 FEATURES"
      ],
      "execution_count": null,
      "outputs": []
    },
    {
      "cell_type": "code",
      "metadata": {
        "id": "ztKfW142F64f"
      },
      "source": [
        "# stacked encoder\n",
        "x_train_sel_enc_1, x_test_sel_enc_1 = mixed_data(extree_train_features_norm, x_train_norm_enc_1, extree_test_features_norm, x_test_norm_enc_1)\n",
        "# sparse encoder\n",
        "x_train_sel_enc_3, x_test_sel_enc_3 = mixed_data(extree_train_features_norm, x_train_norm_enc_3, extree_test_features_norm, x_test_norm_enc_3)"
      ],
      "execution_count": null,
      "outputs": []
    },
    {
      "cell_type": "markdown",
      "metadata": {
        "id": "L0pvT4MuIhmS"
      },
      "source": [
        "COMBINE ORIGINAL WITH EXTRACTED FEATURES (NORMALIZED DATA, ENCODERS 1 AND 3) - MODEL EVALUATION (LR, LDA, LnSVC)"
      ]
    },
    {
      "cell_type": "code",
      "metadata": {
        "id": "csivE4JDJMgE"
      },
      "source": [
        "# FULL SET OF ORIGINAL FEATURES + EXTRACTED FEATURES\n",
        "# 82 + 20 = 102 FEATURES "
      ],
      "execution_count": null,
      "outputs": []
    },
    {
      "cell_type": "code",
      "metadata": {
        "colab": {
          "base_uri": "https://localhost:8080/"
        },
        "id": "LtfDeNOGKP0t",
        "outputId": "fd864d49-d06b-4cf0-d507-385314103ff7"
      },
      "source": [
        "# stacked encoder\n",
        "compare_algorithms_2(x_train_full_enc_1, y_train, x_test_full_enc_1, y_test)"
      ],
      "execution_count": null,
      "outputs": [
        {
          "output_type": "stream",
          "text": [
            "LR:\n",
            "[[19503   576]\n",
            " [ 6181 13898]]\n",
            "acc:  0.832  / DR:  0.692  / Prec:  0.96  / FAR:  0.029  / FNR:  0.308\n",
            "Type I error:  576  / Type II error:  6181\n",
            "TBM:  2.13\n",
            "TTM:  0.12 \n",
            "\n",
            "LDA:\n",
            "[[16750  3329]\n",
            " [12871  7208]]\n",
            "acc:  0.597  / DR:  0.359  / Prec:  0.684  / FAR:  0.166  / FNR:  0.641\n",
            "Type I error:  3329  / Type II error:  12871\n",
            "TBM:  2.79\n",
            "TTM:  0.12 \n",
            "\n",
            "LnSVC:\n",
            "[[19187   892]\n",
            " [ 7680 12399]]\n",
            "acc:  0.787  / DR:  0.618  / Prec:  0.933  / FAR:  0.044  / FNR:  0.382\n",
            "Type I error:  892  / Type II error:  7680\n",
            "TBM:  14.56\n",
            "TTM:  0.12 \n",
            "\n"
          ],
          "name": "stdout"
        },
        {
          "output_type": "stream",
          "text": [
            "/usr/local/lib/python3.6/dist-packages/sklearn/svm/_base.py:947: ConvergenceWarning: Liblinear failed to converge, increase the number of iterations.\n",
            "  \"the number of iterations.\", ConvergenceWarning)\n"
          ],
          "name": "stderr"
        }
      ]
    },
    {
      "cell_type": "code",
      "metadata": {
        "colab": {
          "base_uri": "https://localhost:8080/"
        },
        "id": "VQlfVQM4KP-f",
        "outputId": "5040fa06-554a-429b-da6d-77949e3d2cc0"
      },
      "source": [
        "# sparse encoder\n",
        "compare_algorithms_2(x_train_full_enc_3, y_train, x_test_full_enc_3, y_test)"
      ],
      "execution_count": null,
      "outputs": [
        {
          "output_type": "stream",
          "text": [
            "LR:\n",
            "[[19190   889]\n",
            " [ 4797 15282]]\n",
            "acc:  0.858  / DR:  0.761  / Prec:  0.945  / FAR:  0.044  / FNR:  0.239\n",
            "Type I error:  889  / Type II error:  4797\n",
            "TBM:  1.92\n",
            "TTM:  0.12 \n",
            "\n",
            "LDA:\n",
            "[[   31 20048]\n",
            " [    0 20079]]\n",
            "acc:  0.501  / DR:  1.0  / Prec:  0.5  / FAR:  0.998  / FNR:  0.0\n",
            "Type I error:  20048  / Type II error:  0\n",
            "TBM:  2.6\n",
            "TTM:  0.15 \n",
            "\n",
            "LnSVC:\n",
            "[[19341   738]\n",
            " [12555  7524]]\n",
            "acc:  0.669  / DR:  0.375  / Prec:  0.911  / FAR:  0.037  / FNR:  0.625\n",
            "Type I error:  738  / Type II error:  12555\n",
            "TBM:  9.26\n",
            "TTM:  0.12 \n",
            "\n"
          ],
          "name": "stdout"
        },
        {
          "output_type": "stream",
          "text": [
            "/usr/local/lib/python3.6/dist-packages/sklearn/svm/_base.py:947: ConvergenceWarning: Liblinear failed to converge, increase the number of iterations.\n",
            "  \"the number of iterations.\", ConvergenceWarning)\n"
          ],
          "name": "stderr"
        }
      ]
    },
    {
      "cell_type": "code",
      "metadata": {
        "id": "HTPzlXEkKDXu"
      },
      "source": [
        "# SELECTED SET OF ORIGINAL FEATURES (EXTRA TREES CLASSIFIER) + EXTRACTED FEATURES\n",
        "# 10 + 20 = 30 FEATURES"
      ],
      "execution_count": null,
      "outputs": []
    },
    {
      "cell_type": "code",
      "metadata": {
        "colab": {
          "base_uri": "https://localhost:8080/"
        },
        "id": "CcMEcyDrKRC9",
        "outputId": "421c589a-3408-4a81-87c4-12ffc8275f1c"
      },
      "source": [
        "# stacked encoder\n",
        "compare_algorithms_2(x_train_sel_enc_1, y_train, x_test_sel_enc_1, y_test)"
      ],
      "execution_count": null,
      "outputs": [
        {
          "output_type": "stream",
          "text": [
            "LR:\n",
            "[[19521   558]\n",
            " [ 6729 13350]]\n",
            "acc:  0.819  / DR:  0.665  / Prec:  0.96  / FAR:  0.028  / FNR:  0.335\n",
            "Type I error:  558  / Type II error:  6729\n",
            "TBM:  0.96\n",
            "TTM:  0.11 \n",
            "\n",
            "LDA:\n",
            "[[18594  1485]\n",
            " [    6 20073]]\n",
            "acc:  0.963  / DR:  1.0  / Prec:  0.931  / FAR:  0.074  / FNR:  0.0\n",
            "Type I error:  1485  / Type II error:  6\n",
            "TBM:  0.47\n",
            "TTM:  0.12 \n",
            "\n",
            "LnSVC:\n",
            "[[19612   467]\n",
            " [18551  1528]]\n",
            "acc:  0.526  / DR:  0.076  / Prec:  0.766  / FAR:  0.023  / FNR:  0.924\n",
            "Type I error:  467  / Type II error:  18551\n",
            "TBM:  8.41\n",
            "TTM:  0.11 \n",
            "\n"
          ],
          "name": "stdout"
        },
        {
          "output_type": "stream",
          "text": [
            "/usr/local/lib/python3.6/dist-packages/sklearn/svm/_base.py:947: ConvergenceWarning: Liblinear failed to converge, increase the number of iterations.\n",
            "  \"the number of iterations.\", ConvergenceWarning)\n"
          ],
          "name": "stderr"
        }
      ]
    },
    {
      "cell_type": "code",
      "metadata": {
        "colab": {
          "base_uri": "https://localhost:8080/"
        },
        "id": "nQRuS9cyKRMR",
        "outputId": "eae67471-b5e6-444d-c294-157b424020fc"
      },
      "source": [
        "# sparse encoder\n",
        "compare_algorithms_2(x_train_sel_enc_3, y_train, x_test_sel_enc_3, y_test)"
      ],
      "execution_count": null,
      "outputs": [
        {
          "output_type": "stream",
          "text": [
            "LR:\n",
            "[[19167   912]\n",
            " [ 8481 11598]]\n",
            "acc:  0.766  / DR:  0.578  / Prec:  0.927  / FAR:  0.045  / FNR:  0.422\n",
            "Type I error:  912  / Type II error:  8481\n",
            "TBM:  1.01\n",
            "TTM:  0.11 \n",
            "\n",
            "LDA:\n",
            "[[16187  3892]\n",
            " [    2 20077]]\n",
            "acc:  0.903  / DR:  1.0  / Prec:  0.838  / FAR:  0.194  / FNR:  0.0\n",
            "Type I error:  3892  / Type II error:  2\n",
            "TBM:  0.49\n",
            "TTM:  0.11 \n",
            "\n",
            "LnSVC:\n",
            "[[18879  1200]\n",
            " [ 5561 14518]]\n",
            "acc:  0.832  / DR:  0.723  / Prec:  0.924  / FAR:  0.06  / FNR:  0.277\n",
            "Type I error:  1200  / Type II error:  5561\n",
            "TBM:  6.21\n",
            "TTM:  0.12 \n",
            "\n"
          ],
          "name": "stdout"
        },
        {
          "output_type": "stream",
          "text": [
            "/usr/local/lib/python3.6/dist-packages/sklearn/svm/_base.py:947: ConvergenceWarning: Liblinear failed to converge, increase the number of iterations.\n",
            "  \"the number of iterations.\", ConvergenceWarning)\n"
          ],
          "name": "stderr"
        }
      ]
    },
    {
      "cell_type": "markdown",
      "metadata": {
        "id": "Kp6TYNzmJQOg"
      },
      "source": [
        "FEATURE SELECTION (EXTRA TREES CLASSIFIER) ON COMBINATION OF ORIGINAL WITH EXTRACTED FEATURES (NORMALIZED DATA)\n"
      ]
    },
    {
      "cell_type": "code",
      "metadata": {
        "id": "LZwO1_GFg_6_"
      },
      "source": [
        "# SELECTED 10 FEATURES FROM THE FULL SET OF ORIGINAL FEATURES + EXTRACTED FEATURES"
      ],
      "execution_count": null,
      "outputs": []
    },
    {
      "cell_type": "code",
      "metadata": {
        "colab": {
          "base_uri": "https://localhost:8080/"
        },
        "id": "XUBkuV6vgQSw",
        "outputId": "8d1c4dad-f453-4127-db57-ea5bce46ad03"
      },
      "source": [
        "# stacked encoder\n",
        "sel_x_train_full_enc_1, sel_x_test_full_enc_1 = extra_trees_classifier(x_train_full_enc_1, y_train, x_test_full_enc_1)\n",
        "\n",
        "# sparse encoder\n",
        "sel_x_train_full_enc_3, sel_x_test_full_enc_3 = extra_trees_classifier(x_train_full_enc_3, y_train, x_test_full_enc_3)"
      ],
      "execution_count": null,
      "outputs": [
        {
          "output_type": "stream",
          "text": [
            "    Specs     Score\n",
            "26     26  0.094312\n",
            "92     92  0.073974\n",
            "15     15  0.059655\n",
            "22     22  0.055845\n",
            "13     13  0.055475\n",
            "16     16  0.042157\n",
            "28     28  0.040564\n",
            "36     36  0.036718\n",
            "2       2  0.033981\n",
            "94     94  0.033788\n",
            "    Specs     Score\n",
            "28     28  0.087085\n",
            "26     26  0.078875\n",
            "22     22  0.065940\n",
            "15     15  0.050983\n",
            "23     23  0.044327\n",
            "13     13  0.043780\n",
            "16     16  0.040299\n",
            "21     21  0.033958\n",
            "91     91  0.029929\n",
            "85     85  0.026591\n",
            "    Specs     Score\n",
            "26     26  0.097576\n",
            "22     22  0.067936\n",
            "15     15  0.060225\n",
            "86     86  0.049294\n",
            "28     28  0.044003\n",
            "23     23  0.042379\n",
            "13     13  0.037628\n",
            "16     16  0.034602\n",
            "82     82  0.027657\n",
            "95     95  0.027466\n"
          ],
          "name": "stdout"
        }
      ]
    },
    {
      "cell_type": "code",
      "metadata": {
        "id": "gNDiJ0rAhJB9"
      },
      "source": [
        "# SELECTED 10 FEATURES FROM THE SELECTED SET OF ORIGINAL FEATURES + EXTRACTED FEATURES"
      ],
      "execution_count": null,
      "outputs": []
    },
    {
      "cell_type": "code",
      "metadata": {
        "colab": {
          "base_uri": "https://localhost:8080/"
        },
        "id": "j7LMXPvvhUFs",
        "outputId": "95b63a82-65d9-4930-e2ec-2cfc25f61a3b"
      },
      "source": [
        "# stacked encoder\n",
        "sel_x_train_sel_enc_1, sel_x_test_sel_enc_1 = extra_trees_classifier(x_train_sel_enc_1, y_train, x_test_sel_enc_1)\n",
        "\n",
        "# sparse encoder\n",
        "sel_x_train_sel_enc_3, sel_x_test_sel_enc_3 = extra_trees_classifier(x_train_sel_enc_3, y_train, x_test_sel_enc_3)"
      ],
      "execution_count": null,
      "outputs": [
        {
          "output_type": "stream",
          "text": [
            "    Specs     Score\n",
            "1       1  0.095942\n",
            "2       2  0.094538\n",
            "20     20  0.078641\n",
            "11     11  0.076186\n",
            "8       8  0.064663\n",
            "0       0  0.064064\n",
            "3       3  0.061144\n",
            "5       5  0.060813\n",
            "21     21  0.049861\n",
            "4       4  0.047966\n",
            "    Specs     Score\n",
            "2       2  0.107647\n",
            "13     13  0.076222\n",
            "0       0  0.073013\n",
            "8       8  0.072921\n",
            "1       1  0.070803\n",
            "15     15  0.050642\n",
            "19     19  0.046028\n",
            "11     11  0.045331\n",
            "5       5  0.044961\n",
            "3       3  0.043231\n",
            "    Specs     Score\n",
            "2       2  0.097329\n",
            "8       8  0.092893\n",
            "10     10  0.076735\n",
            "5       5  0.069998\n",
            "1       1  0.068867\n",
            "3       3  0.068590\n",
            "14     14  0.066105\n",
            "0       0  0.062925\n",
            "23     23  0.045937\n",
            "18     18  0.043053\n"
          ],
          "name": "stdout"
        }
      ]
    },
    {
      "cell_type": "markdown",
      "metadata": {
        "id": "l5_JmB9FkQNK"
      },
      "source": [
        "FEATURE SELECTION (EXTRA TREES CLASSIFIER) ON COMBINATION OF ORIGINAL WITH EXTRACTED FEATURES (NORMALIZED DATA) - MODEL EVALUATION (LR, LDA, LnSVC)"
      ]
    },
    {
      "cell_type": "code",
      "metadata": {
        "id": "KVdJklflhUCQ"
      },
      "source": [
        "# SELECTED 10 FEATURES FROM THE FULL SET OF ORIGINAL FEATURES + EXTRACTED \n",
        "# 82 + 20 --> 10"
      ],
      "execution_count": null,
      "outputs": []
    },
    {
      "cell_type": "code",
      "metadata": {
        "colab": {
          "base_uri": "https://localhost:8080/"
        },
        "id": "zNqDurPelpGy",
        "outputId": "a3a0ba5e-a721-4ea3-d627-086cf3b1579d"
      },
      "source": [
        "# stacked encoder\n",
        "compare_algorithms_2(sel_x_train_full_enc_1, y_train, sel_x_test_full_enc_1, y_test)"
      ],
      "execution_count": null,
      "outputs": [
        {
          "output_type": "stream",
          "text": [
            "LR:\n",
            "[[19157   922]\n",
            " [ 4781 15298]]\n",
            "acc:  0.858  / DR:  0.762  / Prec:  0.943  / FAR:  0.046  / FNR:  0.238\n",
            "Type I error:  922  / Type II error:  4781\n",
            "TBM:  0.29\n",
            "TTM:  0.11 \n",
            "\n",
            "LDA:\n",
            "[[18310  1769]\n",
            " [   42 20037]]\n",
            "acc:  0.955  / DR:  0.998  / Prec:  0.919  / FAR:  0.088  / FNR:  0.002\n",
            "Type I error:  1769  / Type II error:  42\n",
            "TBM:  0.14\n",
            "TTM:  0.15 \n",
            "\n",
            "LnSVC:\n",
            "[[19318   761]\n",
            " [ 4741 15338]]\n",
            "acc:  0.863  / DR:  0.764  / Prec:  0.953  / FAR:  0.038  / FNR:  0.236\n",
            "Type I error:  761  / Type II error:  4741\n",
            "TBM:  2.81\n",
            "TTM:  0.12 \n",
            "\n"
          ],
          "name": "stdout"
        }
      ]
    },
    {
      "cell_type": "code",
      "metadata": {
        "colab": {
          "base_uri": "https://localhost:8080/"
        },
        "id": "rIZsCZpmlpNp",
        "outputId": "ccafa2a3-0e4f-4568-9f54-2b3d5a2f9a4b"
      },
      "source": [
        "# sparse encoder\n",
        "compare_algorithms_2(sel_x_train_full_enc_3, y_train, sel_x_test_full_enc_3, y_test)"
      ],
      "execution_count": null,
      "outputs": [
        {
          "output_type": "stream",
          "text": [
            "LR:\n",
            "[[17822  2257]\n",
            " [ 1452 18627]]\n",
            "acc:  0.908  / DR:  0.928  / Prec:  0.892  / FAR:  0.112  / FNR:  0.072\n",
            "Type I error:  2257  / Type II error:  1452\n",
            "TBM:  0.39\n",
            "TTM:  0.12 \n",
            "\n",
            "LDA:\n",
            "[[16801  3278]\n",
            " [ 1466 18613]]\n",
            "acc:  0.882  / DR:  0.927  / Prec:  0.85  / FAR:  0.163  / FNR:  0.073\n",
            "Type I error:  3278  / Type II error:  1466\n",
            "TBM:  0.15\n",
            "TTM:  0.15 \n",
            "\n",
            "LnSVC:\n",
            "[[18868  1211]\n",
            " [ 1444 18635]]\n",
            "acc:  0.934  / DR:  0.928  / Prec:  0.939  / FAR:  0.06  / FNR:  0.072\n",
            "Type I error:  1211  / Type II error:  1444\n",
            "TBM:  4.37\n",
            "TTM:  0.11 \n",
            "\n"
          ],
          "name": "stdout"
        }
      ]
    },
    {
      "cell_type": "code",
      "metadata": {
        "id": "rIq611UVllEh"
      },
      "source": [
        "# SELECTED 10 FEATURES FROM THE SELECTED SET OF ORIGINAL FEATURES + EXTRACTED FEATURES\n",
        "# 10 + 20 --> 10"
      ],
      "execution_count": null,
      "outputs": []
    },
    {
      "cell_type": "code",
      "metadata": {
        "colab": {
          "base_uri": "https://localhost:8080/"
        },
        "id": "f_x4CXTYlpxI",
        "outputId": "afe6acf1-10b4-4a2b-9351-37b5baff577b"
      },
      "source": [
        "# stacked encoder\n",
        "compare_algorithms_2(sel_x_train_sel_enc_1, y_train, sel_x_test_sel_enc_1, y_test)"
      ],
      "execution_count": null,
      "outputs": [
        {
          "output_type": "stream",
          "text": [
            "LR:\n",
            "[[17574  2505]\n",
            " [   28 20051]]\n",
            "acc:  0.937  / DR:  0.999  / Prec:  0.889  / FAR:  0.125  / FNR:  0.001\n",
            "Type I error:  2505  / Type II error:  28\n",
            "TBM:  0.32\n",
            "TTM:  0.12 \n",
            "\n",
            "LDA:\n",
            "[[16800  3279]\n",
            " [    5 20074]]\n",
            "acc:  0.918  / DR:  1.0  / Prec:  0.86  / FAR:  0.163  / FNR:  0.0\n",
            "Type I error:  3279  / Type II error:  5\n",
            "TBM:  0.15\n",
            "TTM:  0.15 \n",
            "\n",
            "LnSVC:\n",
            "[[18434  1645]\n",
            " [   47 20032]]\n",
            "acc:  0.958  / DR:  0.998  / Prec:  0.924  / FAR:  0.082  / FNR:  0.002\n",
            "Type I error:  1645  / Type II error:  47\n",
            "TBM:  2.69\n",
            "TTM:  0.11 \n",
            "\n"
          ],
          "name": "stdout"
        }
      ]
    },
    {
      "cell_type": "code",
      "metadata": {
        "colab": {
          "base_uri": "https://localhost:8080/"
        },
        "id": "R-iFLCbrlp2i",
        "outputId": "21c25d1f-7366-4490-c78c-bd8bd8ff1684"
      },
      "source": [
        "# sparse encoder\n",
        "compare_algorithms_2(sel_x_train_sel_enc_3, y_train, sel_x_test_sel_enc_2, y_test)"
      ],
      "execution_count": null,
      "outputs": [
        {
          "output_type": "stream",
          "text": [
            "LR:\n",
            "[[    0 20079]\n",
            " [    0 20079]]\n",
            "acc:  0.5  / DR:  1.0  / Prec:  0.5  / FAR:  1.0  / FNR:  0.0\n",
            "Type I error:  20079  / Type II error:  0\n",
            "TBM:  0.41\n",
            "TTM:  0.12 \n",
            "\n",
            "LDA:\n",
            "[[    0 20079]\n",
            " [    0 20079]]\n",
            "acc:  0.5  / DR:  1.0  / Prec:  0.5  / FAR:  1.0  / FNR:  0.0\n",
            "Type I error:  20079  / Type II error:  0\n",
            "TBM:  0.15\n",
            "TTM:  0.12 \n",
            "\n",
            "LnSVC:\n",
            "[[    0 20079]\n",
            " [    0 20079]]\n",
            "acc:  0.5  / DR:  1.0  / Prec:  0.5  / FAR:  1.0  / FNR:  0.0\n",
            "Type I error:  20079  / Type II error:  0\n",
            "TBM:  5.3\n",
            "TTM:  0.11 \n",
            "\n"
          ],
          "name": "stdout"
        },
        {
          "output_type": "stream",
          "text": [
            "/usr/local/lib/python3.6/dist-packages/sklearn/svm/_base.py:947: ConvergenceWarning: Liblinear failed to converge, increase the number of iterations.\n",
            "  \"the number of iterations.\", ConvergenceWarning)\n"
          ],
          "name": "stderr"
        }
      ]
    },
    {
      "cell_type": "markdown",
      "metadata": {
        "id": "7tMH_j9i5eV6"
      },
      "source": [
        "NEURAL NETWORK MODEL"
      ]
    },
    {
      "cell_type": "code",
      "metadata": {
        "id": "-4Qj-5JYv3_i"
      },
      "source": [
        "# use a reduced (train) data set for grid search \n",
        "reduced_x_train, reduced_y_train = reduced_data(df_train_data_filtered, 2000)"
      ],
      "execution_count": null,
      "outputs": []
    },
    {
      "cell_type": "code",
      "metadata": {
        "id": "POw9MCJoq5kD"
      },
      "source": [
        "grid_search(reduced_x_train, reduced_y_train)\n",
        "\"\"\"Best: 0.471667 using {'batch_size': 5, 'epochs': 5, 'init': 'glorot_uniform', 'optimizer': 'adam'}\"\"\""
      ],
      "execution_count": null,
      "outputs": []
    },
    {
      "cell_type": "code",
      "metadata": {
        "id": "W2gksJefrCBk"
      },
      "source": [
        "def create_nn_model(neurons, number_of_features, init=\"glorot_uniform\"):\n",
        "  # returns a fully-connected network structure with three layers.\n",
        "\n",
        "  model=Sequential()\n",
        "  model.add(Dense(neurons, input_dim=number_of_features, activation=\"relu\", kernel_initializer=init))\n",
        "  model.add(Dropout(0.3))\n",
        "  model.add(Dense(1, activation=\"softmax\", kernel_initializer=init))\n",
        "\n",
        "  model.compile(loss=\"binary_crossentropy\", optimizer=\"adam\", metrics=[\"accuracy\"])\n",
        "\n",
        "  return model"
      ],
      "execution_count": null,
      "outputs": []
    },
    {
      "cell_type": "code",
      "metadata": {
        "colab": {
          "base_uri": "https://localhost:8080/"
        },
        "id": "skZxWcOvookZ",
        "outputId": "b9461996-a5d2-4482-d099-ab55ee7f1b29"
      },
      "source": [
        "start1 = time.time()\n",
        "\n",
        "model = create_nn_model(82)\n",
        "model.fit(x_train, y_train, batch_size=5, epochs=5)\n",
        "\n",
        "train_time = time.time()\n",
        "\n",
        "loss, accuracy = model.evaluate(x_train, y_train)\n",
        "\n",
        "# predictions\n",
        "start2 = time.time()\n",
        "\n",
        "predictions = model.predict(x_test)\n",
        "test_acc = accuracy_score(y_test, predictions)\n",
        "test_auc = roc_auc_score(y_test, predictions)\n",
        "class_report = classification_report(y_test, predictions)\n",
        "\n",
        "test_time = time.time()\n",
        "\n",
        "print(\"acc: %.3f\" % (test_acc))\n",
        "print(\"auc: %.3f\" % (test_auc))\n",
        "print(\"TBM: \", train_time-start, \"seconds\")\n",
        "print(\"TTM:\", test_time-train_time, \"seconds\")\n",
        "print(class_report)"
      ],
      "execution_count": null,
      "outputs": [
        {
          "output_type": "stream",
          "text": [
            "Epoch 1/5\n",
            "19409/19409 [==============================] - 68s 3ms/step - loss: 0.0565 - accuracy: 0.4980\n",
            "Epoch 2/5\n",
            "19409/19409 [==============================] - 66s 3ms/step - loss: 0.0332 - accuracy: 0.5035\n",
            "Epoch 3/5\n",
            "19409/19409 [==============================] - 66s 3ms/step - loss: 0.0339 - accuracy: 0.4986\n",
            "Epoch 4/5\n",
            "19409/19409 [==============================] - 67s 3ms/step - loss: 0.0318 - accuracy: 0.5014\n",
            "Epoch 5/5\n",
            "19409/19409 [==============================] - 66s 3ms/step - loss: 0.0257 - accuracy: 0.4971\n",
            "3033/3033 [==============================] - 5s 1ms/step - loss: 0.0186 - accuracy: 0.5000\n"
          ],
          "name": "stdout"
        }
      ]
    },
    {
      "cell_type": "code",
      "metadata": {
        "id": "P7cnvFSPyHUo"
      },
      "source": [
        ""
      ],
      "execution_count": null,
      "outputs": []
    },
    {
      "cell_type": "code",
      "metadata": {
        "id": "dDUYdjvuvdek"
      },
      "source": [
        "# Grid search for number of neurons of the NN\n",
        "\n",
        "def grid_search_neurons(features, input, output):\n",
        "\n",
        "  from keras.constraints import maxnorm\n",
        " \n",
        "  # Function to create model, required for KerasClassifier\n",
        "  def create_model(neurons=1):\n",
        "    # create model\n",
        "    model = Sequential()\n",
        "    model.add(Dense(neurons, input_dim=features, activation=\"relu\", kernel_initializer=\"glorot_uniform\"))\n",
        "    model.add(Dense(5, kernel_initializer=\"glorot_uniform\", activation=\"relu\"))\n",
        "    model.add(Dense(1, kernel_initializer=\"glorot_uniform\", activation=\"softmax\"))\n",
        "    # Compile model\n",
        "    model.compile(loss='binary_crossentropy', optimizer='SGD', metrics=['accuracy'])\n",
        "    return model\n",
        "\n",
        "  model = KerasClassifier(build_fn=create_model, epochs=40, batch_size=5, verbose=0)\n",
        "  # define the grid search parameters\n",
        "  neurons = [1,5,7]\n",
        "  param_grid = dict(neurons=neurons)\n",
        "  grid = GridSearchCV(estimator=model, param_grid=param_grid, n_jobs=-1, cv=3)\n",
        "  grid_result = grid.fit(input, output)\n",
        "  # summarize results\n",
        "  print(\"Best: %f using %s\" % (grid_result.best_score_, grid_result.best_params_))\n",
        "  means = grid_result.cv_results_['mean_test_score']\n",
        "  stds = grid_result.cv_results_['std_test_score']\n",
        "  params = grid_result.cv_results_['params']\n",
        "  for mean, stdev, param in zip(means, stds, params):\n",
        "      print(\"%f (%f) with: %r\" % (mean, stdev, param))\n"
      ],
      "execution_count": null,
      "outputs": []
    },
    {
      "cell_type": "code",
      "metadata": {
        "id": "R3AMEgz-qkjl"
      },
      "source": [
        "# Grid search for epochs, batch size, optimizer, initializer of the NN\n",
        "\n",
        "def grid_search(features, input, output):\n",
        "\n",
        "  # create model\n",
        "\n",
        "  def create_model(optimizer=\"adam\", init=\"glorot_uniform\"):\n",
        "    model=Sequential()\n",
        "    model.add(Dense(103, input_dim=features, kernel_initializer=init, activation=\"relu\"))\n",
        "    model.add(Dense(60, kernel_initializer=init, activation=\"relu\"))\n",
        "    model.add(Dense(1, kernel_initializer=init, activation=\"softmax\"))\n",
        "\n",
        "    model.compile(loss=\"binary_crossentropy\", optimizer=optimizer, metrics=[\"accuracy\"])\n",
        "    return model\n",
        "  model = KerasClassifier(build_fn = create_model, verbose=0)\n",
        "\n",
        "  # grid search to find epochs, batch_size, optimizer\n",
        "  epochs_list = [40,50]\n",
        "  batches_list = [5,15]\n",
        "  #optimizer_list = ['SGD', 'RMSprop', 'Adagrad', 'Adadelta', 'Adam', 'Adamax', 'Nadam']\n",
        "  optimizer_list = [\"SGD\"]\n",
        "  #inits_list = [\"glorot_uniform\", \"normal\", \"uniform\"]\n",
        "  inits_list = [\"glorot_uniform\"]\n",
        "\n",
        "  param_grid_dictionary=dict(optimizer=optimizer_list, epochs=epochs_list, batch_size=batches_list, init=inits_list)\n",
        "  type(param_grid_dictionary)\n",
        "  grid=GridSearchCV(estimator=model,param_grid=param_grid_dictionary)\n",
        "  grid_result=grid.fit(input,output)\n",
        "\n",
        "  # summarize results\n",
        "  print(\"Best: %f using %s\" % (grid_result.best_score_, grid_result.best_params_))\n",
        "  means = grid_result.cv_results_['mean_test_score']\n",
        "  stds = grid_result.cv_results_['std_test_score']\n",
        "  params = grid_result.cv_results_['params']\n",
        "  for mean, stdev, param in zip(means, stds, params):\n",
        "    print(\"%f (%f) with: %r\" % (mean, stdev, param))\n"
      ],
      "execution_count": null,
      "outputs": []
    },
    {
      "cell_type": "code",
      "metadata": {
        "id": "caGSDx_TwUxe"
      },
      "source": [
        "xy_train_full_enc_1 = mixed_data_2(x_train_full_enc_1, y_train)\n",
        "reduced_x_train_full_enc_1, reduced_y_train_full_enc_1 = reduced_data(xy_train_full_enc_1, 600)"
      ],
      "execution_count": null,
      "outputs": []
    },
    {
      "cell_type": "code",
      "metadata": {
        "colab": {
          "base_uri": "https://localhost:8080/"
        },
        "id": "N0ljxx6JuLPW",
        "outputId": "1e2e6fb5-bb36-4e8f-fd50-4040b98d3854"
      },
      "source": [
        "grid_search(102, reduced_x_train_full_enc_1, reduced_y_train_full_enc_1)"
      ],
      "execution_count": null,
      "outputs": [
        {
          "output_type": "stream",
          "text": [
            "Best: 0.471667 using {'batch_size': 5, 'epochs': 40, 'init': 'glorot_uniform', 'optimizer': 'SGD'}\n",
            "0.471667 (0.031447) with: {'batch_size': 5, 'epochs': 40, 'init': 'glorot_uniform', 'optimizer': 'SGD'}\n",
            "0.471667 (0.031447) with: {'batch_size': 5, 'epochs': 50, 'init': 'glorot_uniform', 'optimizer': 'SGD'}\n",
            "0.471667 (0.031447) with: {'batch_size': 15, 'epochs': 40, 'init': 'glorot_uniform', 'optimizer': 'SGD'}\n",
            "0.471667 (0.031447) with: {'batch_size': 15, 'epochs': 50, 'init': 'glorot_uniform', 'optimizer': 'SGD'}\n"
          ],
          "name": "stdout"
        }
      ]
    },
    {
      "cell_type": "code",
      "metadata": {
        "colab": {
          "base_uri": "https://localhost:8080/"
        },
        "id": "LGQkeB3xQifn",
        "outputId": "410b36c2-1b54-4978-d114-dbd66860e28e"
      },
      "source": [
        "grid_search_neurons(102, reduced_x_train_full_enc_1, reduced_y_train_full_enc_1)"
      ],
      "execution_count": null,
      "outputs": [
        {
          "output_type": "stream",
          "text": [
            "Best: 0.471667 using {'neurons': 1}\n",
            "0.471667 (0.006236) with: {'neurons': 1}\n",
            "0.471667 (0.006236) with: {'neurons': 5}\n",
            "0.471667 (0.006236) with: {'neurons': 7}\n"
          ],
          "name": "stdout"
        }
      ]
    }
  ]
}