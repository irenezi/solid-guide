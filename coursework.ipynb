{
  "nbformat": 4,
  "nbformat_minor": 0,
  "metadata": {
    "colab": {
      "name": "coursework.ipynb",
      "provenance": [],
      "collapsed_sections": [],
      "toc_visible": true,
      "authorship_tag": "ABX9TyPZ4cXrVXpFpJLPKs0kPx+q",
      "include_colab_link": true
    },
    "kernelspec": {
      "display_name": "Python 3",
      "name": "python3"
    }
  },
  "cells": [
    {
      "cell_type": "markdown",
      "metadata": {
        "id": "view-in-github",
        "colab_type": "text"
      },
      "source": [
        "<a href=\"https://colab.research.google.com/github/irenezi/solid-guide/blob/master/coursework.ipynb\" target=\"_parent\"><img src=\"https://colab.research.google.com/assets/colab-badge.svg\" alt=\"Open In Colab\"/></a>"
      ]
    },
    {
      "cell_type": "code",
      "metadata": {
        "id": "l3_qVcGUuKhO"
      },
      "source": [
        "import pandas as pd\r\n",
        "import numpy as np\r\n",
        "from pandas import read_csv, set_option\r\n",
        "from numpy import set_printoptions\r\n",
        "from matplotlib import pyplot\r\n",
        "from pandas.plotting import scatter_matrix\r\n",
        "from sklearn.preprocessing import Normalizer, MinMaxScaler\r\n",
        "from sklearn.feature_selection import VarianceThreshold, SelectKBest, chi2, RFE\r\n",
        "from sklearn.model_selection import KFold, cross_val_score\r\n",
        "from sklearn.linear_model import LogisticRegression\r\n",
        "from sklearn.tree import DecisionTreeClassifier\r\n",
        "from sklearn.neighbors import KNeighborsClassifier\r\n",
        "from sklearn.discriminant_analysis import LinearDiscriminantAnalysis\r\n",
        "from sklearn.naive_bayes import GaussianNB\r\n",
        "from sklearn.svm import SVC, LinearSVC\r\n",
        "from sklearn.metrics import accuracy_score\r\n",
        "from sklearn.ensemble import ExtraTreesClassifier"
      ],
      "execution_count": null,
      "outputs": []
    },
    {
      "cell_type": "code",
      "metadata": {
        "id": "1T8gpZlHcfYf"
      },
      "source": [
        "def filter_constant_columns(df_data_set_x, variance=0):\r\n",
        "  # This function filters out all the constant columns (variance = 0)\r\n",
        "  \r\n",
        "  constant_filter = VarianceThreshold(threshold=variance)\r\n",
        "  constant_filter.fit(df_data_set_x)\r\n",
        "  non_constant = constant_filter.get_support()\r\n",
        "\r\n",
        "  columns_to_keep = (df_data_set_x.columns[constant_filter.get_support()])\r\n",
        "\r\n",
        "  return df_data_set_x[columns_to_keep]"
      ],
      "execution_count": null,
      "outputs": []
    },
    {
      "cell_type": "code",
      "metadata": {
        "id": "34mL89vG5mDf"
      },
      "source": [
        "def normalize(x_train_input, x_test_input):\n",
        "  # Normalize train and test data\n",
        "  # Normalize the training set and save the normalization parameters\n",
        "  # Normalize the test set using the training normalization parameters\n",
        "\n",
        "  scaler=Normalizer().fit(x_train_input)\n",
        "  x_train_norm=scaler.transform(x_train_input)\n",
        "  x_test_norm=scaler.transform(x_test_input)\n",
        "  \n",
        "  return x_train_norm, x_test_norm"
      ],
      "execution_count": null,
      "outputs": []
    },
    {
      "cell_type": "code",
      "metadata": {
        "id": "YU8ONbjs05A1"
      },
      "source": [
        "def rescale(x_train_input, x_test_input):\n",
        "  # Rescale train and test data\n",
        "  # Rescale the training set and save the normalization parameters\n",
        "  # Rescale the test set using the training normalization parameters\n",
        "\n",
        "  scaler=MinMaxScaler(feature_range=(0,1))\n",
        "  x_train_resc=scaler.fit_transform(x_train_input)\n",
        "  x_test_resc=scaler.transform(x_test_input)\n",
        "  return x_train_resc, x_test_resc"
      ],
      "execution_count": null,
      "outputs": []
    },
    {
      "cell_type": "code",
      "metadata": {
        "id": "HqtXs2ub9sgf"
      },
      "source": [
        "def compare_algorithms(x_train_input, y_train_output, x_test_input, y_test_output):\n",
        "\n",
        "  # prints the validation accuracy (using K-Folf method on the train data set)\n",
        "  # and the test accuracy by apllying a variety of models to the test data set  \n",
        "  \n",
        "  models=[]\n",
        "  models.append(('LR', LogisticRegression(solver='liblinear'))) \n",
        "  models.append(('LDA', LinearDiscriminantAnalysis()))\n",
        "  #models.append(('PCA', PCA(n_components=4)))\n",
        "  models.append(('KNN', KNeighborsClassifier()))\n",
        "  models.append(('CART', DecisionTreeClassifier()))\n",
        "  models.append(('NB', GaussianNB()))\n",
        "  models.append(('SVC', SVC()))\n",
        "  models.append(('LnSVC', LinearSVC()))\n",
        "\n",
        "  print(\"Validation accuracy:\")\n",
        "  for name, model in models:\n",
        "    kfold = KFold(n_splits=5, random_state=3, shuffle=True)\n",
        "    cv_results = cross_val_score(model,x_train_input,y_train_output,cv=kfold,scoring=\"accuracy\")\n",
        "    print(\"%s: %.3f (%.3f)\" % (name,cv_results.mean(),cv_results.std()))\n",
        "  \n",
        "  print(\"Test accuracy:\")\n",
        "  for name, model in models:\n",
        "    model.fit(x_train_input, y_train_output)\n",
        "    test_prediction = model.predict(x_test_input)\n",
        "    test_acc = accuracy_score(y_test_output, test_prediction)\n",
        "    print(\"%s: %.3f\" % (name,test_acc))\n"
      ],
      "execution_count": 60,
      "outputs": []
    },
    {
      "cell_type": "code",
      "metadata": {
        "id": "z9vgZFr8euFc"
      },
      "source": [
        "def kbest(x_train_input, y_train_output, x_test_input):\n",
        "  # feature selection using K-best\n",
        "  \n",
        "  # apply SelectKBest class to extract top 10 best features\n",
        "  bestfeatures = SelectKBest(score_func=chi2, k=10)\n",
        "  fit = bestfeatures.fit(x_train_input, y_train_output)\n",
        "  dfscores = pd.DataFrame(fit.scores_)\n",
        "  df = pd.DataFrame(x_train_input)\n",
        "  dfcolumns = pd.DataFrame(df.columns)\n",
        "\n",
        "  # concat two dataframes for better visualization \n",
        "  featureScores = pd.concat([dfcolumns,dfscores],axis=1)\n",
        "  # naming the dataframe columns\n",
        "  featureScores.columns = ['Specs','Score']  \n",
        "\n",
        "  # print 10 best features\n",
        "  print(featureScores.nlargest(10,'Score'))  \n",
        "\n",
        "  # find the columns of the 10 best features\n",
        "  featureScores=featureScores.nlargest(10,'Score').values\n",
        "  col=list(featureScores[:,0])\n",
        "\n",
        "  # returned train data set\n",
        "  features = fit.transform(x_train_input)\n",
        "\n",
        "  # returned test data set\n",
        "  df_test_features = pd.DataFrame(x_test_input)\n",
        "  test_features = df_test_features[col]\n",
        "\n",
        "  return features, test_features.values"
      ],
      "execution_count": null,
      "outputs": []
    },
    {
      "cell_type": "code",
      "metadata": {
        "id": "0M9oa_TtnPJo"
      },
      "source": [
        "def rfe_elimination(model, x_train_input, y_train_output, x_test_input):\n",
        "  # apply Recursive Feature Elimination(RFE) for feature selection\n",
        "\n",
        "  rfe=RFE(model,10)\n",
        "  fit=rfe.fit(x_train_input, y_train_output)\n",
        "  print(\"Num Features: %d\" % fit.n_features_)\n",
        "  print(\"Selected Features: %s\" % fit.support_)\n",
        "  print(\"Feature Ranking: %s\" % fit.ranking_)\n",
        "\n",
        "  dfscores = pd.DataFrame(fit.ranking_)\n",
        "  df = pd.DataFrame(x_train_input)\n",
        "  dfcolumns = pd.DataFrame(df.columns)\n",
        "\n",
        "  # concat two dataframes for better visualization \n",
        "  featureScores = pd.concat([dfcolumns,dfscores],axis=1)\n",
        "  # naming the dataframe columns\n",
        "  featureScores.columns = ['Specs','Score']  \n",
        "  print(featureScores.nsmallest(10,'Score')) \n",
        "\n",
        "  # find the columns of the 10 best features\n",
        "  featureScores=(featureScores.nsmallest(10,'Score')).values\n",
        "  col=list(featureScores[:,0])\n",
        "  print(col)\n",
        "\n",
        "  # returned train data set\n",
        "  features=fit.transform(x_train_input)\n",
        "\n",
        "  # returned test data set\n",
        "  df_test_features = pd.DataFrame(x_test_input)\n",
        "  test_features = df_test_features[col]\n",
        "\n",
        "  return features, test_features.values\n"
      ],
      "execution_count": null,
      "outputs": []
    },
    {
      "cell_type": "code",
      "metadata": {
        "id": "PqH5mEPbp-ei"
      },
      "source": [
        "def extra_trees_classifier(x_train_input, y_train_output, x_test_input):\n",
        "  # feature selection with extra tree classifier - Feature Importance\n",
        "\n",
        "  model = ExtraTreesClassifier()\n",
        "  tree=model.fit(x_train_input,y_train_output)\n",
        "  print(model.feature_importances_)\n",
        "  \n",
        "  print(\"the larger the score, the more important the attribute\")\n",
        "\n",
        "  dfscores = pd.DataFrame(tree.feature_importances_)\n",
        "  df = pd.DataFrame(x_train_input)\n",
        "  dfcolumns = pd.DataFrame(df.columns)\n",
        "  \n",
        "  # concat two dataframes for better visualization \n",
        "  featureScores = pd.concat([dfcolumns,dfscores],axis=1)\n",
        "  # naming the dataframe columns\n",
        "  featureScores.columns = ['Specs','Score']  \n",
        "  featureScores=featureScores.nlargest(10,'Score')\n",
        "  \n",
        "  # find the columns of the 10 best features\n",
        "  featureScores=featureScores.values\n",
        "  col=list(featureScores[:,0])\n",
        "  print(col)\n",
        "\n",
        "  # returned train data set\n",
        "  features=df[col]\n",
        "\n",
        "  # returned test data set\n",
        "  df_test_features = pd.DataFrame(x_test_input)\n",
        "  test_features = df_test_features[col]\n",
        "\n",
        "  return features.values, test_features.values\n"
      ],
      "execution_count": null,
      "outputs": []
    },
    {
      "cell_type": "code",
      "metadata": {
        "id": "aKU8JNOZhRCE"
      },
      "source": [
        "#feature union(kbest-RFE logistic reg-extra tree)\n",
        "from sklearn.pipeline import Pipeline, FeatureUnion\n",
        "from sklearn.decomposition import PCA\n",
        "from sklearn.feature_selection import SelectKBest\n",
        "from sklearn.feature_selection import RFE\n",
        "from sklearn.ensemble import ExtraTreesClassifier\n",
        "from sklearn.linear_model import LogisticRegression\n",
        "from sklearn.model_selection import KFold, cross_val_score\n",
        "\n",
        "def features_union(x_data, y_data):\n",
        "  #create feature union\n",
        "  \n",
        "  # ('EXTRE', ExtraTreesClassifier())\n",
        "  \n",
        "  features=[\n",
        "            ('KBEST', SelectKBest(k=10)),\n",
        "            ('RFE', RFE(LogisticRegression(solver='liblinear'),10 ))\n",
        "            \n",
        "  ]\n",
        "\n",
        "  # features = []\n",
        "  # features.append(('pca', PCA(n_components=3)))\n",
        "  # features.append(('select_best', SelectKBest(k=6)))\n",
        "\n",
        "  union = FeatureUnion(features)\n",
        "  union.fit(x_data, y_data)\n",
        "  model = union.transform(x_data)\n",
        "  \n",
        "  return model\n"
      ],
      "execution_count": null,
      "outputs": []
    },
    {
      "cell_type": "code",
      "metadata": {
        "colab": {
          "base_uri": "https://localhost:8080/"
        },
        "id": "ZXcemPuhJKs3",
        "outputId": "5a61413b-9b5e-4598-cf63-679210cf4057"
      },
      "source": [
        "f_union = features_union(x_train, y_train)\r\n",
        "print(f_union.shape)\r\n"
      ],
      "execution_count": null,
      "outputs": [
        {
          "output_type": "stream",
          "text": [
            "(97044, 20)\n"
          ],
          "name": "stdout"
        }
      ]
    },
    {
      "cell_type": "code",
      "metadata": {
        "id": "cLTG-w9ftGYu"
      },
      "source": [
        "#feature union(kbest-RFE logistic reg-extra tree)\n",
        "from sklearn.pipeline import Pipeline, FeatureUnion\n",
        "from sklearn.decomposition import PCA\n",
        "from sklearn.feature_selection import SelectKBest\n",
        "from sklearn.feature_selection import RFE\n",
        "from sklearn.ensemble import ExtraTreesClassifier\n",
        "from sklearn.linear_model import LogisticRegression\n",
        "from sklearn.model_selection import KFold, cross_val_score\n",
        "\n",
        "#create feature union\n",
        "features=[]\n",
        "#features.append(('PCA', PCA(n_components=3)))\n",
        "features.append(('KBEST', SelectKBest(k=10)))\n",
        "features.append(('RFE', RFE(LogisticRegression(solver='liblinear'),10 )))\n",
        "#features.append(('EXTRE', ExtraTreesClassifier()))\n",
        "feature_union=FeatureUnion(features)\n",
        "\n",
        "#create pipeline\n",
        "estimators=[]\n",
        "estimators.append(('feat_union', feature_union))\n",
        "estimators.append(('logistic', LogisticRegression()))\n",
        "model=Pipeline(estimators)\n",
        "\n",
        "#evaluate pipeline\n",
        "kfold=KFold(n_splits=5, random_state=3, shuffle=True)\n",
        "results=cross_val_score(model, x_train_resc,y_train, cv=kfold)\n",
        "print(results.mean())\n"
      ],
      "execution_count": null,
      "outputs": []
    },
    {
      "cell_type": "code",
      "metadata": {
        "colab": {
          "base_uri": "https://localhost:8080/"
        },
        "id": "yTkwkbZFEEPP",
        "outputId": "efeab547-d569-4dfc-9006-41fc1068c4e4"
      },
      "source": [
        "#no need to reshape!!!!\n",
        "#reshape\n",
        "#x_train_norm = x_train_norm.reshape((len(x_train_norm), np.prod(x_train_norm.shape[1:]))) \n",
        "#x_test_norm = x_test_norm.reshape((len(x_test_norm), np.prod(x_test_norm.shape[1:])))\n",
        "#print(x_train_norm.shape)"
      ],
      "execution_count": null,
      "outputs": [
        {
          "output_type": "stream",
          "text": [
            "(97044, 152)\n"
          ],
          "name": "stdout"
        }
      ]
    },
    {
      "cell_type": "code",
      "metadata": {
        "id": "A-nSGFUobMwN"
      },
      "source": [
        "#autoencoder - 2 hidden layers\n",
        "from keras.layers import Dense, Input\n",
        "from keras.models import Model\n",
        "from keras.optimizers import Adam\n",
        "\n",
        "input_img = Input(shape=(152,))\n",
        "hidden_1 = Dense(90, activation='relu')(input_img)\n",
        "code = Dense(30, activation='relu')(hidden_1)\n",
        "hidden_2 = Dense(90, activation='relu')(code) \n",
        "output_img = Dense(152, activation='sigmoid')(hidden_2)\n",
        "\n",
        "autoencoder = Model(input_img, output_img)\n",
        "autoencoder.compile(optimizer='adam', loss='binary_crossentropy')\n",
        "autoencoder.fit(x_train_norm, x_train_norm, epochs=3)\n",
        "\n",
        "predictions_1 = autoencoder.predict(x_test_norm)"
      ],
      "execution_count": null,
      "outputs": []
    },
    {
      "cell_type": "code",
      "metadata": {
        "id": "LV0RSclzJw4l"
      },
      "source": [
        "print(predictions_1.shape)\n",
        "predictions_1"
      ],
      "execution_count": null,
      "outputs": []
    },
    {
      "cell_type": "code",
      "metadata": {
        "id": "Q9wwaGy4joN0"
      },
      "source": [
        "#denoising autoencoder - same layers\n",
        "from keras.layers import Dense, Input\n",
        "from keras.models import Model\n",
        "from keras.optimizers import Adam\n",
        "\n",
        "#noise\n",
        "noise_factor = 0.4\n",
        "x_train_noisy = x_train_norm + noise_factor * np.random.normal(size=x_train_norm.shape)\n",
        "x_test_noisy = x_test_norm + noise_factor * np.random.normal(size=x_test_norm.shape)\n",
        "x_train_noisy = np.clip(x_train_noisy, 0.0, 1.0)\n",
        "x_test_noisy = np.clip(x_test_noisy, 0.0, 1.0)\n",
        "\n",
        "input_img = Input(shape=(152,))\n",
        "hidden_1 = Dense(90, activation='relu')(input_img)\n",
        "code = Dense(30, activation='relu')(hidden_1)\n",
        "hidden_2 = Dense(90, activation='relu')(code) \n",
        "output_img = Dense(152, activation='sigmoid')(hidden_2)\n",
        "\n",
        "autoencoder_noisy = Model(input_img, output_img)\n",
        "autoencoder_noisy.compile(optimizer='adam', loss='binary_crossentropy')\n",
        "autoencoder_noisy.fit(x_train_noisy, x_train_norm, epochs=3)\n",
        "\n",
        "predictions_2 = autoencoder_noisy.predict(x_test_noisy)"
      ],
      "execution_count": null,
      "outputs": []
    },
    {
      "cell_type": "code",
      "metadata": {
        "id": "rimNfUGgDDob"
      },
      "source": [
        "#without regularization (not sparsed)\n",
        "from keras.layers import Dense, Input\n",
        "from keras.models import Model\n",
        "from keras.optimizers import Adam\n",
        "\n",
        "input_size = 152\n",
        "code_size = 30\n",
        "\n",
        "input_img = Input(shape=(input_size,))\n",
        "code = Dense(code_size, activation='relu')(input_img) \n",
        "output_img = Dense(input_size, activation='sigmoid')(code)\n",
        "\n",
        "autoencoder_standard = Model(input_img, output_img) \n",
        "autoencoder_standard.compile(optimizer='adam', loss='binary_crossentropy') \n",
        "history_standard = autoencoder_standard.fit(x_train_norm, x_train_norm, epochs=3)\n",
        "encoded_standard = Model(input_img, code)\n",
        "\n",
        "predictions_3 = autoencoder_standard.predict(x_test_norm)"
      ],
      "execution_count": null,
      "outputs": []
    },
    {
      "cell_type": "code",
      "metadata": {
        "id": "sNxK6SdZelO9"
      },
      "source": [
        "#sparse autoencoder with regularization\n",
        "from keras.regularizers import l1\n",
        "\n",
        "input_size = 152\n",
        "code_size = 30\n",
        "\n",
        "input_img = Input(shape=(input_size,))\n",
        "code = Dense(code_size,activity_regularizer=l1(10e-4), activation='relu')(input_img) \n",
        "output_img = Dense(input_size, activation='sigmoid')(code)\n",
        "\n",
        "autoencoder_regularized = Model(input_img, output_img) \n",
        "autoencoder_regularized.compile(optimizer='adam', loss='binary_crossentropy') \n",
        "history_regularized = autoencoder_regularized.fit(x_train_norm, x_train_norm, epochs=3)\n",
        "encoded_regularized = Model(input_img, code)\n",
        "\n",
        "predictions_4 = autoencoder_regularized.predict(x_test_norm)"
      ],
      "execution_count": null,
      "outputs": []
    },
    {
      "cell_type": "code",
      "metadata": {
        "id": "GZN-l--kH4I8"
      },
      "source": [
        "autoencoder.evaluate(x_test_norm, x_test_norm)\n",
        "autoencoder_noisy.evaluate(x_test_norm, x_test_norm)\n",
        "autoencoder_standard.evaluate(x_test_norm, x_test_norm)\n",
        "autoencoder_regularized.evaluate(x_test_norm, x_test_norm)\n",
        "\n",
        "print(predictions_1.mean())\n",
        "#print(autoencoder.predict(x_test_norm).mean()) - same\n",
        "print(predictions_2.mean())\n",
        "print(predictions_3.mean()) \n",
        "print(predictions_4.mean())"
      ],
      "execution_count": null,
      "outputs": []
    },
    {
      "cell_type": "code",
      "metadata": {
        "id": "meOWVa8rTeGR"
      },
      "source": [
        "#not ready!!\n",
        "import matplotlib.pyplot as plt\n",
        "\n",
        "# plot loss\n",
        "plt.plot(history_standard.history['loss'], label='train')\n",
        "plt.plot(history_standard.history['val_loss'], label='test')\n",
        "plt.legend()\n",
        "plt.show()"
      ],
      "execution_count": null,
      "outputs": []
    },
    {
      "cell_type": "code",
      "metadata": {
        "id": "yHdkwhRH7yqZ"
      },
      "source": [
        "#reduced train dataset\n",
        "import numpy as np\n",
        "number_of_rows = train_data_array.shape[0]\n",
        "print(number_of_rows)\n",
        "random_indices = np.random.choice(number_of_rows,size=600, replace=False)\n",
        "random_rows = train_data_array[random_indices, :]\n",
        "\n",
        "X=random_rows[:,0:152]\n",
        "Y=random_rows[:,152]"
      ],
      "execution_count": null,
      "outputs": []
    },
    {
      "cell_type": "code",
      "metadata": {
        "id": "quxt4Dxcr2_q"
      },
      "source": [
        "#GRID SEARCH FOR NN\n",
        "\n",
        "# MLP for Pima Indians Dataset with grid search via sklearn\n",
        "\n",
        "from keras.layers import Dense\n",
        "from keras.models import Sequential\n",
        "from sklearn.model_selection import GridSearchCV\n",
        "from keras.wrappers.scikit_learn import KerasClassifier\n",
        "\n",
        "#numpy.set_printoptions(precision=3)\n",
        "\n",
        "\n",
        "# create a function to build a model\n",
        "#required for KerasClassifier\n",
        "def create_model_2(init=\"glorot_uniform\", optimizer=\"rmsprop\"):\n",
        "  model=Sequential()\n",
        "  model.add(Dense(150, input_dim=152, activation=\"relu\", kernel_initializer=init))\n",
        "  model.add(Dense(50, activation=\"relu\", kernel_initializer=init))\n",
        "  model.add(Dense(1, activation=\"softmax\", kernel_initializer=init))\n",
        "\n",
        "  model.compile(loss=\"binary_crossentropy\", optimizer=optimizer, metrics=[\"accuracy\"])\n",
        "\n",
        "  return model\n",
        "\n",
        "# create model\n",
        "model_2=KerasClassifier(build_fn=create_model_2, verbose=0)\n",
        "\n",
        "#grid search to find epochs, batch_size, optimizer\n",
        "epochs_list=[50,100,150,200]\n",
        "batches_list=[5,10,15]\n",
        "optimizer_list=[\"adam\", \"rmsprop\"]\n",
        "inits_list=[\"glorot_uniform\",\"normal\", \"uniform\"]\n",
        "\n",
        "param_grid_dictionary=dict(optimizer=optimizer_list, epochs=epochs_list, batch_size=batches_list, init=inits_list)\n",
        "type(param_grid_dictionary)\n",
        "grid=GridSearchCV(estimator=model_2,param_grid=param_grid_dictionary)\n",
        "grid_result=grid.fit(X,Y)\n",
        "\n",
        "# summarize results\n",
        "print(\"Best: %f using %s\" % (grid_result.best_score_, grid_result.best_params_))\n",
        "means = grid_result.cv_results_['mean_test_score']\n",
        "stds = grid_result.cv_results_['std_test_score']\n",
        "params = grid_result.cv_results_['params']\n",
        "for mean, stdev, param in zip(means, stds, params):\n",
        "  print(\"%f (%f) with: %r\" % (mean, stdev, param))\n",
        "\n",
        "#best result 0,5033, epochs=50, batches=5, optimizer=\"adam\", inits=\"glorot_uniform\"\n"
      ],
      "execution_count": null,
      "outputs": []
    },
    {
      "cell_type": "code",
      "metadata": {
        "id": "_5-09xovEH1j"
      },
      "source": [
        "#GRID SEARCH FOR CNN\n",
        "\n",
        "# MLP for Pima Indians Dataset with grid search via sklearn\n",
        "\n",
        "from keras.layers import Dense, Dropout, Flatten\n",
        "from keras.layers.convolutional import Conv2D, MaxPooling2D\n",
        "from keras.models import Sequential\n",
        "from sklearn.model_selection import GridSearchCV\n",
        "from keras.wrappers.scikit_learn import KerasClassifier\n",
        "\n",
        "#numpy.set_printoptions(precision=3)\n",
        "\n",
        "\n",
        "# create a function to build a model\n",
        "#required for KerasClassifier\n",
        "def create_model_CNN(init=\"glorot_uniform\", optimizer=\"rmsprop\"):\n",
        "  model=Sequential()\n",
        "  model.add(Conv2D(32,kernel_size=(5,5), strides=(1,1), padding=\"same\", activation=\"relu\", input_shape=(1,152,600)))\n",
        "  model.add(MaxPooling2D(pool_size=(2,2),strides=(2,2)))\n",
        "  model.add(Conv2D(64,(2,2),activation=\"relu\",padding=\"same\"))\n",
        "  model.add(MaxPooling2D(pool_size=(2,2)))\n",
        "  model.add(Dropout(0,25))\n",
        "  model.add(Flatten())\n",
        "  model.add(Dense(1000, activation=\"relu\"))\n",
        "  model.add(Dropout(0,5))\n",
        "  model.add(Dense(2, activation=\"softmax\"))\n",
        "\n",
        "  model.compile(loss=\"binary_crossentropy\", optimizer=optimizer, metrics=[\"accuracy\"])\n",
        "\n",
        "  return model\n",
        "\n",
        "# create model\n",
        "model_CNN=KerasClassifier(build_fn=create_model_CNN, verbose=0)\n",
        "\n",
        "#grid search to find epochs, batch_size, optimizer\n",
        "epochs_list=[100,150]\n",
        "batches_list=[5,10]\n",
        "optimizer_list=[\"adam\", \"rmsprop\"]\n",
        "inits_list=[\"glorot_uniform\",\"normal\", \"uniform\"]\n",
        "\n",
        "param_grid_dictionary=dict(optimizer=optimizer_list, epochs=epochs_list, batch_size=batches_list, init=inits_list)\n",
        "type(param_grid_dictionary)\n",
        "grid=GridSearchCV(estimator=model_CNN,param_grid=param_grid_dictionary)\n",
        "grid_result=grid.fit(X,Y)\n",
        "\n",
        "# summarize results\n",
        "print(\"Best: %f using %s\" % (grid_result.best_score_, grid_result.best_params_))\n",
        "means = grid_result.cv_results_['mean_test_score']\n",
        "stds = grid_result.cv_results_['std_test_score']\n",
        "params = grid_result.cv_results_['params']\n",
        "for mean, stdev, param in zip(means, stds, params):\n",
        "  print(\"%f (%f) with: %r\" % (mean, stdev, param))\n",
        "  "
      ],
      "execution_count": null,
      "outputs": []
    },
    {
      "cell_type": "code",
      "metadata": {
        "colab": {
          "background_save": true
        },
        "id": "QFjF5QHfGQ_5"
      },
      "source": [
        "compare_algorithms(x_train, y_train)  "
      ],
      "execution_count": null,
      "outputs": []
    },
    {
      "cell_type": "code",
      "metadata": {
        "id": "D7N52I7tGRG8"
      },
      "source": [
        "compare_algorithms(x_train_norm, y_train)  "
      ],
      "execution_count": null,
      "outputs": []
    },
    {
      "cell_type": "code",
      "metadata": {
        "id": "ugTn-ACEAmOt"
      },
      "source": [
        "compare_algorithms(x_train_resc, y_train)"
      ],
      "execution_count": null,
      "outputs": []
    },
    {
      "cell_type": "markdown",
      "metadata": {
        "id": "8Th9DJqd7TZP"
      },
      "source": [
        "MAY NOT BE NEEDED"
      ]
    },
    {
      "cell_type": "code",
      "metadata": {
        "colab": {
          "base_uri": "https://localhost:8080/",
          "height": 271
        },
        "id": "7lM5tj9NQzSa",
        "outputId": "be6d3aa3-25a9-4d4d-d5c5-89e3e951dde7"
      },
      "source": [
        "#correlation matrix plot\n",
        "correlations=df_train_data_filtered.corr()\n",
        "fig=pyplot.figure()\n",
        "ax=fig.add_subplot(1,1,1)\n",
        "cax=ax.matshow(correlations,vmin=-1, vmax=1)\n",
        "fig.colorbar(cax)\n",
        "pyplot.show()"
      ],
      "execution_count": null,
      "outputs": [
        {
          "output_type": "display_data",
          "data": {
            "image/png": "[encoded data removed]",
            "text/plain": [
              "<Figure size 432x288 with 2 Axes>"
            ]
          },
          "metadata": {
            "tags": [],
            "needs_background": "light"
          }
        }
      ]
    },
    {
      "cell_type": "code",
      "metadata": {
        "id": "MaMH_5U53vm0"
      },
      "source": [
        "df_train_data_filtered.corr(method=\"pearson\")"
      ],
      "execution_count": null,
      "outputs": []
    },
    {
      "cell_type": "code",
      "metadata": {
        "id": "94iCQv43R7xv"
      },
      "source": [
        "#scatter plot matrix\n",
        "scatter_matrix(train_data, figsize=[20,20])\n",
        "pyplot.show()"
      ],
      "execution_count": null,
      "outputs": []
    },
    {
      "cell_type": "code",
      "metadata": {
        "id": "FFdb4sgJ0kXR"
      },
      "source": [
        "set_option(\"display.width\",100)\n",
        "set_option(\"precision\",2)\n",
        "train_data.describe()\n",
        "\n",
        "set_printoptions(precision=3)"
      ],
      "execution_count": null,
      "outputs": []
    },
    {
      "cell_type": "code",
      "metadata": {
        "id": "JE39KsLR2Boc"
      },
      "source": [
        "#check if balanced\n",
        "train_data.groupby(\"155\").size()\n",
        "test_data.groupby(\"155\").size()"
      ],
      "execution_count": null,
      "outputs": []
    },
    {
      "cell_type": "code",
      "metadata": {
        "id": "HsVRjH3u6Rzm"
      },
      "source": [
        "#check for skew\r\n",
        "pd.set_option('max_rows', 99999)\r\n",
        "pd.set_option('max_colwidth', 400)\r\n",
        "pd.describe_option('max_colwidth')\r\n",
        "\r\n",
        "results_skew = train_data.skew()\r\n",
        "print(results_skew)"
      ],
      "execution_count": null,
      "outputs": []
    },
    {
      "cell_type": "code",
      "metadata": {
        "id": "v5QB6Tbm68ja"
      },
      "source": [
        "print(np.max(x_test_norm))\n",
        "np.min(x_test_norm)"
      ],
      "execution_count": null,
      "outputs": []
    },
    {
      "cell_type": "code",
      "metadata": {
        "id": "CQO545Ul4y94"
      },
      "source": [
        "from sklearn.svm import SVR, SVC, LinearSVC\n",
        "rfe_elimination(SVR(kernel=\"linear\"), x_train, y_train)\n",
        "rfe_elimination(SVC(), x_train, y_train)\n",
        "rfe_elimination(LinearSVC(), x_train, y_train)"
      ],
      "execution_count": null,
      "outputs": []
    },
    {
      "cell_type": "markdown",
      "metadata": {
        "id": "KxJd23Hyp39u"
      },
      "source": [
        "RUN"
      ]
    },
    {
      "cell_type": "markdown",
      "metadata": {
        "id": "K76ClZgz5vu0"
      },
      "source": [
        "DEALING WITH THE DATA"
      ]
    },
    {
      "cell_type": "code",
      "metadata": {
        "id": "8UunGMNRNXAT"
      },
      "source": [
        "#load the data\n",
        "filename1 =\"train_imperson_without4n7_balanced_data.csv\"\n",
        "filename2 =\"test_imperson_without4n7_balanced_data.csv\"\n",
        "\n",
        "df_train_data = read_csv(filename1)\n",
        "df_test_data = read_csv(filename2)\n",
        "\n",
        "\n",
        "# apply constant column filter\n",
        "\n",
        "# not matched constant columns in the train and test data set\n",
        "\n",
        "# merge them to one data set\n",
        "df_full_data = df_train_data.append(df_test_data)\n",
        "\n",
        "#apply the filter\n",
        "df_full_data_filtered = filter_constant_columns(df_full_data)\n",
        "\n",
        "# separate the data sets\n",
        "df_train_data_filtered = df_full_data_filtered[0:97044]\n",
        "df_test_data_filtered = df_full_data_filtered[97044:]\n",
        "\n",
        "\n",
        "#separate the filtered x,y\n",
        "x_train = df_train_data_filtered[df_train_data_filtered.columns[:-1]].values\n",
        "y_train = df_train_data_filtered[df_train_data_filtered.columns[-1]].values\n",
        "x_test = df_test_data_filtered[df_test_data_filtered.columns[:-1]].values\n",
        "y_test = df_test_data_filtered[df_test_data_filtered.columns[-1]].values"
      ],
      "execution_count": null,
      "outputs": []
    },
    {
      "cell_type": "code",
      "metadata": {
        "id": "ghXPi-v--9Yt"
      },
      "source": [
        "x_train_norm, x_test_norm = normalize(x_train, x_test)"
      ],
      "execution_count": null,
      "outputs": []
    },
    {
      "cell_type": "code",
      "metadata": {
        "id": "FwOrcHT105K0"
      },
      "source": [
        "x_train_resc, x_test_resc = rescale(x_train, x_test)"
      ],
      "execution_count": null,
      "outputs": []
    },
    {
      "cell_type": "markdown",
      "metadata": {
        "id": "VMhTSMRZ9jUn"
      },
      "source": [
        "FITTING MODELS TO COMPARE, USING: Raw data / Normalized data / Rescaled data"
      ]
    },
    {
      "cell_type": "code",
      "metadata": {
        "id": "yvrwOm0DpVvq",
        "colab": {
          "base_uri": "https://localhost:8080/",
          "height": 580
        },
        "outputId": "deb23ef1-d622-455c-b480-fcf38fe7a6f5"
      },
      "source": [
        "# fitting models to raw data\n",
        "compare_algorithms(x_train, y_train, x_test, y_test)"
      ],
      "execution_count": null,
      "outputs": [
        {
          "output_type": "stream",
          "text": [
            "Validation accuracy:\n",
            "LR: 0.992 (0.001)\n",
            "LDA: 0.985 (0.002)\n",
            "KNN: 0.999 (0.000)\n",
            "CART: 1.000 (0.000)\n",
            "NB: 0.978 (0.001)\n",
            "SVC: 0.995 (0.001)\n",
            "LnSVC: 0.995 (0.001)\n",
            "Test accuracy:\n",
            "LR: 0.868\n",
            "LDA: 0.931\n",
            "KNN: 0.534\n",
            "CART: 0.414\n",
            "NB: 0.500\n",
            "SVC: 0.530\n",
            "LnSVC: 0.652\n"
          ],
          "name": "stdout"
        },
        {
          "output_type": "display_data",
          "data": {
            "image/png": "[encoded data removed]",
            "text/plain": [
              "<Figure size 432x288 with 1 Axes>"
            ]
          },
          "metadata": {
            "tags": [],
            "needs_background": "light"
          }
        }
      ]
    },
    {
      "cell_type": "code",
      "metadata": {
        "id": "HqcPfwG2sIX3",
        "colab": {
          "base_uri": "https://localhost:8080/"
        },
        "outputId": "76d9378e-7d4b-472f-871b-c539be1a520a"
      },
      "source": [
        "# fitting models to normalized data\n",
        "compare_algorithms(x_train_norm, y_train, x_test_norm, y_test)"
      ],
      "execution_count": null,
      "outputs": [
        {
          "output_type": "stream",
          "text": [
            "Validation accuracy:\n",
            "LR: 0.988 (0.001)\n",
            "LDA: 0.985 (0.002)\n",
            "KNN: 0.999 (0.000)\n",
            "CART: 1.000 (0.000)\n",
            "NB: 0.986 (0.001)\n"
          ],
          "name": "stdout"
        }
      ]
    },
    {
      "cell_type": "code",
      "metadata": {
        "colab": {
          "base_uri": "https://localhost:8080/",
          "height": 580
        },
        "id": "2ddemxPoeRWQ",
        "outputId": "72abd1cf-2ab2-43c5-d668-5a9d45895854"
      },
      "source": [
        "# fitting models to rescaled data\n",
        "compare_algorithms(x_train_resc, y_train, x_test_resc, y_test)"
      ],
      "execution_count": null,
      "outputs": [
        {
          "output_type": "stream",
          "text": [
            "Validation accuracy:\n",
            "LR: 0.995 (0.001)\n",
            "LDA: 0.985 (0.002)\n",
            "KNN: 1.000 (0.000)\n",
            "CART: 1.000 (0.000)\n",
            "NB: 0.987 (0.001)\n",
            "SVC: 0.997 (0.001)\n",
            "LnSVC: 0.997 (0.001)\n",
            "Test accuracy:\n",
            "LR: 0.506\n",
            "LDA: 0.931\n",
            "KNN: 0.536\n",
            "CART: 0.414\n",
            "NB: 0.500\n",
            "SVC: 0.499\n",
            "LnSVC: 0.509\n"
          ],
          "name": "stdout"
        },
        {
          "output_type": "display_data",
          "data": {
            "image/png": "[encoded data removed]",
            "text/plain": [
              "<Figure size 432x288 with 1 Axes>"
            ]
          },
          "metadata": {
            "tags": [],
            "needs_background": "light"
          }
        }
      ]
    },
    {
      "cell_type": "markdown",
      "metadata": {
        "id": "RhzBVdyXe4JK"
      },
      "source": [
        "FEATURE SELECTION (TOP 10 FEATURES) USING: K-BEST / RFE / EXTRA TREES, MODELS EVALUATION"
      ]
    },
    {
      "cell_type": "code",
      "metadata": {
        "id": "u-2LbYOhAKvr",
        "colab": {
          "base_uri": "https://localhost:8080/"
        },
        "outputId": "69b98188-ec08-446d-c595-66ed61daef41"
      },
      "source": [
        "# K-Best method for rescaled data\n",
        "kbest_train_features_resc, kbest_test_features_resc = kbest(x_train_resc, y_train, x_test_resc)"
      ],
      "execution_count": null,
      "outputs": [
        {
          "output_type": "stream",
          "text": [
            "    Specs         Score\n",
            "26     26  32124.682195\n",
            "16     16  28936.000138\n",
            "22     22  28321.490224\n",
            "13     13  24346.021809\n",
            "81     81  13311.733744\n",
            "15     15  12317.666392\n",
            "2       2  12076.290588\n",
            "3       3  12076.290588\n",
            "23     23   7911.296191\n",
            "36     36   7720.479234\n"
          ],
          "name": "stdout"
        }
      ]
    },
    {
      "cell_type": "code",
      "metadata": {
        "id": "YDdK1mPUwj9u",
        "colab": {
          "base_uri": "https://localhost:8080/",
          "height": 871
        },
        "outputId": "c2d2be06-8bc0-456c-d35f-b380cc1ea12b"
      },
      "source": [
        "# compare models using top 10 features from K-Best\n",
        "compare_algorithms(kbest_train_features_resc, y_train, kbest_test_features_resc, y_test)"
      ],
      "execution_count": null,
      "outputs": [
        {
          "output_type": "stream",
          "text": [
            "Validation accuracy:\n",
            "LR: 0.961 (0.001)\n",
            "LDA: 0.928 (0.001)\n",
            "KNN: 0.998 (0.000)\n",
            "CART: 1.000 (0.000)\n",
            "NB: 0.983 (0.002)\n",
            "SVC: 0.992 (0.001)\n",
            "LnSVC: 0.960 (0.001)\n",
            "Test accuracy:\n",
            "LR: 0.500\n",
            "LDA: 0.277\n",
            "KNN: 0.500\n",
            "CART: 0.500\n",
            "NB: 0.500\n",
            "SVC: 0.500\n",
            "LnSVC: 0.500\n"
          ],
          "name": "stdout"
        },
        {
          "output_type": "display_data",
          "data": {
            "image/png": "[encoded data removed]",
            "text/plain": [
              "<Figure size 432x288 with 1 Axes>"
            ]
          },
          "metadata": {
            "tags": [],
            "needs_background": "light"
          }
        },
        {
          "output_type": "display_data",
          "data": {
            "image/png": "[encoded data removed]",
            "text/plain": [
              "<Figure size 432x288 with 1 Axes>"
            ]
          },
          "metadata": {
            "tags": [],
            "needs_background": "light"
          }
        }
      ]
    },
    {
      "cell_type": "code",
      "metadata": {
        "id": "odiRrBypgliG"
      },
      "source": [
        "# Recursive Feature Elimination method for rescaled data\n",
        "rfe_train_features_resc, rfe_test_features_resc = rfe_elimination(LogisticRegression(solver='liblinear'), x_train_resc, y_train, x_test_resc)"
      ],
      "execution_count": null,
      "outputs": []
    },
    {
      "cell_type": "code",
      "metadata": {
        "id": "EEZ6j4DJ1_2c",
        "colab": {
          "base_uri": "https://localhost:8080/",
          "height": 871
        },
        "outputId": "cac4ea8d-1eb9-4858-eb92-46cb64f3ffae"
      },
      "source": [
        "# compare models using top 10 features from RFE\n",
        "compare_algorithms(rfe_train_features_resc, y_train, rfe_test_features_resc, y_test)"
      ],
      "execution_count": null,
      "outputs": [
        {
          "output_type": "stream",
          "text": [
            "Validation accuracy:\n",
            "LR: 0.992 (0.001)\n",
            "LDA: 0.980 (0.002)\n",
            "KNN: 0.999 (0.000)\n",
            "CART: 0.999 (0.000)\n",
            "NB: 0.926 (0.004)\n",
            "SVC: 0.997 (0.001)\n",
            "LnSVC: 0.995 (0.001)\n",
            "Test accuracy:\n",
            "LR: 0.813\n",
            "LDA: 0.783\n",
            "KNN: 0.535\n",
            "CART: 0.536\n",
            "NB: 0.790\n",
            "SVC: 0.494\n",
            "LnSVC: 0.816\n"
          ],
          "name": "stdout"
        },
        {
          "output_type": "display_data",
          "data": {
            "image/png": "[encoded data removed]",
            "text/plain": [
              "<Figure size 432x288 with 1 Axes>"
            ]
          },
          "metadata": {
            "tags": [],
            "needs_background": "light"
          }
        },
        {
          "output_type": "display_data",
          "data": {
            "image/png": "[encoded data removed]",
            "text/plain": [
              "<Figure size 432x288 with 1 Axes>"
            ]
          },
          "metadata": {
            "tags": [],
            "needs_background": "light"
          }
        }
      ]
    },
    {
      "cell_type": "code",
      "metadata": {
        "id": "4TxoNGth8guq",
        "colab": {
          "base_uri": "https://localhost:8080/"
        },
        "outputId": "4197e4e4-0281-43cb-f762-767d4f30f8b4"
      },
      "source": [
        "# Extra Trees Classifier method for rescaled data\n",
        "extree_train_features_resc, extree_test_features_resc = extra_trees_classifier(x_train_resc, y_train, x_test_resc)"
      ],
      "execution_count": null,
      "outputs": [
        {
          "output_type": "stream",
          "text": [
            "[5.41658636e-04 3.13082048e-04 3.23286480e-02 2.83650568e-02\n",
            " 5.13141926e-06 2.73617713e-13 0.00000000e+00 3.12473976e-06\n",
            " 8.13382831e-06 2.04992372e-06 5.13475301e-06 3.49381912e-02\n",
            " 1.20857619e-06 8.73965226e-02 1.99252118e-05 7.22525601e-02\n",
            " 5.01826035e-02 0.00000000e+00 8.67515981e-03 1.21460932e-05\n",
            " 2.97953623e-02 3.34097180e-02 1.01120130e-01 5.47413112e-02\n",
            " 0.00000000e+00 1.13082186e-02 1.22186506e-01 5.03805752e-04\n",
            " 6.76250570e-02 1.01083570e-02 5.25808269e-04 8.36476990e-04\n",
            " 2.00662027e-03 8.86154645e-03 1.33353848e-02 0.00000000e+00\n",
            " 3.31759143e-02 8.20107521e-07 7.68889303e-10 2.57308252e-11\n",
            " 1.79316458e-10 5.62908952e-06 7.23754569e-03 2.62141007e-03\n",
            " 7.07361737e-03 3.41903915e-08 1.19236833e-02 5.62524391e-04\n",
            " 5.27934766e-06 6.51065549e-05 8.09440837e-03 1.15000506e-02\n",
            " 8.11070432e-05 7.53354912e-03 2.44809032e-04 3.07761307e-04\n",
            " 4.57493520e-10 0.00000000e+00 1.03959854e-02 1.01586080e-03\n",
            " 3.29034494e-03 1.37121043e-03 1.27616152e-02 1.04542437e-04\n",
            " 2.78298841e-05 2.35047023e-03 8.03049709e-04 3.20945815e-03\n",
            " 4.49958302e-03 4.23170747e-03 0.00000000e+00 3.84866743e-07\n",
            " 0.00000000e+00 2.44745387e-02 3.35015151e-03 2.39783655e-02\n",
            " 3.63932582e-03 3.21631110e-06 8.17199855e-03 6.60136586e-03\n",
            " 0.00000000e+00 2.38711031e-02]\n",
            "the larger the score, the more important the attribute\n",
            "[26.0, 22.0, 13.0, 15.0, 28.0, 23.0, 16.0, 11.0, 21.0, 36.0]\n"
          ],
          "name": "stdout"
        }
      ]
    },
    {
      "cell_type": "code",
      "metadata": {
        "colab": {
          "base_uri": "https://localhost:8080/"
        },
        "id": "wcN_JfGV13TP",
        "outputId": "c4c5e9b0-c415-471a-a5d7-193a1f75f03a"
      },
      "source": [
        "# compare models using top 10 features from Extra Trees\n",
        "compare_algorithms(extree_train_features_resc, y_train, extree_test_features_resc, y_test)"
      ],
      "execution_count": null,
      "outputs": [
        {
          "output_type": "stream",
          "text": [
            "Validation accuracy:\n",
            "LR: 0.969 (0.002)\n",
            "LDA: 0.938 (0.002)\n",
            "KNN: 0.997 (0.000)\n",
            "CART: 0.999 (0.000)\n",
            "NB: 0.957 (0.003)\n",
            "SVC: 0.988 (0.000)\n",
            "LnSVC: 0.971 (0.002)\n",
            "Test accuracy:\n",
            "LR: 0.959\n",
            "LDA: 0.916\n",
            "KNN: 0.521\n",
            "CART: 0.441\n",
            "NB: 0.492\n",
            "SVC: 0.502\n",
            "LnSVC: 0.958\n"
          ],
          "name": "stdout"
        }
      ]
    }
  ]
}