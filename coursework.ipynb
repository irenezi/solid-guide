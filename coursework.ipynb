{
  "nbformat": 4,
  "nbformat_minor": 0,
  "metadata": {
    "colab": {
      "name": "coursework.ipynb",
      "provenance": [],
      "collapsed_sections": [],
      "authorship_tag": "ABX9TyMKOBUzZwKPK2pWbEUKi7wv",
      "include_colab_link": true
    },
    "kernelspec": {
      "display_name": "Python 3",
      "name": "python3"
    }
  },
  "cells": [
    {
      "cell_type": "markdown",
      "metadata": {
        "id": "view-in-github",
        "colab_type": "text"
      },
      "source": [
        "<a href=\"https://colab.research.google.com/github/irenezi/solid-guide/blob/master/coursework.ipynb\" target=\"_parent\"><img src=\"https://colab.research.google.com/assets/colab-badge.svg\" alt=\"Open In Colab\"/></a>"
      ]
    },
    {
      "cell_type": "code",
      "metadata": {
        "id": "l3_qVcGUuKhO"
      },
      "source": [
        "import pandas as pd\r\n",
        "import numpy as np\r\n",
        "from pandas import read_csv, set_option\r\n",
        "from numpy import set_printoptions\r\n",
        "from matplotlib import pyplot\r\n",
        "from pandas.plotting import scatter_matrix\r\n",
        "from sklearn.preprocessing import Normalizer, MinMaxScaler\r\n",
        "from sklearn.feature_selection import VarianceThreshold, SelectKBest, chi2, RFE\r\n",
        "from sklearn.model_selection import KFold, cross_val_score\r\n",
        "from sklearn.linear_model import LogisticRegression\r\n",
        "from sklearn.neighbors import KNeighborsClassifier\r\n",
        "from sklearn.discriminant_analysis import LinearDiscriminantAnalysis\r\n",
        "from sklearn.svm import SVC, LinearSVC\r\n",
        "from sklearn.metrics import accuracy_score\r\n",
        "from sklearn.ensemble import ExtraTreesClassifier\r\n",
        "from keras.layers import Dense, Input \r\n",
        "from keras.models import Model\r\n",
        "from keras.optimizers import Adam\r\n",
        "from keras.regularizers import l1"
      ],
      "execution_count": null,
      "outputs": []
    },
    {
      "cell_type": "code",
      "metadata": {
        "id": "1T8gpZlHcfYf"
      },
      "source": [
        "def filter_constant_columns(df_data_set_x, variance=0):\r\n",
        "  # This function filters out all the constant columns (variance = 0)\r\n",
        "  \r\n",
        "  constant_filter = VarianceThreshold(threshold=variance)\r\n",
        "  constant_filter.fit(df_data_set_x)\r\n",
        "  non_constant = constant_filter.get_support()\r\n",
        "\r\n",
        "  columns_to_keep = (df_data_set_x.columns[constant_filter.get_support()])\r\n",
        "\r\n",
        "  return df_data_set_x[columns_to_keep]"
      ],
      "execution_count": null,
      "outputs": []
    },
    {
      "cell_type": "code",
      "metadata": {
        "id": "34mL89vG5mDf"
      },
      "source": [
        "def normalize(x_train_input, x_test_input):\n",
        "  # Normalize train and test data\n",
        "  # Normalize the training set and save the normalization parameters\n",
        "  # Normalize the test set using the training normalization parameters\n",
        "\n",
        "  scaler=Normalizer().fit(x_train_input)\n",
        "  x_train_norm=scaler.transform(x_train_input)\n",
        "  x_test_norm=scaler.transform(x_test_input)\n",
        "  \n",
        "  return x_train_norm, x_test_norm"
      ],
      "execution_count": null,
      "outputs": []
    },
    {
      "cell_type": "code",
      "metadata": {
        "id": "YU8ONbjs05A1"
      },
      "source": [
        "def rescale(x_train_input, x_test_input):\n",
        "  # Rescale train and test data\n",
        "  # Rescale the training set and save the normalization parameters\n",
        "  # Rescale the test set using the training normalization parameters\n",
        "\n",
        "  scaler=MinMaxScaler(feature_range=(0,1))\n",
        "  scaler = scaler.fit(x_train_input)\n",
        "  x_train_resc = scaler.transform(x_train_input)\n",
        "  x_test_resc = scaler.transform(x_test_input)\n",
        "  return x_train_resc, x_test_resc"
      ],
      "execution_count": null,
      "outputs": []
    },
    {
      "cell_type": "code",
      "metadata": {
        "id": "HqtXs2ub9sgf"
      },
      "source": [
        "def compare_algorithms(x_train_input, y_train_output, x_test_input, y_test_output):\n",
        "\n",
        "  # prints the validation accuracy (using K-Folf method on the train data set)\n",
        "  # and the test accuracy by apllying a variety of models to the test data set  \n",
        "  \n",
        "  models=[]\n",
        "  models.append(('LR', LogisticRegression(solver='liblinear'))) \n",
        "  models.append(('LDA', LinearDiscriminantAnalysis()))\n",
        "  models.append(('KNN', KNeighborsClassifier()))\n",
        "  #models.append(('CART', DecisionTreeClassifier()))\n",
        "  #models.append(('NB', GaussianNB()))\n",
        "  models.append(('SVC', SVC()))\n",
        "  models.append(('LnSVC', LinearSVC()))\n",
        "\n",
        "  print(\"Validation accuracy:\")\n",
        "  for name, model in models:\n",
        "    kfold = KFold(n_splits=5, random_state=3, shuffle=True)\n",
        "    cv_results = cross_val_score(model,x_train_input,y_train_output,cv=kfold,scoring=\"accuracy\")\n",
        "    print(\"%s: %.3f (%.3f)\" % (name,cv_results.mean(),cv_results.std()))\n",
        "  \n",
        "  print(\"Test accuracy:\")\n",
        "  for name, model in models:\n",
        "    model.fit(x_train_input, y_train_output)\n",
        "    test_prediction = model.predict(x_test_input)\n",
        "    test_acc = accuracy_score(y_test_output, test_prediction)\n",
        "    print(\"%s: %.3f\" % (name,test_acc))\n"
      ],
      "execution_count": null,
      "outputs": []
    },
    {
      "cell_type": "code",
      "metadata": {
        "id": "z9vgZFr8euFc"
      },
      "source": [
        "def kbest(x_train_input, y_train_output, x_test_input):\n",
        "  # feature selection using K-best\n",
        "  \n",
        "  # apply SelectKBest class to extract top 10 best features\n",
        "  bestfeatures = SelectKBest(score_func=chi2, k=10)\n",
        "  fit = bestfeatures.fit(x_train_input, y_train_output)\n",
        "  dfscores = pd.DataFrame(fit.scores_)\n",
        "  df = pd.DataFrame(x_train_input)\n",
        "  dfcolumns = pd.DataFrame(df.columns)\n",
        "\n",
        "  # concat two dataframes for better visualization \n",
        "  featureScores = pd.concat([dfcolumns,dfscores],axis=1)\n",
        "  # naming the dataframe columns\n",
        "  featureScores.columns = ['Specs','Score']  \n",
        "\n",
        "  # print 10 best features\n",
        "  print(featureScores.nlargest(10,'Score'))  \n",
        "\n",
        "  # find the columns of the 10 best features\n",
        "  featureScores=featureScores.nlargest(10,'Score').values\n",
        "  col=list(featureScores[:,0])\n",
        "\n",
        "  # returned train data set\n",
        "  features = fit.transform(x_train_input)\n",
        "\n",
        "  # returned test data set\n",
        "  df_test_features = pd.DataFrame(x_test_input)\n",
        "  test_features = df_test_features[col]\n",
        "\n",
        "  return features, test_features.values"
      ],
      "execution_count": null,
      "outputs": []
    },
    {
      "cell_type": "code",
      "metadata": {
        "id": "0M9oa_TtnPJo"
      },
      "source": [
        "def rfe_elimination(model, x_train_input, y_train_output, x_test_input):\n",
        "  # apply Recursive Feature Elimination(RFE) for feature selection\n",
        "\n",
        "  rfe=RFE(model,10)\n",
        "  fit=rfe.fit(x_train_input, y_train_output)\n",
        "  #print(\"Num Features: %d\" % fit.n_features_)\n",
        "  #print(\"Selected Features: %s\" % fit.support_)\n",
        "  #print(\"Feature Ranking: %s\" % fit.ranking_)\n",
        "\n",
        "  dfscores = pd.DataFrame(fit.ranking_)\n",
        "  df = pd.DataFrame(x_train_input)\n",
        "  dfcolumns = pd.DataFrame(df.columns)\n",
        "\n",
        "  # concat two dataframes for better visualization \n",
        "  featureScores = pd.concat([dfcolumns,dfscores],axis=1)\n",
        "  # naming the dataframe columns\n",
        "  featureScores.columns = ['Specs','Score']  \n",
        "  print(featureScores.nsmallest(10,'Score')) \n",
        "\n",
        "  # find the columns of the 10 best features\n",
        "  featureScores=(featureScores.nsmallest(10,'Score')).values\n",
        "  col=list(featureScores[:,0])\n",
        "  print(col)\n",
        "\n",
        "  # returned train data set\n",
        "  features=fit.transform(x_train_input)\n",
        "\n",
        "  # returned test data set\n",
        "  df_test_features = pd.DataFrame(x_test_input)\n",
        "  test_features = df_test_features[col]\n",
        "\n",
        "  return features, test_features.values\n"
      ],
      "execution_count": null,
      "outputs": []
    },
    {
      "cell_type": "code",
      "metadata": {
        "id": "PqH5mEPbp-ei"
      },
      "source": [
        "def extra_trees_classifier(x_train_input, y_train_output, x_test_input):\n",
        "  # feature selection with extra tree classifier - Feature Importance\n",
        "\n",
        "  model = ExtraTreesClassifier()\n",
        "  tree=model.fit(x_train_input,y_train_output)\n",
        "  #print(model.feature_importances_)\n",
        "\n",
        "  dfscores = pd.DataFrame(tree.feature_importances_)\n",
        "  df = pd.DataFrame(x_train_input)\n",
        "  dfcolumns = pd.DataFrame(df.columns)\n",
        "  \n",
        "  # concat two dataframes for better visualization \n",
        "  featureScores = pd.concat([dfcolumns,dfscores],axis=1)\n",
        "  # naming the dataframe columns\n",
        "  featureScores.columns = ['Specs','Score']  \n",
        "  featureScores=featureScores.nlargest(10,'Score')\n",
        "  print(featureScores)\n",
        "\n",
        "  # find the columns of the 10 best features\n",
        "  featureScores=featureScores.values\n",
        "  col=list(featureScores[:,0])\n",
        "\n",
        "  # returned train data set\n",
        "  features=df[col]\n",
        "\n",
        "  # returned test data set\n",
        "  df_test_features = pd.DataFrame(x_test_input)\n",
        "  test_features = df_test_features[col]\n",
        "\n",
        "  return features.values, test_features.values\n"
      ],
      "execution_count": 33,
      "outputs": []
    },
    {
      "cell_type": "code",
      "metadata": {
        "colab": {
          "base_uri": "https://localhost:8080/"
        },
        "id": "yTkwkbZFEEPP",
        "outputId": "efeab547-d569-4dfc-9006-41fc1068c4e4"
      },
      "source": [
        "#no need to reshape!!!!\n",
        "#reshape\n",
        "#x_train_norm = x_train_norm.reshape((len(x_train_norm), np.prod(x_train_norm.shape[1:]))) \n",
        "#x_test_norm = x_test_norm.reshape((len(x_test_norm), np.prod(x_test_norm.shape[1:])))\n",
        "#print(x_train_norm.shape)"
      ],
      "execution_count": null,
      "outputs": [
        {
          "output_type": "stream",
          "text": [
            "(97044, 152)\n"
          ],
          "name": "stdout"
        }
      ]
    },
    {
      "cell_type": "code",
      "metadata": {
        "id": "A-nSGFUobMwN"
      },
      "source": [
        "def autoencoder(x_train_input, x_test_input):\n",
        "  # returns the encoder model of a simple autoencoder with 2 hidden layers\n",
        "\n",
        "  input = Input(shape=(82,))\n",
        "  hidden_1 = Dense(500, activation='relu')(input)\n",
        "  hidden_2 = Dense(300, activation='relu')(hidden_1)\n",
        "  code = Dense(20, activation='relu')(hidden_2)\n",
        "  hidden_3 = Dense(300, activation='relu')(code)\n",
        "  hidden_4 = Dense(500, activation='relu')(hidden_3) \n",
        "  output = Dense(82, activation='sigmoid')(hidden_4)\n",
        "\n",
        "  # define autoencoder model\n",
        "  autoencoder = Model(inputs=input, outputs=output)\n",
        "  # compile model\n",
        "  autoencoder.compile(optimizer='adam', loss='binary_crossentropy')\n",
        "  # fit model to reconstruct the input\n",
        "  autoencoder.fit(x_train_input, x_train_input, batch_size=40, epochs=3, validation_data=(x_test_input, x_test_input))\n",
        "\n",
        "  # define encoder model\n",
        "  encoder1 = Model(inputs=input, outputs=code)\n",
        "#  # save the encoder model to file\n",
        "#  encoder.save(\"encoder1.h5\")\n",
        "\n",
        "  return encoder1"
      ],
      "execution_count": null,
      "outputs": []
    },
    {
      "cell_type": "code",
      "metadata": {
        "id": "Q9wwaGy4joN0"
      },
      "source": [
        "def denoising_autoencoder(x_train_input, x_test_input):\n",
        "  # returns the encoder model of a denoising autoencoder with 2 hidden layers\n",
        "\n",
        "  # add noise\n",
        "  noise_factor = 0.4\n",
        "  x_train_noisy = x_train_input + noise_factor * np.random.normal(size=x_train_input.shape)\n",
        "  x_test_noisy = x_test_input + noise_factor * np.random.normal(size=x_test_input.shape)\n",
        "  x_train_noisy = np.clip(x_train_noisy, 0.0, 1.0)\n",
        "  x_test_noisy = np.clip(x_test_noisy, 0.0, 1.0)\n",
        "\n",
        "  input = Input(shape=(82,))\n",
        "  hidden_1 = Dense(500, activation='relu')(input)\n",
        "  hidden_2 = Dense(300, activation='relu')(hidden_1)\n",
        "  code = Dense(20, activation='relu')(hidden_2)\n",
        "  hidden_3 = Dense(300, activation='relu')(code)\n",
        "  hidden_4 = Dense(500, activation='relu')(hidden_3) \n",
        "  output = Dense(82, activation='sigmoid')(hidden_4)\n",
        "\n",
        "  #define noisy aytoencoder model\n",
        "  autoencoder_noisy = Model(inputs=input, outputs=output)\n",
        "  # compile the model\n",
        "  autoencoder_noisy.compile(optimizer='adam', loss='binary_crossentropy')\n",
        "  # fit model to reconstruct the input\n",
        "  autoencoder_noisy.fit(x_train_noisy, x_train_noisy, batch_size=40, epochs=3, validation_data=(x_test_noisy, x_test_noisy))\n",
        "\n",
        "  # define the encoder model\n",
        "  encoder2 = Model(inputs=input, outputs=code)\n",
        "  #  # save the encoder model to file\n",
        "  #  encoder.save(\"encoder2.h5\")\n",
        "\n",
        "  return encoder2"
      ],
      "execution_count": null,
      "outputs": []
    },
    {
      "cell_type": "code",
      "metadata": {
        "id": "sNxK6SdZelO9"
      },
      "source": [
        "def sparse_autoencoder(x_train_input, x_test_input):\n",
        "  #returns the encoder model of a sparse autoencoder \n",
        "\n",
        "  input_size = 82\n",
        "  code_size = 20\n",
        "\n",
        "  input = Input(shape=(input_size,))\n",
        "  code = Dense(code_size,activity_regularizer=l1(10e-6), activation='relu')(input) \n",
        "  output = Dense(input_size, activation='sigmoid')(code)\n",
        "\n",
        "  # define autoencoder model\n",
        "  autoencoder_regularized = Model(inputs=input, outputs=output) \n",
        "  # compile the autoencoder model\n",
        "  autoencoder_regularized.compile(optimizer='adam', loss='binary_crossentropy') \n",
        "  # fit autoencoder model to reconstruct the input\n",
        "  autoencoder_regularized.fit(x_train_input, x_train_input, epochs=3, validation_data=(x_test_input, x_test_input))\n",
        "  \n",
        "  # define the encoder model\n",
        "  encoder3 = Model(input, code)\n",
        "  #  # save the encoder model to file\n",
        "  #  encoder.save(\"encoder3.h5\")\n",
        "\n",
        "  return encoder3"
      ],
      "execution_count": null,
      "outputs": []
    },
    {
      "cell_type": "code",
      "metadata": {
        "id": "5yvE42mfZOl-"
      },
      "source": [
        "def encoder_transformation(encoder, x_train_input, x_test_input):\n",
        "  # use the encoder models to transform the data\n",
        "\n",
        "  # train_data transformation\n",
        "  x_train_encoded = encoder.predict(x_train_input)\n",
        "  # test data transformation\n",
        "  x_test_encoded = encoder.predict(x_test_input)\n",
        "\n",
        "  return x_train_encoded, x_test_encoded"
      ],
      "execution_count": null,
      "outputs": []
    },
    {
      "cell_type": "code",
      "metadata": {
        "id": "WHefLBK23CgZ"
      },
      "source": [
        "def mixed_data(train1, train2, test1, test2):\n",
        "  # concatenate columns wise 2 numpy arrays\n",
        "\n",
        "  train_array = np.concatenate((train1, train2), axis=1)\n",
        "  test_array = np.concatenate((test1, test2), axis=1)\n",
        "\n",
        "  return train_array, test_array"
      ],
      "execution_count": null,
      "outputs": []
    },
    {
      "cell_type": "code",
      "metadata": {
        "id": "V5gT_0oYKs8X"
      },
      "source": [
        "def compare_algorithms_2(x_train_input, y_train_output, x_test_input, y_test_output):\n",
        "\n",
        "  # prints the validation accuracy (using K-Folf method on the train data set)\n",
        "  # and the test accuracy by applying a selection of models from \n",
        "  # compare_algorithms method to the test data set  \n",
        "  \n",
        "  models=[]\n",
        "  models.append(('LR', LogisticRegression(solver='liblinear'))) \n",
        "  models.append(('LDA', LinearDiscriminantAnalysis()))\n",
        "  models.append(('LnSVC', LinearSVC()))\n",
        "\n",
        "  print(\"Validation accuracy:\")\n",
        "  for name, model in models:\n",
        "    kfold = KFold(n_splits=5, random_state=3, shuffle=True)\n",
        "    cv_results = cross_val_score(model,x_train_input,y_train_output,cv=kfold,scoring=\"accuracy\")\n",
        "    print(\"%s: %.3f (%.3f)\" % (name,cv_results.mean(),cv_results.std()))\n",
        "  \n",
        "  print(\"Test accuracy:\")\n",
        "  for name, model in models:\n",
        "    model.fit(x_train_input, y_train_output)\n",
        "    test_prediction = model.predict(x_test_input)\n",
        "    test_acc = accuracy_score(y_test_output, test_prediction)\n",
        "    print(\"%s: %.3f\" % (name,test_acc))"
      ],
      "execution_count": 41,
      "outputs": []
    },
    {
      "cell_type": "code",
      "metadata": {
        "id": "W2gksJefrCBk"
      },
      "source": [
        "def create_nn_model(init=\"glorot_uniform\", optimizer=\"rmsprop\"):\n",
        "  #returns a neural network nodel\n",
        "\n",
        "  model=Sequential()\n",
        "  model.add(Dense(150, input_dim=82, activation=\"relu\", kernel_initializer=init))\n",
        "  model.add(Dense(50, activation=\"relu\", kernel_initializer=init))\n",
        "  model.add(Dense(1, activation=\"softmax\", kernel_initializer=init))\n",
        "\n",
        "  model.compile(loss=\"binary_crossentropy\", optimizer=optimizer, metrics=[\"accuracy\"])\n",
        "\n",
        "  return model"
      ],
      "execution_count": null,
      "outputs": []
    },
    {
      "cell_type": "code",
      "metadata": {
        "id": "R3AMEgz-qkjl"
      },
      "source": [
        "# Grid search for NN\n",
        "\n",
        "def grid_search(input, output):\n",
        "  #numpy.set_printoptions(precision=3)\n",
        "\n",
        "  # create model\n",
        "  nn_model=KerasClassifier(build_fn=create_nn_model, verbose=0)\n",
        "\n",
        "  #grid search to find epochs, batch_size, optimizer\n",
        "  epochs_list=[5,10,30,50]\n",
        "  batches_list=[5,10,15]\n",
        "  optimizer_list=[\"adam\", \"rmsprop\"]\n",
        "  inits_list=[\"glorot_uniform\",\"normal\", \"uniform\"]\n",
        "\n",
        "  param_grid_dictionary=dict(optimizer=optimizer_list, epochs=epochs_list, batch_size=batches_list, init=inits_list)\n",
        "  type(param_grid_dictionary)\n",
        "  grid=GridSearchCV(estimator=nn_model,param_grid=param_grid_dictionary)\n",
        "  grid_result=grid.fit(input,output)\n",
        "\n",
        "  # summarize results\n",
        "  print(\"Best: %f using %s\" % (grid_result.best_score_, grid_result.best_params_))\n",
        "  means = grid_result.cv_results_['mean_test_score']\n",
        "  stds = grid_result.cv_results_['std_test_score']\n",
        "  params = grid_result.cv_results_['params']\n",
        "  for mean, stdev, param in zip(means, stds, params):\n",
        "    print(\"%f (%f) with: %r\" % (mean, stdev, param))\n"
      ],
      "execution_count": null,
      "outputs": []
    },
    {
      "cell_type": "code",
      "metadata": {
        "id": "Sf2viYDoyOo3"
      },
      "source": [
        "def reduced_data(df_data, new_size=600):\n",
        "  # creates a reduced dataset in order to minimize time needed for grid search\n",
        "\n",
        "  number_of_rows = df_data.shape[0]\n",
        "  random_indices = np.random.choice(number_of_rows, size=new_size, replace=False)\n",
        "  random_rows = df_data.values[random_indices, :]\n",
        "\n",
        "  X=random_rows[:,0:82]\n",
        "  Y=random_rows[:,82]\n",
        "\n",
        "  return X,Y"
      ],
      "execution_count": null,
      "outputs": []
    },
    {
      "cell_type": "code",
      "metadata": {
        "id": "-4Qj-5JYv3_i"
      },
      "source": [
        "# use a reduced (train) data set for grid search \n",
        "reduced_x, reduced_y = reduced_data(df_train_data_filtered)"
      ],
      "execution_count": null,
      "outputs": []
    },
    {
      "cell_type": "code",
      "metadata": {
        "id": "POw9MCJoq5kD"
      },
      "source": [
        "grid_search(X,Y)\n",
        "\"\"\"Best: 0.471667 using {'batch_size': 5, 'epochs': 5, 'init': 'glorot_uniform', 'optimizer': 'adam'}\"\"\""
      ],
      "execution_count": null,
      "outputs": []
    },
    {
      "cell_type": "markdown",
      "metadata": {
        "id": "KxJd23Hyp39u"
      },
      "source": [
        "RUN"
      ]
    },
    {
      "cell_type": "markdown",
      "metadata": {
        "id": "K76ClZgz5vu0"
      },
      "source": [
        "DEALING WITH THE DATA"
      ]
    },
    {
      "cell_type": "code",
      "metadata": {
        "id": "8UunGMNRNXAT"
      },
      "source": [
        "#load the data\n",
        "filename1 =\"train_imperson_without4n7_balanced_data.csv\"\n",
        "filename2 =\"test_imperson_without4n7_balanced_data.csv\"\n",
        "\n",
        "df_train_data = read_csv(filename1)\n",
        "df_test_data = read_csv(filename2)\n",
        "\n",
        "\n",
        "# apply constant column filter\n",
        "\n",
        "# not matched constant columns in the train and test data set\n",
        "\n",
        "# merge them to one data set\n",
        "df_full_data = df_train_data.append(df_test_data)\n",
        "\n",
        "#apply the filter\n",
        "df_full_data_filtered = filter_constant_columns(df_full_data)\n",
        "\n",
        "# separate the data sets\n",
        "df_train_data_filtered = df_full_data_filtered[0:97044]\n",
        "df_test_data_filtered = df_full_data_filtered[97044:]\n",
        "\n",
        "\n",
        "#separate the filtered x,y\n",
        "x_train = df_train_data_filtered[df_train_data_filtered.columns[:-1]].values\n",
        "y_train = df_train_data_filtered[df_train_data_filtered.columns[-1]].values\n",
        "x_test = df_test_data_filtered[df_test_data_filtered.columns[:-1]].values\n",
        "y_test = df_test_data_filtered[df_test_data_filtered.columns[-1]].values"
      ],
      "execution_count": null,
      "outputs": []
    },
    {
      "cell_type": "code",
      "metadata": {
        "id": "ghXPi-v--9Yt"
      },
      "source": [
        "x_train_norm, x_test_norm = normalize(x_train, x_test)"
      ],
      "execution_count": null,
      "outputs": []
    },
    {
      "cell_type": "code",
      "metadata": {
        "id": "FwOrcHT105K0"
      },
      "source": [
        "x_train_resc, x_test_resc = rescale(x_train, x_test)"
      ],
      "execution_count": null,
      "outputs": []
    },
    {
      "cell_type": "markdown",
      "metadata": {
        "id": "VMhTSMRZ9jUn"
      },
      "source": [
        "FITTING MODELS TO COMPARE, USING: Raw data / Normalized data / Rescaled data"
      ]
    },
    {
      "cell_type": "code",
      "metadata": {
        "colab": {
          "base_uri": "https://localhost:8080/"
        },
        "id": "yvrwOm0DpVvq",
        "outputId": "644d9874-825f-47ce-c0d9-1870182a0ac9"
      },
      "source": [
        "# fitting models to raw data\n",
        "compare_algorithms(x_train, y_train, x_test, y_test)"
      ],
      "execution_count": null,
      "outputs": [
        {
          "output_type": "stream",
          "text": [
            "Validation accuracy:\n",
            "LR: 0.992 (0.001)\n",
            "LDA: 0.985 (0.002)\n",
            "KNN: 0.999 (0.000)\n",
            "SVC: 0.995 (0.001)\n",
            "LnSVC: 0.995 (0.001)\n",
            "Test accuracy:\n",
            "LR: 0.868\n",
            "LDA: 0.931\n",
            "KNN: 0.534\n",
            "SVC: 0.530\n",
            "LnSVC: 0.652\n"
          ],
          "name": "stdout"
        }
      ]
    },
    {
      "cell_type": "code",
      "metadata": {
        "colab": {
          "background_save": true,
          "base_uri": "https://localhost:8080/"
        },
        "id": "HqcPfwG2sIX3",
        "outputId": "764e3a69-8191-41c9-e54e-8aa6f56a3ea9"
      },
      "source": [
        "# fitting models to normalized data\n",
        "compare_algorithms(x_train_norm, y_train, x_test_norm, y_test)"
      ],
      "execution_count": null,
      "outputs": [
        {
          "output_type": "stream",
          "text": [
            "Validation accuracy:\n",
            "LR: 0.988 (0.001)\n",
            "LDA: 0.985 (0.002)\n",
            "KNN: 0.999 (0.000)\n",
            "SVC: 0.995 (0.001)\n",
            "LnSVC: 0.992 (0.001)\n",
            "Test accuracy:\n",
            "LR: 0.965\n",
            "LDA: 0.614\n",
            "KNN: 0.532\n",
            "SVC: 0.531\n",
            "LnSVC: 0.525\n"
          ],
          "name": "stdout"
        }
      ]
    },
    {
      "cell_type": "code",
      "metadata": {
        "colab": {
          "base_uri": "https://localhost:8080/"
        },
        "id": "2ddemxPoeRWQ",
        "outputId": "88cbdedc-7b60-4b2a-e9bc-7e88b6a0f319"
      },
      "source": [
        "# fitting models to rescaled data\n",
        "compare_algorithms(x_train_resc, y_train, x_test_resc, y_test)"
      ],
      "execution_count": null,
      "outputs": [
        {
          "output_type": "stream",
          "text": [
            "Validation accuracy:\n",
            "LR: 0.995 (0.001)\n",
            "LDA: 0.985 (0.002)\n",
            "KNN: 1.000 (0.000)\n",
            "SVC: 0.997 (0.001)\n",
            "LnSVC: 0.997 (0.001)\n",
            "Test accuracy:\n",
            "LR: 0.506\n",
            "LDA: 0.931\n",
            "KNN: 0.536\n",
            "SVC: 0.499\n",
            "LnSVC: 0.509\n"
          ],
          "name": "stdout"
        }
      ]
    },
    {
      "cell_type": "markdown",
      "metadata": {
        "id": "RhzBVdyXe4JK"
      },
      "source": [
        "FEATURE SELECTION (TOP 10 FEATURES) USING: K-BEST / RFE / EXTRA TREES"
      ]
    },
    {
      "cell_type": "code",
      "metadata": {
        "colab": {
          "base_uri": "https://localhost:8080/"
        },
        "id": "chfPKEsKDaQ7",
        "outputId": "dfbd293a-6ae0-4ea1-8b6e-0b0a865ab77c"
      },
      "source": [
        "# K-Best method for raw data\n",
        "kbest_train_features, kbest_test_features = kbest(x_train, y_train, x_test)"
      ],
      "execution_count": null,
      "outputs": [
        {
          "output_type": "stream",
          "text": [
            "    Specs         Score\n",
            "26     26  32124.682195\n",
            "16     16  28936.000138\n",
            "22     22  28321.490224\n",
            "13     13  24346.021809\n",
            "81     81  13311.733744\n",
            "15     15  12317.666392\n",
            "2       2  12076.290588\n",
            "3       3  12076.290588\n",
            "23     23   7911.296191\n",
            "36     36   7720.479234\n"
          ],
          "name": "stdout"
        }
      ]
    },
    {
      "cell_type": "code",
      "metadata": {
        "colab": {
          "base_uri": "https://localhost:8080/"
        },
        "id": "f_B2k0e1DbTA",
        "outputId": "6568706f-6b86-4c22-c768-14b208b83b54"
      },
      "source": [
        "# K-Best method for normalized data\n",
        "kbest_train_features_norm, kbest_test_features_norm = kbest(x_train_norm, y_train, x_test_norm)"
      ],
      "execution_count": null,
      "outputs": [
        {
          "output_type": "stream",
          "text": [
            "    Specs        Score\n",
            "26     26  7185.552254\n",
            "22     22  6458.853639\n",
            "16     16  6265.412604\n",
            "13     13  5162.369647\n",
            "81     81  2648.775398\n",
            "15     15  2569.185754\n",
            "2       2  2378.606418\n",
            "3       3  2378.606418\n",
            "23     23  2091.641720\n",
            "28     28  1758.070006\n"
          ],
          "name": "stdout"
        }
      ]
    },
    {
      "cell_type": "code",
      "metadata": {
        "colab": {
          "base_uri": "https://localhost:8080/"
        },
        "id": "u-2LbYOhAKvr",
        "outputId": "75fbe5e9-72e2-4151-fdef-5503e6a94ddc"
      },
      "source": [
        "# K-Best method for rescaled data\n",
        "kbest_train_features_resc, kbest_test_features_resc = kbest(x_train_resc, y_train, x_test_resc)"
      ],
      "execution_count": null,
      "outputs": [
        {
          "output_type": "stream",
          "text": [
            "    Specs         Score\n",
            "26     26  32124.682195\n",
            "16     16  28936.000138\n",
            "22     22  28321.490224\n",
            "13     13  24346.021809\n",
            "81     81  13311.733744\n",
            "15     15  12317.666392\n",
            "2       2  12076.290588\n",
            "3       3  12076.290588\n",
            "23     23   7911.296191\n",
            "36     36   7720.479234\n"
          ],
          "name": "stdout"
        }
      ]
    },
    {
      "cell_type": "code",
      "metadata": {
        "colab": {
          "base_uri": "https://localhost:8080/"
        },
        "id": "AVYdEmXfDbdb",
        "outputId": "b0c3bb53-51f2-41c6-f978-50de3e0c4604"
      },
      "source": [
        "# Recursive Feature Elimination method for raw data\n",
        "rfe_train_features, rfe_test_features = rfe_elimination(LogisticRegression(solver='liblinear'), x_train, y_train, x_test)"
      ],
      "execution_count": null,
      "outputs": [
        {
          "output_type": "stream",
          "text": [
            "    Specs  Score\n",
            "3       3      1\n",
            "13     13      1\n",
            "22     22      1\n",
            "25     25      1\n",
            "36     36      1\n",
            "44     44      1\n",
            "46     46      1\n",
            "50     50      1\n",
            "55     55      1\n",
            "74     74      1\n",
            "[3, 13, 22, 25, 36, 44, 46, 50, 55, 74]\n"
          ],
          "name": "stdout"
        }
      ]
    },
    {
      "cell_type": "code",
      "metadata": {
        "colab": {
          "base_uri": "https://localhost:8080/"
        },
        "id": "zWbFiNooFVZy",
        "outputId": "5c3286bc-b6f8-4263-93c5-ae7891921199"
      },
      "source": [
        "# Recursive Feature Elimination method for normalized data\n",
        "rfe_train_features_norm, rfe_test_features_norm = rfe_elimination(LogisticRegression(solver='liblinear'), x_train_norm, y_train, x_test_norm)"
      ],
      "execution_count": null,
      "outputs": [
        {
          "output_type": "stream",
          "text": [
            "    Specs  Score\n",
            "13     13      1\n",
            "15     15      1\n",
            "18     18      1\n",
            "22     22      1\n",
            "26     26      1\n",
            "36     36      1\n",
            "44     44      1\n",
            "46     46      1\n",
            "69     69      1\n",
            "73     73      1\n",
            "[13, 15, 18, 22, 26, 36, 44, 46, 69, 73]\n"
          ],
          "name": "stdout"
        }
      ]
    },
    {
      "cell_type": "code",
      "metadata": {
        "colab": {
          "base_uri": "https://localhost:8080/"
        },
        "id": "odiRrBypgliG",
        "outputId": "07753c6c-6201-4817-938b-fe31c14f71e5"
      },
      "source": [
        "# Recursive Feature Elimination method for rescaled data\n",
        "rfe_train_features_resc, rfe_test_features_resc = rfe_elimination(LogisticRegression(solver='liblinear'), x_train_resc, y_train, x_test_resc)"
      ],
      "execution_count": null,
      "outputs": [
        {
          "output_type": "stream",
          "text": [
            "    Specs  Score\n",
            "13     13      1\n",
            "20     20      1\n",
            "23     23      1\n",
            "25     25      1\n",
            "36     36      1\n",
            "50     50      1\n",
            "51     51      1\n",
            "55     55      1\n",
            "62     62      1\n",
            "74     74      1\n",
            "[13, 20, 23, 25, 36, 50, 51, 55, 62, 74]\n"
          ],
          "name": "stdout"
        }
      ]
    },
    {
      "cell_type": "code",
      "metadata": {
        "colab": {
          "base_uri": "https://localhost:8080/"
        },
        "id": "yoJzUpGNFlXU",
        "outputId": "d7acba30-4d14-4289-d76b-30804d4ce8fd"
      },
      "source": [
        "# Extra Trees Classifier method for raw data\n",
        "extree_train_features, extree_test_features = extra_trees_classifier(x_train, y_train, x_test)"
      ],
      "execution_count": null,
      "outputs": [
        {
          "output_type": "stream",
          "text": [
            "    Specs     Score\n",
            "22     22  0.106122\n",
            "26     26  0.100525\n",
            "15     15  0.078155\n",
            "13     13  0.074158\n",
            "23     23  0.067266\n",
            "16     16  0.059308\n",
            "28     28  0.058513\n",
            "2       2  0.053410\n",
            "36     36  0.043418\n",
            "3       3  0.038511\n"
          ],
          "name": "stdout"
        }
      ]
    },
    {
      "cell_type": "code",
      "metadata": {
        "colab": {
          "base_uri": "https://localhost:8080/"
        },
        "id": "IRSY3vSlFp0M",
        "outputId": "a636aea9-31c1-4433-eb7f-eb55f59323a0"
      },
      "source": [
        "# Extra Trees Classifier method for normalized data\n",
        "extree_train_features_norm, extree_test_features_norm = extra_trees_classifier(x_train_norm, y_train, x_test_norm)"
      ],
      "execution_count": 34,
      "outputs": [
        {
          "output_type": "stream",
          "text": [
            "    Specs     Score\n",
            "15     15  0.103090\n",
            "16     16  0.072870\n",
            "23     23  0.070111\n",
            "26     26  0.066004\n",
            "22     22  0.056709\n",
            "13     13  0.055101\n",
            "28     28  0.048259\n",
            "11     11  0.047881\n",
            "36     36  0.035849\n",
            "2       2  0.029688\n"
          ],
          "name": "stdout"
        }
      ]
    },
    {
      "cell_type": "code",
      "metadata": {
        "colab": {
          "base_uri": "https://localhost:8080/"
        },
        "id": "4TxoNGth8guq",
        "outputId": "52ce931e-7355-49d9-ac69-eb9285cf2e59"
      },
      "source": [
        "# Extra Trees Classifier method for rescaled data\n",
        "extree_train_features_resc, extree_test_features_resc = extra_trees_classifier(x_train_resc, y_train, x_test_resc)"
      ],
      "execution_count": null,
      "outputs": [
        {
          "output_type": "stream",
          "text": [
            "    Specs     Score\n",
            "22     22  0.107082\n",
            "26     26  0.098998\n",
            "15     15  0.091695\n",
            "16     16  0.082208\n",
            "28     28  0.079847\n",
            "23     23  0.067989\n",
            "36     36  0.060018\n",
            "13     13  0.055606\n",
            "81     81  0.036854\n",
            "11     11  0.034167\n"
          ],
          "name": "stdout"
        }
      ]
    },
    {
      "cell_type": "markdown",
      "metadata": {
        "id": "JRgjjuRX8ckL"
      },
      "source": [
        "MODEL EVALUATION WITH SELECTED FEATURES"
      ]
    },
    {
      "cell_type": "code",
      "metadata": {
        "id": "L3DLrpW7IkE6"
      },
      "source": [
        "# raw data"
      ],
      "execution_count": null,
      "outputs": []
    },
    {
      "cell_type": "code",
      "metadata": {
        "colab": {
          "base_uri": "https://localhost:8080/"
        },
        "id": "2TsOIMuN8I5B",
        "outputId": "55661307-b03a-47df-b854-da83e3b40502"
      },
      "source": [
        "# compare models using top 10 features from K-Best for raw data\n",
        "compare_algorithms(kbest_train_features, y_train, kbest_test_features, y_test)"
      ],
      "execution_count": null,
      "outputs": [
        {
          "output_type": "stream",
          "text": [
            "Validation accuracy:\n",
            "LR: 0.961 (0.001)\n",
            "LDA: 0.928 (0.001)\n",
            "KNN: 0.998 (0.000)\n",
            "SVC: 0.992 (0.001)\n",
            "LnSVC: 0.960 (0.001)\n",
            "Test accuracy:\n",
            "LR: 0.500\n",
            "LDA: 0.277\n",
            "KNN: 0.500\n",
            "SVC: 0.500\n",
            "LnSVC: 0.500\n"
          ],
          "name": "stdout"
        }
      ]
    },
    {
      "cell_type": "code",
      "metadata": {
        "colab": {
          "base_uri": "https://localhost:8080/"
        },
        "id": "F_cZSXi08Ki9",
        "outputId": "aadb82b4-5007-4c2b-c41a-aecbac150fa7"
      },
      "source": [
        "# compare models using top 10 features from RFE for raw data\n",
        "compare_algorithms(rfe_train_features, y_train, rfe_test_features, y_test)"
      ],
      "execution_count": null,
      "outputs": [
        {
          "output_type": "stream",
          "text": [
            "Validation accuracy:\n",
            "LR: 0.985 (0.001)\n",
            "LDA: 0.969 (0.002)\n",
            "KNN: 0.999 (0.000)\n",
            "SVC: 0.997 (0.000)\n",
            "LnSVC: 0.993 (0.001)\n",
            "Test accuracy:\n",
            "LR: 0.861\n",
            "LDA: 0.820\n",
            "KNN: 0.531\n",
            "SVC: 0.521\n",
            "LnSVC: 0.866\n"
          ],
          "name": "stdout"
        }
      ]
    },
    {
      "cell_type": "code",
      "metadata": {
        "colab": {
          "base_uri": "https://localhost:8080/"
        },
        "id": "QQAeaDaE8KuT",
        "outputId": "4a6da412-aa15-4109-99c0-b361d0f49aed"
      },
      "source": [
        "# compare models using top 10 features from Extra Trees for raw data\n",
        "compare_algorithms(extree_train_features, y_train, extree_test_features, y_test)"
      ],
      "execution_count": null,
      "outputs": [
        {
          "output_type": "stream",
          "text": [
            "Validation accuracy:\n",
            "LR: 0.961 (0.001)\n",
            "LDA: 0.932 (0.002)\n",
            "KNN: 0.998 (0.000)\n",
            "SVC: 0.992 (0.001)\n",
            "LnSVC: 0.961 (0.001)\n",
            "Test accuracy:\n",
            "LR: 0.975\n",
            "LDA: 0.910\n",
            "KNN: 0.533\n",
            "SVC: 0.527\n",
            "LnSVC: 0.975\n"
          ],
          "name": "stdout"
        }
      ]
    },
    {
      "cell_type": "code",
      "metadata": {
        "id": "wbCWrQMlIoPH"
      },
      "source": [
        "# normalized data"
      ],
      "execution_count": null,
      "outputs": []
    },
    {
      "cell_type": "code",
      "metadata": {
        "colab": {
          "base_uri": "https://localhost:8080/"
        },
        "id": "VFmIHHIf8640",
        "outputId": "2aa99db1-0b2b-4487-9572-c91fa9eaee58"
      },
      "source": [
        "# compare models using top 10 features from K-Best for normalized data\n",
        "compare_algorithms(kbest_train_features_norm, y_train, kbest_test_features_norm, y_test)"
      ],
      "execution_count": null,
      "outputs": [
        {
          "output_type": "stream",
          "text": [
            "Validation accuracy:\n",
            "LR: 0.929 (0.002)\n",
            "LDA: 0.928 (0.002)\n",
            "KNN: 0.997 (0.000)\n",
            "SVC: 0.981 (0.002)\n",
            "LnSVC: 0.941 (0.002)\n",
            "Test accuracy:\n",
            "LR: 0.500\n",
            "LDA: 0.675\n",
            "KNN: 0.500\n",
            "SVC: 0.500\n",
            "LnSVC: 0.499\n"
          ],
          "name": "stdout"
        }
      ]
    },
    {
      "cell_type": "code",
      "metadata": {
        "colab": {
          "base_uri": "https://localhost:8080/"
        },
        "id": "5JeVgY8_87Sl",
        "outputId": "13c4c225-a7a6-4da3-ff70-b5fdb8b02f35"
      },
      "source": [
        "# compare models using top 10 features from RFE for normalized data\n",
        "compare_algorithms(rfe_train_features_norm, y_train, rfe_test_features_norm, y_test)"
      ],
      "execution_count": null,
      "outputs": [
        {
          "output_type": "stream",
          "text": [
            "Validation accuracy:\n",
            "LR: 0.987 (0.001)\n",
            "LDA: 0.974 (0.002)\n",
            "KNN: 0.998 (0.000)\n",
            "SVC: 0.991 (0.001)\n",
            "LnSVC: 0.988 (0.002)\n",
            "Test accuracy:\n",
            "LR: 0.520\n",
            "LDA: 0.958\n",
            "KNN: 0.532\n",
            "SVC: 0.527\n",
            "LnSVC: 0.519\n"
          ],
          "name": "stdout"
        }
      ]
    },
    {
      "cell_type": "code",
      "metadata": {
        "colab": {
          "base_uri": "https://localhost:8080/"
        },
        "id": "v2NL0Wxw87XO",
        "outputId": "4659ebe5-126e-488f-d274-e395a2d42f43"
      },
      "source": [
        "# compare models using top 10 features from Extra Trees for normalized data\n",
        "compare_algorithms(extree_train_features_norm, y_train, extree_test_features_norm, y_test)"
      ],
      "execution_count": null,
      "outputs": [
        {
          "output_type": "stream",
          "text": [
            "Validation accuracy:\n",
            "LR: 0.931 (0.002)\n",
            "LDA: 0.929 (0.002)\n",
            "KNN: 0.999 (0.000)\n",
            "SVC: 0.993 (0.000)\n",
            "LnSVC: 0.950 (0.001)\n",
            "Test accuracy:\n",
            "LR: 0.917\n",
            "LDA: 0.887\n",
            "KNN: 0.528\n",
            "SVC: 0.521\n",
            "LnSVC: 0.966\n"
          ],
          "name": "stdout"
        }
      ]
    },
    {
      "cell_type": "code",
      "metadata": {
        "id": "RYYrr87QIspf"
      },
      "source": [
        "# rescaled data"
      ],
      "execution_count": null,
      "outputs": []
    },
    {
      "cell_type": "code",
      "metadata": {
        "colab": {
          "base_uri": "https://localhost:8080/"
        },
        "id": "YDdK1mPUwj9u",
        "outputId": "95b8836d-ed98-43e4-b1f1-80476d0047f5"
      },
      "source": [
        "# compare models using top 10 features from K-Best for rescaled data\n",
        "compare_algorithms(kbest_train_features_resc, y_train, kbest_test_features_resc, y_test)"
      ],
      "execution_count": null,
      "outputs": [
        {
          "output_type": "stream",
          "text": [
            "Validation accuracy:\n",
            "LR: 0.961 (0.001)\n",
            "LDA: 0.928 (0.001)\n",
            "KNN: 0.998 (0.000)\n",
            "SVC: 0.992 (0.001)\n",
            "LnSVC: 0.960 (0.001)\n",
            "Test accuracy:\n",
            "LR: 0.500\n",
            "LDA: 0.277\n",
            "KNN: 0.500\n",
            "SVC: 0.500\n",
            "LnSVC: 0.500\n"
          ],
          "name": "stdout"
        }
      ]
    },
    {
      "cell_type": "code",
      "metadata": {
        "colab": {
          "base_uri": "https://localhost:8080/"
        },
        "id": "EEZ6j4DJ1_2c",
        "outputId": "bb5a63cf-cd11-4e7a-b599-2600dc832275"
      },
      "source": [
        "# compare models using top 10 features from RFE for rescaled data\n",
        "compare_algorithms(rfe_train_features_resc, y_train, rfe_test_features_resc, y_test)"
      ],
      "execution_count": null,
      "outputs": [
        {
          "output_type": "stream",
          "text": [
            "Validation accuracy:\n",
            "LR: 0.992 (0.001)\n",
            "LDA: 0.980 (0.002)\n",
            "KNN: 0.999 (0.000)\n",
            "SVC: 0.997 (0.001)\n",
            "LnSVC: 0.995 (0.001)\n",
            "Test accuracy:\n",
            "LR: 0.813\n",
            "LDA: 0.783\n",
            "KNN: 0.535\n",
            "SVC: 0.494\n",
            "LnSVC: 0.816\n"
          ],
          "name": "stdout"
        }
      ]
    },
    {
      "cell_type": "code",
      "metadata": {
        "colab": {
          "base_uri": "https://localhost:8080/"
        },
        "id": "wcN_JfGV13TP",
        "outputId": "51a516f5-d972-474a-8726-d77335ecc2f9"
      },
      "source": [
        "# compare models using top 10 features from Extra Trees for rescaled data\n",
        "compare_algorithms(extree_train_features_resc, y_train, extree_test_features_resc, y_test)"
      ],
      "execution_count": null,
      "outputs": [
        {
          "output_type": "stream",
          "text": [
            "Validation accuracy:\n",
            "LR: 0.969 (0.002)\n",
            "LDA: 0.938 (0.002)\n",
            "KNN: 0.997 (0.000)\n",
            "SVC: 0.988 (0.000)\n",
            "LnSVC: 0.971 (0.002)\n",
            "Test accuracy:\n",
            "LR: 0.959\n",
            "LDA: 0.916\n",
            "KNN: 0.521\n",
            "SVC: 0.502\n",
            "LnSVC: 0.958\n"
          ],
          "name": "stdout"
        }
      ]
    },
    {
      "cell_type": "markdown",
      "metadata": {
        "id": "pTCG65_Ay2Qf"
      },
      "source": [
        "USE OF AUTOENCODERS FOR FEATURE EXTRACTION: SIMPLE / DENOISING / SPARSE\n",
        "\n",
        "---\n",
        "\n",
        "\n"
      ]
    },
    {
      "cell_type": "code",
      "metadata": {
        "colab": {
          "base_uri": "https://localhost:8080/"
        },
        "id": "RzKXtUwLVXGm",
        "outputId": "763e319f-93d8-4526-afc8-5d5fb5be1686"
      },
      "source": [
        "# creating the encoder model of the simple autoencoder\n",
        "# for the raw, normalized and rescaled data\n",
        "\n",
        "encoder1_raw = autoencoder(x_train, x_test)\n",
        "encoder1_norm = autoencoder(x_train_norm, x_test_norm)\n",
        "encoder1_resc = autoencoder(x_train_resc, x_test_resc)\n"
      ],
      "execution_count": 24,
      "outputs": [
        {
          "output_type": "stream",
          "text": [
            "Epoch 1/3\n",
            "2427/2427 [==============================] - 20s 8ms/step - loss: 0.0857 - val_loss: 0.3677\n",
            "Epoch 2/3\n",
            "2427/2427 [==============================] - 19s 8ms/step - loss: 0.0595 - val_loss: 0.3975\n",
            "Epoch 3/3\n",
            "2427/2427 [==============================] - 19s 8ms/step - loss: 0.0592 - val_loss: 0.4044\n",
            "Epoch 1/3\n",
            "2427/2427 [==============================] - 20s 8ms/step - loss: 0.1678 - val_loss: 0.1705\n",
            "Epoch 2/3\n",
            "2427/2427 [==============================] - 19s 8ms/step - loss: 0.1470 - val_loss: 0.1682\n",
            "Epoch 3/3\n",
            "2427/2427 [==============================] - 19s 8ms/step - loss: 0.1469 - val_loss: 0.1691\n",
            "Epoch 1/3\n",
            "2427/2427 [==============================] - 21s 8ms/step - loss: 0.0788 - val_loss: -2911187.2500\n",
            "Epoch 2/3\n",
            "2427/2427 [==============================] - 19s 8ms/step - loss: 0.0507 - val_loss: -1437030.0000\n",
            "Epoch 3/3\n",
            "2427/2427 [==============================] - 19s 8ms/step - loss: 0.0503 - val_loss: -2511608.0000\n"
          ],
          "name": "stdout"
        }
      ]
    },
    {
      "cell_type": "code",
      "metadata": {
        "colab": {
          "base_uri": "https://localhost:8080/"
        },
        "id": "W9NlA5GaWOO-",
        "outputId": "c5df8933-aaeb-4828-b8c3-1470e702485e"
      },
      "source": [
        "# creating the encoder model of the denoising autoencoder\n",
        "# for the raw, normalized and rescaled data\n",
        "\n",
        "encoder2_raw = denoising_autoencoder(x_train, x_test)\n",
        "encoder2_norm = denoising_autoencoder(x_train_norm, x_test_norm)\n",
        "encoder2_resc = denoising_autoencoder(x_train_resc, x_test_resc)"
      ],
      "execution_count": 25,
      "outputs": [
        {
          "output_type": "stream",
          "text": [
            "Epoch 1/3\n",
            "2427/2427 [==============================] - 20s 8ms/step - loss: 0.4386 - val_loss: 0.4407\n",
            "Epoch 2/3\n",
            "2427/2427 [==============================] - 19s 8ms/step - loss: 0.4140 - val_loss: 0.4342\n",
            "Epoch 3/3\n",
            "2427/2427 [==============================] - 19s 8ms/step - loss: 0.4103 - val_loss: 0.4327\n",
            "Epoch 1/3\n",
            "2427/2427 [==============================] - 20s 8ms/step - loss: 0.4674 - val_loss: 0.4508\n",
            "Epoch 2/3\n",
            "2427/2427 [==============================] - 19s 8ms/step - loss: 0.4470 - val_loss: 0.4434\n",
            "Epoch 3/3\n",
            "2427/2427 [==============================] - 19s 8ms/step - loss: 0.4412 - val_loss: 0.4391\n",
            "Epoch 1/3\n",
            "2427/2427 [==============================] - 20s 8ms/step - loss: 0.4408 - val_loss: 0.4193\n",
            "Epoch 2/3\n",
            "2427/2427 [==============================] - 19s 8ms/step - loss: 0.4157 - val_loss: 0.4162\n",
            "Epoch 3/3\n",
            "2427/2427 [==============================] - 20s 8ms/step - loss: 0.4129 - val_loss: 0.4135\n"
          ],
          "name": "stdout"
        }
      ]
    },
    {
      "cell_type": "code",
      "metadata": {
        "colab": {
          "base_uri": "https://localhost:8080/"
        },
        "id": "75Uxc1-vWwO3",
        "outputId": "cdc3dc3c-7d2d-4e70-a54c-41acc32a1a68"
      },
      "source": [
        "# creating the encoder model of sparse autoencoder\n",
        "# for the raw, normalized and rescaled data\n",
        "encoder3_raw = sparse_autoencoder(x_train, x_test)\n",
        "encoder3_norm = sparse_autoencoder(x_train_norm, x_test_norm)\n",
        "encoder3_resc = sparse_autoencoder(x_train_resc, x_test_resc) "
      ],
      "execution_count": 26,
      "outputs": [
        {
          "output_type": "stream",
          "text": [
            "Epoch 1/3\n",
            "3033/3033 [==============================] - 6s 2ms/step - loss: 0.1608 - val_loss: 0.3386\n",
            "Epoch 2/3\n",
            "3033/3033 [==============================] - 5s 2ms/step - loss: 0.0623 - val_loss: 0.3589\n",
            "Epoch 3/3\n",
            "3033/3033 [==============================] - 5s 2ms/step - loss: 0.0605 - val_loss: 0.3517\n",
            "Epoch 1/3\n",
            "3033/3033 [==============================] - 6s 2ms/step - loss: 0.2197 - val_loss: 0.1675\n",
            "Epoch 2/3\n",
            "3033/3033 [==============================] - 5s 2ms/step - loss: 0.1494 - val_loss: 0.1685\n",
            "Epoch 3/3\n",
            "3033/3033 [==============================] - 5s 2ms/step - loss: 0.1479 - val_loss: 0.1690\n",
            "Epoch 1/3\n",
            "3033/3033 [==============================] - 5s 2ms/step - loss: 0.1403 - val_loss: -3136183.7500\n",
            "Epoch 2/3\n",
            "3033/3033 [==============================] - 5s 2ms/step - loss: 0.0536 - val_loss: -5242994.5000\n",
            "Epoch 3/3\n",
            "3033/3033 [==============================] - 5s 2ms/step - loss: 0.0518 - val_loss: -6170987.0000\n"
          ],
          "name": "stdout"
        }
      ]
    },
    {
      "cell_type": "code",
      "metadata": {
        "id": "PmbXNlBbw2-3"
      },
      "source": [
        "# data transformation - encoder1\n",
        "x_train_enc_1, x_test_enc_1 = encoder_transformation(encoder1_raw, x_train, x_test)\n",
        "x_train_norm_enc_1, x_test_norm_enc_1 = encoder_transformation(encoder1_norm, x_train_norm, x_test_norm) \n",
        "x_train_resc_enc_1, x_test_resc_enc_1 = encoder_transformation(encoder1_resc, x_train_resc, x_test_resc)\n"
      ],
      "execution_count": 27,
      "outputs": []
    },
    {
      "cell_type": "code",
      "metadata": {
        "id": "rmSH-di8mDuS"
      },
      "source": [
        "# data transformation - encoder2\n",
        "x_train_enc_2, x_test_enc_2 = encoder_transformation(encoder2_raw, x_train, x_test)\n",
        "x_train_norm_enc_2, x_test_norm_enc_2 = encoder_transformation(encoder2_norm, x_train_norm, x_test_norm) \n",
        "x_train_resc_enc_2, x_test_resc_enc_2 = encoder_transformation(encoder2_resc, x_train_resc, x_test_resc)"
      ],
      "execution_count": 28,
      "outputs": []
    },
    {
      "cell_type": "code",
      "metadata": {
        "id": "ZiqH0aw2mTcM"
      },
      "source": [
        "# data transformation - encoder3\n",
        "x_train_enc_3, x_test_enc_3 = encoder_transformation(encoder3_raw, x_train, x_test)\n",
        "x_train_norm_enc_3, x_test_norm_enc_3 = encoder_transformation(encoder3_norm, x_train_norm, x_test_norm) \n",
        "x_train_resc_enc_3, x_test_resc_enc_3 = encoder_transformation(encoder3_resc, x_train_resc, x_test_resc)"
      ],
      "execution_count": 29,
      "outputs": []
    },
    {
      "cell_type": "markdown",
      "metadata": {
        "id": "5YU7E9DwECvK"
      },
      "source": [
        "FITTING MODELS TO EXTRACTED DATA"
      ]
    },
    {
      "cell_type": "code",
      "metadata": {
        "colab": {
          "base_uri": "https://localhost:8080/"
        },
        "id": "WVjBiGd-V_Y7",
        "outputId": "739de021-8e63-4762-d303-eee438d9a811"
      },
      "source": [
        "# encoder1 - raw data\n",
        "compare_algorithms(x_train_enc_1, y_train, x_test_enc_1, y_test)"
      ],
      "execution_count": null,
      "outputs": [
        {
          "output_type": "stream",
          "text": [
            "Validation accuracy:\n",
            "LR: 0.973 (0.002)\n",
            "LDA: 0.950 (0.002)\n",
            "KNN: 0.999 (0.000)\n",
            "SVC: 0.997 (0.000)\n"
          ],
          "name": "stdout"
        },
        {
          "output_type": "stream",
          "text": [
            "/usr/local/lib/python3.6/dist-packages/sklearn/svm/_base.py:947: ConvergenceWarning: Liblinear failed to converge, increase the number of iterations.\n",
            "  \"the number of iterations.\", ConvergenceWarning)\n",
            "/usr/local/lib/python3.6/dist-packages/sklearn/svm/_base.py:947: ConvergenceWarning: Liblinear failed to converge, increase the number of iterations.\n",
            "  \"the number of iterations.\", ConvergenceWarning)\n",
            "/usr/local/lib/python3.6/dist-packages/sklearn/svm/_base.py:947: ConvergenceWarning: Liblinear failed to converge, increase the number of iterations.\n",
            "  \"the number of iterations.\", ConvergenceWarning)\n",
            "/usr/local/lib/python3.6/dist-packages/sklearn/svm/_base.py:947: ConvergenceWarning: Liblinear failed to converge, increase the number of iterations.\n",
            "  \"the number of iterations.\", ConvergenceWarning)\n",
            "/usr/local/lib/python3.6/dist-packages/sklearn/svm/_base.py:947: ConvergenceWarning: Liblinear failed to converge, increase the number of iterations.\n",
            "  \"the number of iterations.\", ConvergenceWarning)\n"
          ],
          "name": "stderr"
        },
        {
          "output_type": "stream",
          "text": [
            "LnSVC: 0.974 (0.001)\n",
            "Test accuracy:\n",
            "LR: 0.569\n",
            "LDA: 0.943\n",
            "KNN: 0.534\n",
            "SVC: 0.534\n",
            "LnSVC: 0.566\n"
          ],
          "name": "stdout"
        },
        {
          "output_type": "stream",
          "text": [
            "/usr/local/lib/python3.6/dist-packages/sklearn/svm/_base.py:947: ConvergenceWarning: Liblinear failed to converge, increase the number of iterations.\n",
            "  \"the number of iterations.\", ConvergenceWarning)\n"
          ],
          "name": "stderr"
        }
      ]
    },
    {
      "cell_type": "code",
      "metadata": {
        "colab": {
          "base_uri": "https://localhost:8080/"
        },
        "id": "pSIjofEq-eLq",
        "outputId": "1aeadcfc-9017-4581-9737-01a0daec05f6"
      },
      "source": [
        "# encoder1 - normalized data\n",
        "compare_algorithms(x_train_norm_enc_1, y_train, x_test_norm_enc_1, y_test)"
      ],
      "execution_count": null,
      "outputs": [
        {
          "output_type": "stream",
          "text": [
            "Validation accuracy:\n",
            "LR: 0.985 (0.002)\n",
            "LDA: 0.967 (0.001)\n",
            "KNN: 0.999 (0.000)\n",
            "SVC: 0.995 (0.001)\n"
          ],
          "name": "stdout"
        },
        {
          "output_type": "stream",
          "text": [
            "/usr/local/lib/python3.6/dist-packages/sklearn/svm/_base.py:947: ConvergenceWarning: Liblinear failed to converge, increase the number of iterations.\n",
            "  \"the number of iterations.\", ConvergenceWarning)\n",
            "/usr/local/lib/python3.6/dist-packages/sklearn/svm/_base.py:947: ConvergenceWarning: Liblinear failed to converge, increase the number of iterations.\n",
            "  \"the number of iterations.\", ConvergenceWarning)\n",
            "/usr/local/lib/python3.6/dist-packages/sklearn/svm/_base.py:947: ConvergenceWarning: Liblinear failed to converge, increase the number of iterations.\n",
            "  \"the number of iterations.\", ConvergenceWarning)\n",
            "/usr/local/lib/python3.6/dist-packages/sklearn/svm/_base.py:947: ConvergenceWarning: Liblinear failed to converge, increase the number of iterations.\n",
            "  \"the number of iterations.\", ConvergenceWarning)\n",
            "/usr/local/lib/python3.6/dist-packages/sklearn/svm/_base.py:947: ConvergenceWarning: Liblinear failed to converge, increase the number of iterations.\n",
            "  \"the number of iterations.\", ConvergenceWarning)\n"
          ],
          "name": "stderr"
        },
        {
          "output_type": "stream",
          "text": [
            "LnSVC: 0.985 (0.002)\n",
            "Test accuracy:\n",
            "LR: 0.868\n",
            "LDA: 0.924\n",
            "KNN: 0.518\n",
            "SVC: 0.500\n",
            "LnSVC: 0.874\n"
          ],
          "name": "stdout"
        },
        {
          "output_type": "stream",
          "text": [
            "/usr/local/lib/python3.6/dist-packages/sklearn/svm/_base.py:947: ConvergenceWarning: Liblinear failed to converge, increase the number of iterations.\n",
            "  \"the number of iterations.\", ConvergenceWarning)\n"
          ],
          "name": "stderr"
        }
      ]
    },
    {
      "cell_type": "code",
      "metadata": {
        "colab": {
          "base_uri": "https://localhost:8080/"
        },
        "id": "pdV97uaiWyXc",
        "outputId": "96d5cc41-9f14-4dfc-d23e-5c140b200548"
      },
      "source": [
        "# encoder1 - rescaled data\n",
        "compare_algorithms(x_train_resc_enc_1, y_train, x_test_resc_enc_1, y_test)"
      ],
      "execution_count": null,
      "outputs": [
        {
          "output_type": "stream",
          "text": [
            "Validation accuracy:\n",
            "LR: 0.994 (0.001)\n",
            "LDA: 0.985 (0.001)\n",
            "KNN: 0.999 (0.000)\n",
            "SVC: 0.999 (0.000)\n"
          ],
          "name": "stdout"
        },
        {
          "output_type": "stream",
          "text": [
            "/usr/local/lib/python3.6/dist-packages/sklearn/svm/_base.py:947: ConvergenceWarning: Liblinear failed to converge, increase the number of iterations.\n",
            "  \"the number of iterations.\", ConvergenceWarning)\n",
            "/usr/local/lib/python3.6/dist-packages/sklearn/svm/_base.py:947: ConvergenceWarning: Liblinear failed to converge, increase the number of iterations.\n",
            "  \"the number of iterations.\", ConvergenceWarning)\n",
            "/usr/local/lib/python3.6/dist-packages/sklearn/svm/_base.py:947: ConvergenceWarning: Liblinear failed to converge, increase the number of iterations.\n",
            "  \"the number of iterations.\", ConvergenceWarning)\n",
            "/usr/local/lib/python3.6/dist-packages/sklearn/svm/_base.py:947: ConvergenceWarning: Liblinear failed to converge, increase the number of iterations.\n",
            "  \"the number of iterations.\", ConvergenceWarning)\n",
            "/usr/local/lib/python3.6/dist-packages/sklearn/svm/_base.py:947: ConvergenceWarning: Liblinear failed to converge, increase the number of iterations.\n",
            "  \"the number of iterations.\", ConvergenceWarning)\n"
          ],
          "name": "stderr"
        },
        {
          "output_type": "stream",
          "text": [
            "LnSVC: 0.994 (0.001)\n",
            "Test accuracy:\n",
            "LR: 0.609\n",
            "LDA: 0.810\n",
            "KNN: 0.500\n",
            "SVC: 0.500\n",
            "LnSVC: 0.534\n"
          ],
          "name": "stdout"
        },
        {
          "output_type": "stream",
          "text": [
            "/usr/local/lib/python3.6/dist-packages/sklearn/svm/_base.py:947: ConvergenceWarning: Liblinear failed to converge, increase the number of iterations.\n",
            "  \"the number of iterations.\", ConvergenceWarning)\n"
          ],
          "name": "stderr"
        }
      ]
    },
    {
      "cell_type": "code",
      "metadata": {
        "colab": {
          "base_uri": "https://localhost:8080/"
        },
        "id": "T-aID_07c8Sa",
        "outputId": "ce6f8d9f-aec0-4b81-f5bb-bf9d02226f9d"
      },
      "source": [
        "# encoder2 - raw data\n",
        "compare_algorithms(x_train_enc_2, y_train, x_test_enc_2, y_test)"
      ],
      "execution_count": null,
      "outputs": [
        {
          "output_type": "stream",
          "text": [
            "Validation accuracy:\n",
            "LR: 0.991 (0.001)\n",
            "LDA: 0.980 (0.002)\n",
            "KNN: 0.999 (0.000)\n",
            "SVC: 0.995 (0.000)\n"
          ],
          "name": "stdout"
        },
        {
          "output_type": "stream",
          "text": [
            "/usr/local/lib/python3.6/dist-packages/sklearn/svm/_base.py:947: ConvergenceWarning: Liblinear failed to converge, increase the number of iterations.\n",
            "  \"the number of iterations.\", ConvergenceWarning)\n",
            "/usr/local/lib/python3.6/dist-packages/sklearn/svm/_base.py:947: ConvergenceWarning: Liblinear failed to converge, increase the number of iterations.\n",
            "  \"the number of iterations.\", ConvergenceWarning)\n",
            "/usr/local/lib/python3.6/dist-packages/sklearn/svm/_base.py:947: ConvergenceWarning: Liblinear failed to converge, increase the number of iterations.\n",
            "  \"the number of iterations.\", ConvergenceWarning)\n",
            "/usr/local/lib/python3.6/dist-packages/sklearn/svm/_base.py:947: ConvergenceWarning: Liblinear failed to converge, increase the number of iterations.\n",
            "  \"the number of iterations.\", ConvergenceWarning)\n",
            "/usr/local/lib/python3.6/dist-packages/sklearn/svm/_base.py:947: ConvergenceWarning: Liblinear failed to converge, increase the number of iterations.\n",
            "  \"the number of iterations.\", ConvergenceWarning)\n"
          ],
          "name": "stderr"
        },
        {
          "output_type": "stream",
          "text": [
            "LnSVC: 0.993 (0.001)\n",
            "Test accuracy:\n",
            "LR: 0.552\n",
            "LDA: 0.502\n",
            "KNN: 0.531\n",
            "SVC: 0.525\n",
            "LnSVC: 0.532\n"
          ],
          "name": "stdout"
        },
        {
          "output_type": "stream",
          "text": [
            "/usr/local/lib/python3.6/dist-packages/sklearn/svm/_base.py:947: ConvergenceWarning: Liblinear failed to converge, increase the number of iterations.\n",
            "  \"the number of iterations.\", ConvergenceWarning)\n"
          ],
          "name": "stderr"
        }
      ]
    },
    {
      "cell_type": "code",
      "metadata": {
        "colab": {
          "base_uri": "https://localhost:8080/"
        },
        "id": "_kyJudLdc8KJ",
        "outputId": "351b946b-fb78-4d5f-a06b-5272058b38b6"
      },
      "source": [
        "# encoder2 - normalized data\n",
        "compare_algorithms(x_train_norm_enc_2, y_train, x_test_norm_enc_2, y_test)"
      ],
      "execution_count": null,
      "outputs": [
        {
          "output_type": "stream",
          "text": [
            "Validation accuracy:\n",
            "LR: 0.985 (0.001)\n",
            "LDA: 0.953 (0.001)\n",
            "KNN: 0.999 (0.000)\n",
            "SVC: 0.980 (0.001)\n"
          ],
          "name": "stdout"
        },
        {
          "output_type": "stream",
          "text": [
            "/usr/local/lib/python3.6/dist-packages/sklearn/svm/_base.py:947: ConvergenceWarning: Liblinear failed to converge, increase the number of iterations.\n",
            "  \"the number of iterations.\", ConvergenceWarning)\n",
            "/usr/local/lib/python3.6/dist-packages/sklearn/svm/_base.py:947: ConvergenceWarning: Liblinear failed to converge, increase the number of iterations.\n",
            "  \"the number of iterations.\", ConvergenceWarning)\n",
            "/usr/local/lib/python3.6/dist-packages/sklearn/svm/_base.py:947: ConvergenceWarning: Liblinear failed to converge, increase the number of iterations.\n",
            "  \"the number of iterations.\", ConvergenceWarning)\n",
            "/usr/local/lib/python3.6/dist-packages/sklearn/svm/_base.py:947: ConvergenceWarning: Liblinear failed to converge, increase the number of iterations.\n",
            "  \"the number of iterations.\", ConvergenceWarning)\n",
            "/usr/local/lib/python3.6/dist-packages/sklearn/svm/_base.py:947: ConvergenceWarning: Liblinear failed to converge, increase the number of iterations.\n",
            "  \"the number of iterations.\", ConvergenceWarning)\n"
          ],
          "name": "stderr"
        },
        {
          "output_type": "stream",
          "text": [
            "LnSVC: 0.990 (0.001)\n",
            "Test accuracy:\n",
            "LR: 0.945\n",
            "LDA: 0.500\n",
            "KNN: 0.740\n",
            "SVC: 0.951\n",
            "LnSVC: 0.929\n"
          ],
          "name": "stdout"
        },
        {
          "output_type": "stream",
          "text": [
            "/usr/local/lib/python3.6/dist-packages/sklearn/svm/_base.py:947: ConvergenceWarning: Liblinear failed to converge, increase the number of iterations.\n",
            "  \"the number of iterations.\", ConvergenceWarning)\n"
          ],
          "name": "stderr"
        }
      ]
    },
    {
      "cell_type": "code",
      "metadata": {
        "colab": {
          "base_uri": "https://localhost:8080/"
        },
        "id": "uo74Tuqoc8O1",
        "outputId": "87768584-c6d1-4ca3-d322-be2d6e9ce164"
      },
      "source": [
        "# encoder2 - rescaled data data\n",
        "compare_algorithms(x_train_resc_enc_2, y_train, x_test_resc_enc_2, y_test)"
      ],
      "execution_count": null,
      "outputs": [
        {
          "output_type": "stream",
          "text": [
            "Validation accuracy:\n",
            "LR: 0.995 (0.001)\n",
            "LDA: 0.978 (0.002)\n",
            "KNN: 0.999 (0.000)\n",
            "SVC: 0.998 (0.000)\n"
          ],
          "name": "stdout"
        },
        {
          "output_type": "stream",
          "text": [
            "/usr/local/lib/python3.6/dist-packages/sklearn/svm/_base.py:947: ConvergenceWarning: Liblinear failed to converge, increase the number of iterations.\n",
            "  \"the number of iterations.\", ConvergenceWarning)\n",
            "/usr/local/lib/python3.6/dist-packages/sklearn/svm/_base.py:947: ConvergenceWarning: Liblinear failed to converge, increase the number of iterations.\n",
            "  \"the number of iterations.\", ConvergenceWarning)\n",
            "/usr/local/lib/python3.6/dist-packages/sklearn/svm/_base.py:947: ConvergenceWarning: Liblinear failed to converge, increase the number of iterations.\n",
            "  \"the number of iterations.\", ConvergenceWarning)\n",
            "/usr/local/lib/python3.6/dist-packages/sklearn/svm/_base.py:947: ConvergenceWarning: Liblinear failed to converge, increase the number of iterations.\n",
            "  \"the number of iterations.\", ConvergenceWarning)\n",
            "/usr/local/lib/python3.6/dist-packages/sklearn/svm/_base.py:947: ConvergenceWarning: Liblinear failed to converge, increase the number of iterations.\n",
            "  \"the number of iterations.\", ConvergenceWarning)\n"
          ],
          "name": "stderr"
        },
        {
          "output_type": "stream",
          "text": [
            "LnSVC: 0.995 (0.001)\n",
            "Test accuracy:\n",
            "LR: 0.508\n",
            "LDA: 0.504\n",
            "KNN: 0.500\n",
            "SVC: 0.500\n",
            "LnSVC: 0.506\n"
          ],
          "name": "stdout"
        },
        {
          "output_type": "stream",
          "text": [
            "/usr/local/lib/python3.6/dist-packages/sklearn/svm/_base.py:947: ConvergenceWarning: Liblinear failed to converge, increase the number of iterations.\n",
            "  \"the number of iterations.\", ConvergenceWarning)\n"
          ],
          "name": "stderr"
        }
      ]
    },
    {
      "cell_type": "code",
      "metadata": {
        "colab": {
          "base_uri": "https://localhost:8080/"
        },
        "id": "ZN7rn6qkci3P",
        "outputId": "ba2116bf-c588-4af6-ff19-23ab07f2f005"
      },
      "source": [
        "# encoder3 - raw data\n",
        "compare_algorithms(x_train_enc_3, y_train, x_test_enc_3, y_test)"
      ],
      "execution_count": null,
      "outputs": [
        {
          "output_type": "stream",
          "text": [
            "Validation accuracy:\n",
            "LR: 0.992 (0.001)\n",
            "LDA: 0.977 (0.002)\n",
            "KNN: 0.999 (0.000)\n",
            "SVC: 0.996 (0.001)\n"
          ],
          "name": "stdout"
        },
        {
          "output_type": "stream",
          "text": [
            "/usr/local/lib/python3.6/dist-packages/sklearn/svm/_base.py:947: ConvergenceWarning: Liblinear failed to converge, increase the number of iterations.\n",
            "  \"the number of iterations.\", ConvergenceWarning)\n",
            "/usr/local/lib/python3.6/dist-packages/sklearn/svm/_base.py:947: ConvergenceWarning: Liblinear failed to converge, increase the number of iterations.\n",
            "  \"the number of iterations.\", ConvergenceWarning)\n",
            "/usr/local/lib/python3.6/dist-packages/sklearn/svm/_base.py:947: ConvergenceWarning: Liblinear failed to converge, increase the number of iterations.\n",
            "  \"the number of iterations.\", ConvergenceWarning)\n",
            "/usr/local/lib/python3.6/dist-packages/sklearn/svm/_base.py:947: ConvergenceWarning: Liblinear failed to converge, increase the number of iterations.\n",
            "  \"the number of iterations.\", ConvergenceWarning)\n",
            "/usr/local/lib/python3.6/dist-packages/sklearn/svm/_base.py:947: ConvergenceWarning: Liblinear failed to converge, increase the number of iterations.\n",
            "  \"the number of iterations.\", ConvergenceWarning)\n"
          ],
          "name": "stderr"
        },
        {
          "output_type": "stream",
          "text": [
            "LnSVC: 0.992 (0.001)\n",
            "Test accuracy:\n",
            "LR: 0.867\n",
            "LDA: 0.824\n",
            "KNN: 0.508\n",
            "SVC: 0.598\n",
            "LnSVC: 0.512\n"
          ],
          "name": "stdout"
        },
        {
          "output_type": "stream",
          "text": [
            "/usr/local/lib/python3.6/dist-packages/sklearn/svm/_base.py:947: ConvergenceWarning: Liblinear failed to converge, increase the number of iterations.\n",
            "  \"the number of iterations.\", ConvergenceWarning)\n"
          ],
          "name": "stderr"
        }
      ]
    },
    {
      "cell_type": "code",
      "metadata": {
        "colab": {
          "base_uri": "https://localhost:8080/"
        },
        "id": "r7qMWnRsHsjp",
        "outputId": "ee83861f-d1a4-4594-af37-4330e36928e0"
      },
      "source": [
        "# encoder3 - normalized data\n",
        "compare_algorithms(x_train_norm_enc_3, y_train, x_test_norm_enc_3, y_test)"
      ],
      "execution_count": null,
      "outputs": [
        {
          "output_type": "stream",
          "text": [
            "Validation accuracy:\n",
            "LR: 0.988 (0.002)\n",
            "LDA: 0.974 (0.002)\n",
            "KNN: 0.999 (0.000)\n",
            "SVC: 0.992 (0.001)\n"
          ],
          "name": "stdout"
        },
        {
          "output_type": "stream",
          "text": [
            "/usr/local/lib/python3.6/dist-packages/sklearn/svm/_base.py:947: ConvergenceWarning: Liblinear failed to converge, increase the number of iterations.\n",
            "  \"the number of iterations.\", ConvergenceWarning)\n",
            "/usr/local/lib/python3.6/dist-packages/sklearn/svm/_base.py:947: ConvergenceWarning: Liblinear failed to converge, increase the number of iterations.\n",
            "  \"the number of iterations.\", ConvergenceWarning)\n"
          ],
          "name": "stderr"
        },
        {
          "output_type": "stream",
          "text": [
            "LnSVC: 0.990 (0.001)\n",
            "Test accuracy:\n",
            "LR: 0.896\n",
            "LDA: 0.850\n",
            "KNN: 0.531\n",
            "SVC: 0.524\n",
            "LnSVC: 0.866\n"
          ],
          "name": "stdout"
        },
        {
          "output_type": "stream",
          "text": [
            "/usr/local/lib/python3.6/dist-packages/sklearn/svm/_base.py:947: ConvergenceWarning: Liblinear failed to converge, increase the number of iterations.\n",
            "  \"the number of iterations.\", ConvergenceWarning)\n"
          ],
          "name": "stderr"
        }
      ]
    },
    {
      "cell_type": "code",
      "metadata": {
        "colab": {
          "base_uri": "https://localhost:8080/"
        },
        "id": "bCNeSJ7Rcjl0",
        "outputId": "85b59aa9-a4ec-4664-8948-c665aaeea099"
      },
      "source": [
        "# encoder3 - rescaled data\n",
        "compare_algorithms(x_train_resc_enc_3, y_train, x_test_resc_enc_3, y_test)"
      ],
      "execution_count": null,
      "outputs": [
        {
          "output_type": "stream",
          "text": [
            "Validation accuracy:\n",
            "LR: 0.991 (0.001)\n",
            "LDA: 0.984 (0.001)\n",
            "KNN: 0.999 (0.000)\n",
            "SVC: 0.998 (0.000)\n"
          ],
          "name": "stdout"
        },
        {
          "output_type": "stream",
          "text": [
            "/usr/local/lib/python3.6/dist-packages/sklearn/svm/_base.py:947: ConvergenceWarning: Liblinear failed to converge, increase the number of iterations.\n",
            "  \"the number of iterations.\", ConvergenceWarning)\n",
            "/usr/local/lib/python3.6/dist-packages/sklearn/svm/_base.py:947: ConvergenceWarning: Liblinear failed to converge, increase the number of iterations.\n",
            "  \"the number of iterations.\", ConvergenceWarning)\n",
            "/usr/local/lib/python3.6/dist-packages/sklearn/svm/_base.py:947: ConvergenceWarning: Liblinear failed to converge, increase the number of iterations.\n",
            "  \"the number of iterations.\", ConvergenceWarning)\n",
            "/usr/local/lib/python3.6/dist-packages/sklearn/svm/_base.py:947: ConvergenceWarning: Liblinear failed to converge, increase the number of iterations.\n",
            "  \"the number of iterations.\", ConvergenceWarning)\n",
            "/usr/local/lib/python3.6/dist-packages/sklearn/svm/_base.py:947: ConvergenceWarning: Liblinear failed to converge, increase the number of iterations.\n",
            "  \"the number of iterations.\", ConvergenceWarning)\n"
          ],
          "name": "stderr"
        },
        {
          "output_type": "stream",
          "text": [
            "LnSVC: 0.993 (0.000)\n",
            "Test accuracy:\n",
            "LR: 0.953\n",
            "LDA: 0.803\n",
            "KNN: 0.500\n",
            "SVC: 0.581\n",
            "LnSVC: 0.474\n"
          ],
          "name": "stdout"
        },
        {
          "output_type": "stream",
          "text": [
            "/usr/local/lib/python3.6/dist-packages/sklearn/svm/_base.py:947: ConvergenceWarning: Liblinear failed to converge, increase the number of iterations.\n",
            "  \"the number of iterations.\", ConvergenceWarning)\n"
          ],
          "name": "stderr"
        }
      ]
    },
    {
      "cell_type": "markdown",
      "metadata": {
        "id": "2FSNpsVKAzcr"
      },
      "source": [
        "COMBINE ORIGINAL WITH EXTRACTED FEATURES (NORMALIZED DATA)\n",
        "\n"
      ]
    },
    {
      "cell_type": "code",
      "metadata": {
        "id": "KZQcfi6QBeWS"
      },
      "source": [
        "# FULL SET OF ORIGINAL FEATURES + EXTRACTED FEATURES\n",
        "# 82 + 20 = 102 FEATURES "
      ],
      "execution_count": null,
      "outputs": []
    },
    {
      "cell_type": "code",
      "metadata": {
        "id": "a6UW1RHbBNIC"
      },
      "source": [
        "# simple encoder\n",
        "x_train_full_enc_1, x_test_full_enc_1 = mixed_data(x_train_norm, x_train_norm_enc_1, x_test_norm, x_test_norm_enc_1)\n",
        "# denoising encoder\n",
        "x_train_full_enc_2, x_test_full_enc_2 = mixed_data(x_train_norm, x_train_norm_enc_2, x_test_norm, x_test_norm_enc_2)\n",
        "# sparse encoder\n",
        "x_train_full_enc_3, x_test_full_enc_3 = mixed_data(x_train_norm, x_train_norm_enc_3, x_test_norm, x_test_norm_enc_3)"
      ],
      "execution_count": 31,
      "outputs": []
    },
    {
      "cell_type": "code",
      "metadata": {
        "id": "C4NbPBKbFOVc"
      },
      "source": [
        "# SELECTED SET OF ORIGINAL FEATURES (EXTRA TREES CLASSIFIER) + EXTRACTED FEATURES\n",
        "# 10 + 20 = 30 FEATURES"
      ],
      "execution_count": null,
      "outputs": []
    },
    {
      "cell_type": "code",
      "metadata": {
        "id": "ztKfW142F64f"
      },
      "source": [
        "# simple encoder\n",
        "x_train_sel_enc_1, x_test_sel_enc_1 = mixed_data(extree_train_features_norm, x_train_norm_enc_1, extree_test_features_norm, x_test_norm_enc_1)\n",
        "# denoising encoder\n",
        "x_train_sel_enc_2, x_test_sel_enc_2 = mixed_data(extree_train_features_norm, x_train_norm_enc_2, extree_test_features_norm, x_test_norm_enc_2)\n",
        "# sparse encoder\n",
        "x_train_sel_enc_3, x_test_sel_enc_3 = mixed_data(extree_train_features_norm, x_train_norm_enc_3, extree_test_features_norm, x_test_norm_enc_3)"
      ],
      "execution_count": 37,
      "outputs": []
    },
    {
      "cell_type": "markdown",
      "metadata": {
        "id": "L0pvT4MuIhmS"
      },
      "source": [
        "COMBINE ORIGINAL WITH EXTRACTED FEATURES (NORMALIZED DATA) - MODEL EVALUATION (LR, LDA, LnSVC)"
      ]
    },
    {
      "cell_type": "code",
      "metadata": {
        "id": "csivE4JDJMgE"
      },
      "source": [
        "# FULL SET OF ORIGINAL FEATURES + EXTRACTED FEATURES\n",
        "# 82 + 20 = 102 FEATURES "
      ],
      "execution_count": null,
      "outputs": []
    },
    {
      "cell_type": "code",
      "metadata": {
        "colab": {
          "base_uri": "https://localhost:8080/"
        },
        "id": "LtfDeNOGKP0t",
        "outputId": "563cc33a-337a-43ae-91c7-3271a34bb9ab"
      },
      "source": [
        "# simple encoder\n",
        "compare_algorithms_2(x_train_full_enc_1, y_train, x_test_full_enc_1, y_test)"
      ],
      "execution_count": 42,
      "outputs": [
        {
          "output_type": "stream",
          "text": [
            "Validation accuracy:\n",
            "LR: 0.994 (0.001)\n",
            "LDA: 0.986 (0.002)\n"
          ],
          "name": "stdout"
        },
        {
          "output_type": "stream",
          "text": [
            "/usr/local/lib/python3.6/dist-packages/sklearn/svm/_base.py:947: ConvergenceWarning: Liblinear failed to converge, increase the number of iterations.\n",
            "  \"the number of iterations.\", ConvergenceWarning)\n",
            "/usr/local/lib/python3.6/dist-packages/sklearn/svm/_base.py:947: ConvergenceWarning: Liblinear failed to converge, increase the number of iterations.\n",
            "  \"the number of iterations.\", ConvergenceWarning)\n",
            "/usr/local/lib/python3.6/dist-packages/sklearn/svm/_base.py:947: ConvergenceWarning: Liblinear failed to converge, increase the number of iterations.\n",
            "  \"the number of iterations.\", ConvergenceWarning)\n",
            "/usr/local/lib/python3.6/dist-packages/sklearn/svm/_base.py:947: ConvergenceWarning: Liblinear failed to converge, increase the number of iterations.\n",
            "  \"the number of iterations.\", ConvergenceWarning)\n",
            "/usr/local/lib/python3.6/dist-packages/sklearn/svm/_base.py:947: ConvergenceWarning: Liblinear failed to converge, increase the number of iterations.\n",
            "  \"the number of iterations.\", ConvergenceWarning)\n"
          ],
          "name": "stderr"
        },
        {
          "output_type": "stream",
          "text": [
            "LnSVC: 0.996 (0.001)\n",
            "Test accuracy:\n",
            "LR: 0.524\n",
            "LDA: 0.509\n",
            "LnSVC: 0.529\n"
          ],
          "name": "stdout"
        },
        {
          "output_type": "stream",
          "text": [
            "/usr/local/lib/python3.6/dist-packages/sklearn/svm/_base.py:947: ConvergenceWarning: Liblinear failed to converge, increase the number of iterations.\n",
            "  \"the number of iterations.\", ConvergenceWarning)\n"
          ],
          "name": "stderr"
        }
      ]
    },
    {
      "cell_type": "code",
      "metadata": {
        "colab": {
          "base_uri": "https://localhost:8080/"
        },
        "id": "yVsXbPxnKP5M",
        "outputId": "db1900ad-911f-4e0b-d93e-4b43465ed338"
      },
      "source": [
        "# denoising encoder\n",
        "compare_algorithms_2(x_train_full_enc_2, y_train, x_test_full_enc_2, y_test)"
      ],
      "execution_count": 43,
      "outputs": [
        {
          "output_type": "stream",
          "text": [
            "Validation accuracy:\n",
            "LR: 0.989 (0.001)\n",
            "LDA: 0.990 (0.001)\n"
          ],
          "name": "stdout"
        },
        {
          "output_type": "stream",
          "text": [
            "/usr/local/lib/python3.6/dist-packages/sklearn/svm/_base.py:947: ConvergenceWarning: Liblinear failed to converge, increase the number of iterations.\n",
            "  \"the number of iterations.\", ConvergenceWarning)\n",
            "/usr/local/lib/python3.6/dist-packages/sklearn/svm/_base.py:947: ConvergenceWarning: Liblinear failed to converge, increase the number of iterations.\n",
            "  \"the number of iterations.\", ConvergenceWarning)\n",
            "/usr/local/lib/python3.6/dist-packages/sklearn/svm/_base.py:947: ConvergenceWarning: Liblinear failed to converge, increase the number of iterations.\n",
            "  \"the number of iterations.\", ConvergenceWarning)\n",
            "/usr/local/lib/python3.6/dist-packages/sklearn/svm/_base.py:947: ConvergenceWarning: Liblinear failed to converge, increase the number of iterations.\n",
            "  \"the number of iterations.\", ConvergenceWarning)\n",
            "/usr/local/lib/python3.6/dist-packages/sklearn/svm/_base.py:947: ConvergenceWarning: Liblinear failed to converge, increase the number of iterations.\n",
            "  \"the number of iterations.\", ConvergenceWarning)\n"
          ],
          "name": "stderr"
        },
        {
          "output_type": "stream",
          "text": [
            "LnSVC: 0.987 (0.012)\n",
            "Test accuracy:\n",
            "LR: 0.964\n",
            "LDA: 0.509\n",
            "LnSVC: 0.847\n"
          ],
          "name": "stdout"
        },
        {
          "output_type": "stream",
          "text": [
            "/usr/local/lib/python3.6/dist-packages/sklearn/svm/_base.py:947: ConvergenceWarning: Liblinear failed to converge, increase the number of iterations.\n",
            "  \"the number of iterations.\", ConvergenceWarning)\n"
          ],
          "name": "stderr"
        }
      ]
    },
    {
      "cell_type": "code",
      "metadata": {
        "colab": {
          "base_uri": "https://localhost:8080/"
        },
        "id": "VQlfVQM4KP-f",
        "outputId": "c72b3d44-08b4-4f0e-d579-7fd7f5d25afb"
      },
      "source": [
        "# sparse encoder\n",
        "compare_algorithms_2(x_train_full_enc_3, y_train, x_test_full_enc_3, y_test)"
      ],
      "execution_count": 44,
      "outputs": [
        {
          "output_type": "stream",
          "text": [
            "Validation accuracy:\n",
            "LR: 0.992 (0.001)\n",
            "LDA: 0.986 (0.002)\n"
          ],
          "name": "stdout"
        },
        {
          "output_type": "stream",
          "text": [
            "/usr/local/lib/python3.6/dist-packages/sklearn/svm/_base.py:947: ConvergenceWarning: Liblinear failed to converge, increase the number of iterations.\n",
            "  \"the number of iterations.\", ConvergenceWarning)\n"
          ],
          "name": "stderr"
        },
        {
          "output_type": "stream",
          "text": [
            "LnSVC: 0.993 (0.001)\n",
            "Test accuracy:\n",
            "LR: 0.902\n",
            "LDA: 0.936\n",
            "LnSVC: 0.723\n"
          ],
          "name": "stdout"
        },
        {
          "output_type": "stream",
          "text": [
            "/usr/local/lib/python3.6/dist-packages/sklearn/svm/_base.py:947: ConvergenceWarning: Liblinear failed to converge, increase the number of iterations.\n",
            "  \"the number of iterations.\", ConvergenceWarning)\n"
          ],
          "name": "stderr"
        }
      ]
    },
    {
      "cell_type": "code",
      "metadata": {
        "id": "HTPzlXEkKDXu"
      },
      "source": [
        "# SELECTED SET OF ORIGINAL FEATURES (EXTRA TREES CLASSIFIER) + EXTRACTED FEATURES\n",
        "# 10 + 20 = 30 FEATURES"
      ],
      "execution_count": null,
      "outputs": []
    },
    {
      "cell_type": "code",
      "metadata": {
        "colab": {
          "base_uri": "https://localhost:8080/"
        },
        "id": "CcMEcyDrKRC9",
        "outputId": "70df78f6-4f06-4568-a719-3f0688137051"
      },
      "source": [
        "# simple encoder\n",
        "compare_algorithms_2(x_train_sel_enc_1, y_train, x_test_sel_enc_1, y_test)"
      ],
      "execution_count": 45,
      "outputs": [
        {
          "output_type": "stream",
          "text": [
            "Validation accuracy:\n",
            "LR: 0.994 (0.001)\n",
            "LDA: 0.982 (0.002)\n"
          ],
          "name": "stdout"
        },
        {
          "output_type": "stream",
          "text": [
            "/usr/local/lib/python3.6/dist-packages/sklearn/svm/_base.py:947: ConvergenceWarning: Liblinear failed to converge, increase the number of iterations.\n",
            "  \"the number of iterations.\", ConvergenceWarning)\n",
            "/usr/local/lib/python3.6/dist-packages/sklearn/svm/_base.py:947: ConvergenceWarning: Liblinear failed to converge, increase the number of iterations.\n",
            "  \"the number of iterations.\", ConvergenceWarning)\n",
            "/usr/local/lib/python3.6/dist-packages/sklearn/svm/_base.py:947: ConvergenceWarning: Liblinear failed to converge, increase the number of iterations.\n",
            "  \"the number of iterations.\", ConvergenceWarning)\n",
            "/usr/local/lib/python3.6/dist-packages/sklearn/svm/_base.py:947: ConvergenceWarning: Liblinear failed to converge, increase the number of iterations.\n",
            "  \"the number of iterations.\", ConvergenceWarning)\n",
            "/usr/local/lib/python3.6/dist-packages/sklearn/svm/_base.py:947: ConvergenceWarning: Liblinear failed to converge, increase the number of iterations.\n",
            "  \"the number of iterations.\", ConvergenceWarning)\n"
          ],
          "name": "stderr"
        },
        {
          "output_type": "stream",
          "text": [
            "LnSVC: 0.994 (0.001)\n",
            "Test accuracy:\n",
            "LR: 0.524\n",
            "LDA: 0.923\n",
            "LnSVC: 0.525\n"
          ],
          "name": "stdout"
        },
        {
          "output_type": "stream",
          "text": [
            "/usr/local/lib/python3.6/dist-packages/sklearn/svm/_base.py:947: ConvergenceWarning: Liblinear failed to converge, increase the number of iterations.\n",
            "  \"the number of iterations.\", ConvergenceWarning)\n"
          ],
          "name": "stderr"
        }
      ]
    },
    {
      "cell_type": "code",
      "metadata": {
        "colab": {
          "base_uri": "https://localhost:8080/"
        },
        "id": "JZQ0gEfOKRGV",
        "outputId": "0c9f1da1-c3b3-4dac-aae7-5593ee8d3949"
      },
      "source": [
        "# denoising encoder\n",
        "compare_algorithms_2(x_train_sel_enc_2, y_train, x_test_sel_enc_2, y_test)"
      ],
      "execution_count": 46,
      "outputs": [
        {
          "output_type": "stream",
          "text": [
            "Validation accuracy:\n",
            "LR: 0.982 (0.001)\n",
            "LDA: 0.982 (0.002)\n"
          ],
          "name": "stdout"
        },
        {
          "output_type": "stream",
          "text": [
            "/usr/local/lib/python3.6/dist-packages/sklearn/svm/_base.py:947: ConvergenceWarning: Liblinear failed to converge, increase the number of iterations.\n",
            "  \"the number of iterations.\", ConvergenceWarning)\n",
            "/usr/local/lib/python3.6/dist-packages/sklearn/svm/_base.py:947: ConvergenceWarning: Liblinear failed to converge, increase the number of iterations.\n",
            "  \"the number of iterations.\", ConvergenceWarning)\n",
            "/usr/local/lib/python3.6/dist-packages/sklearn/svm/_base.py:947: ConvergenceWarning: Liblinear failed to converge, increase the number of iterations.\n",
            "  \"the number of iterations.\", ConvergenceWarning)\n",
            "/usr/local/lib/python3.6/dist-packages/sklearn/svm/_base.py:947: ConvergenceWarning: Liblinear failed to converge, increase the number of iterations.\n",
            "  \"the number of iterations.\", ConvergenceWarning)\n",
            "/usr/local/lib/python3.6/dist-packages/sklearn/svm/_base.py:947: ConvergenceWarning: Liblinear failed to converge, increase the number of iterations.\n",
            "  \"the number of iterations.\", ConvergenceWarning)\n"
          ],
          "name": "stderr"
        },
        {
          "output_type": "stream",
          "text": [
            "LnSVC: 0.988 (0.001)\n",
            "Test accuracy:\n",
            "LR: 0.908\n",
            "LDA: 0.500\n",
            "LnSVC: 0.574\n"
          ],
          "name": "stdout"
        },
        {
          "output_type": "stream",
          "text": [
            "/usr/local/lib/python3.6/dist-packages/sklearn/svm/_base.py:947: ConvergenceWarning: Liblinear failed to converge, increase the number of iterations.\n",
            "  \"the number of iterations.\", ConvergenceWarning)\n"
          ],
          "name": "stderr"
        }
      ]
    },
    {
      "cell_type": "code",
      "metadata": {
        "colab": {
          "base_uri": "https://localhost:8080/"
        },
        "id": "nQRuS9cyKRMR",
        "outputId": "9bbc46dd-93c8-40e8-c0fa-4c8a84c08c55"
      },
      "source": [
        "# sparse encoder\n",
        "compare_algorithms_2(x_train_sel_enc_3, y_train, x_test_sel_enc_3, y_test)"
      ],
      "execution_count": 47,
      "outputs": [
        {
          "output_type": "stream",
          "text": [
            "Validation accuracy:\n",
            "LR: 0.991 (0.001)\n",
            "LDA: 0.982 (0.002)\n"
          ],
          "name": "stdout"
        },
        {
          "output_type": "stream",
          "text": [
            "/usr/local/lib/python3.6/dist-packages/sklearn/svm/_base.py:947: ConvergenceWarning: Liblinear failed to converge, increase the number of iterations.\n",
            "  \"the number of iterations.\", ConvergenceWarning)\n",
            "/usr/local/lib/python3.6/dist-packages/sklearn/svm/_base.py:947: ConvergenceWarning: Liblinear failed to converge, increase the number of iterations.\n",
            "  \"the number of iterations.\", ConvergenceWarning)\n",
            "/usr/local/lib/python3.6/dist-packages/sklearn/svm/_base.py:947: ConvergenceWarning: Liblinear failed to converge, increase the number of iterations.\n",
            "  \"the number of iterations.\", ConvergenceWarning)\n"
          ],
          "name": "stderr"
        },
        {
          "output_type": "stream",
          "text": [
            "LnSVC: 0.993 (0.001)\n",
            "Test accuracy:\n",
            "LR: 0.848\n",
            "LDA: 0.867\n",
            "LnSVC: 0.526\n"
          ],
          "name": "stdout"
        }
      ]
    },
    {
      "cell_type": "markdown",
      "metadata": {
        "id": "Kp6TYNzmJQOg"
      },
      "source": [
        "FEATURE SELECTION (EXTRA TREES CLASSIFIER) ON COMBINATION OF ORIGINAL WITH EXTRACTED FEATURES (NORMALIZED DATA)\n"
      ]
    },
    {
      "cell_type": "code",
      "metadata": {
        "id": "LZwO1_GFg_6_"
      },
      "source": [
        "# SELECTED 10 FEATURES FROM THE FULL SET OF ORIGINAL FEATURES + EXTRACTED FEATURES"
      ],
      "execution_count": null,
      "outputs": []
    },
    {
      "cell_type": "code",
      "metadata": {
        "colab": {
          "base_uri": "https://localhost:8080/"
        },
        "id": "XUBkuV6vgQSw",
        "outputId": "989b8ccb-43ac-4ad7-fcb4-7b9107c0ec34"
      },
      "source": [
        "# simple encoder\n",
        "sel_x_train_full_enc_1, sel_x_test_full_enc_1 = extra_trees_classifier(x_train_full_enc_1, y_train, x_test_full_enc_1)\n",
        "# denoising encoder\n",
        "sel_x_train_full_enc_2, sel_x_test_full_enc_2 = extra_trees_classifier(x_train_full_enc_2, y_train, x_test_full_enc_2)\n",
        "#sparse encoder\n",
        "sel_x_train_full_enc_3, sel_x_test_full_enc_3 = extra_trees_classifier(x_train_full_enc_3, y_train, x_test_full_enc_3)"
      ],
      "execution_count": 48,
      "outputs": [
        {
          "output_type": "stream",
          "text": [
            "    Specs     Score\n",
            "97     97  0.088245\n",
            "15     15  0.080704\n",
            "22     22  0.080538\n",
            "26     26  0.075869\n",
            "13     13  0.040988\n",
            "91     91  0.039032\n",
            "36     36  0.035981\n",
            "23     23  0.035032\n",
            "16     16  0.031639\n",
            "21     21  0.031536\n",
            "     Specs     Score\n",
            "93      93  0.089084\n",
            "100    100  0.084938\n",
            "26      26  0.061713\n",
            "23      23  0.059794\n",
            "16      16  0.046773\n",
            "22      22  0.041572\n",
            "15      15  0.038765\n",
            "13      13  0.031708\n",
            "83      83  0.030450\n",
            "28      28  0.030437\n",
            "     Specs     Score\n",
            "95      95  0.091458\n",
            "22      22  0.068341\n",
            "26      26  0.053628\n",
            "99      99  0.053448\n",
            "28      28  0.052526\n",
            "13      13  0.041536\n",
            "101    101  0.037126\n",
            "83      83  0.036190\n",
            "16      16  0.034397\n",
            "23      23  0.034137\n"
          ],
          "name": "stdout"
        }
      ]
    },
    {
      "cell_type": "code",
      "metadata": {
        "id": "gNDiJ0rAhJB9"
      },
      "source": [
        "# SELECTED 10 FEATURES FROM THE SELECTED SET OF ORIGINAL FEATURES + EXTRACTED FEATURES"
      ],
      "execution_count": null,
      "outputs": []
    },
    {
      "cell_type": "code",
      "metadata": {
        "colab": {
          "base_uri": "https://localhost:8080/"
        },
        "id": "j7LMXPvvhUFs",
        "outputId": "6207c7c7-ddfb-4330-b6f6-f9fee512f003"
      },
      "source": [
        "# simple encoder\n",
        "sel_x_train_sel_enc_1, sel_x_test_sel_enc_1 = extra_trees_classifier(x_train_sel_enc_1, y_train, x_test_sel_enc_1)\n",
        "# denoising encoder\n",
        "sel_x_train_sel_enc_2, sel_x_test_sel_enc_2 = extra_trees_classifier(x_train_sel_enc_2, y_train, x_test_sel_enc_2)\n",
        "#sparse encoder\n",
        "sel_x_train_sel_enc_3, sel_x_test_sel_enc_3 = extra_trees_classifier(x_train_sel_enc_3, y_train, x_test_sel_enc_3)"
      ],
      "execution_count": 49,
      "outputs": [
        {
          "output_type": "stream",
          "text": [
            "    Specs     Score\n",
            "4       4  0.123063\n",
            "3       3  0.122729\n",
            "25     25  0.111877\n",
            "0       0  0.067649\n",
            "1       1  0.061625\n",
            "2       2  0.056047\n",
            "23     23  0.049463\n",
            "5       5  0.048328\n",
            "8       8  0.040654\n",
            "10     10  0.040294\n",
            "    Specs     Score\n",
            "28     28  0.121598\n",
            "4       4  0.099716\n",
            "21     21  0.092191\n",
            "1       1  0.079977\n",
            "3       3  0.057535\n",
            "0       0  0.055431\n",
            "19     19  0.054522\n",
            "6       6  0.046416\n",
            "5       5  0.043341\n",
            "11     11  0.043006\n",
            "    Specs     Score\n",
            "23     23  0.116627\n",
            "19     19  0.079915\n",
            "3       3  0.070149\n",
            "27     27  0.067198\n",
            "4       4  0.066553\n",
            "6       6  0.057995\n",
            "0       0  0.054221\n",
            "5       5  0.047613\n",
            "29     29  0.044280\n",
            "11     11  0.038585\n"
          ],
          "name": "stdout"
        }
      ]
    },
    {
      "cell_type": "markdown",
      "metadata": {
        "id": "l5_JmB9FkQNK"
      },
      "source": [
        "FEATURE SELECTION (EXTRA TREES CLASSIFIER) ON COMBINATION OF ORIGINAL WITH EXTRACTED FEATURES (NORMALIZED DATA) - MODEL EVALUATION (LR, LDA, LnSVC)"
      ]
    },
    {
      "cell_type": "code",
      "metadata": {
        "id": "KVdJklflhUCQ"
      },
      "source": [
        "# SELECTED 10 FEATURES FROM THE FULL SET OF ORIGINAL FEATURES + EXTRACTED FEATURES"
      ],
      "execution_count": null,
      "outputs": []
    },
    {
      "cell_type": "code",
      "metadata": {
        "colab": {
          "base_uri": "https://localhost:8080/"
        },
        "id": "zNqDurPelpGy",
        "outputId": "7e7955a5-0a8a-4296-ba95-a8447da9748c"
      },
      "source": [
        "# simple encoder\n",
        "compare_algorithms_2(sel_x_train_full_enc_1, y_train, sel_x_test_full_enc_1, y_test)"
      ],
      "execution_count": 50,
      "outputs": [
        {
          "output_type": "stream",
          "text": [
            "Validation accuracy:\n",
            "LR: 0.973 (0.002)\n",
            "LDA: 0.974 (0.002)\n",
            "LnSVC: 0.977 (0.001)\n",
            "Test accuracy:\n",
            "LR: 0.602\n",
            "LDA: 0.940\n",
            "LnSVC: 0.517\n"
          ],
          "name": "stdout"
        }
      ]
    },
    {
      "cell_type": "code",
      "metadata": {
        "colab": {
          "base_uri": "https://localhost:8080/"
        },
        "id": "xcVdhKOYlpKJ",
        "outputId": "e7961c53-6d95-42f3-ee12-46f3d0e2eb41"
      },
      "source": [
        "# denoising encoder\n",
        "compare_algorithms_2(sel_x_train_full_enc_2, y_train, sel_x_test_full_enc_2, y_test)"
      ],
      "execution_count": 51,
      "outputs": [
        {
          "output_type": "stream",
          "text": [
            "Validation accuracy:\n",
            "LR: 0.957 (0.002)\n",
            "LDA: 0.935 (0.002)\n"
          ],
          "name": "stdout"
        },
        {
          "output_type": "stream",
          "text": [
            "/usr/local/lib/python3.6/dist-packages/sklearn/svm/_base.py:947: ConvergenceWarning: Liblinear failed to converge, increase the number of iterations.\n",
            "  \"the number of iterations.\", ConvergenceWarning)\n",
            "/usr/local/lib/python3.6/dist-packages/sklearn/svm/_base.py:947: ConvergenceWarning: Liblinear failed to converge, increase the number of iterations.\n",
            "  \"the number of iterations.\", ConvergenceWarning)\n",
            "/usr/local/lib/python3.6/dist-packages/sklearn/svm/_base.py:947: ConvergenceWarning: Liblinear failed to converge, increase the number of iterations.\n",
            "  \"the number of iterations.\", ConvergenceWarning)\n",
            "/usr/local/lib/python3.6/dist-packages/sklearn/svm/_base.py:947: ConvergenceWarning: Liblinear failed to converge, increase the number of iterations.\n",
            "  \"the number of iterations.\", ConvergenceWarning)\n",
            "/usr/local/lib/python3.6/dist-packages/sklearn/svm/_base.py:947: ConvergenceWarning: Liblinear failed to converge, increase the number of iterations.\n",
            "  \"the number of iterations.\", ConvergenceWarning)\n"
          ],
          "name": "stderr"
        },
        {
          "output_type": "stream",
          "text": [
            "LnSVC: 0.967 (0.002)\n",
            "Test accuracy:\n",
            "LR: 0.859\n",
            "LDA: 0.847\n",
            "LnSVC: 0.939\n"
          ],
          "name": "stdout"
        },
        {
          "output_type": "stream",
          "text": [
            "/usr/local/lib/python3.6/dist-packages/sklearn/svm/_base.py:947: ConvergenceWarning: Liblinear failed to converge, increase the number of iterations.\n",
            "  \"the number of iterations.\", ConvergenceWarning)\n"
          ],
          "name": "stderr"
        }
      ]
    },
    {
      "cell_type": "code",
      "metadata": {
        "colab": {
          "base_uri": "https://localhost:8080/"
        },
        "id": "rIZsCZpmlpNp",
        "outputId": "050f299a-c496-4218-dff9-a5291c6950e7"
      },
      "source": [
        "# sparse encoder\n",
        "compare_algorithms_2(sel_x_train_full_enc_3, y_train, sel_x_test_full_enc_3, y_test)"
      ],
      "execution_count": 52,
      "outputs": [
        {
          "output_type": "stream",
          "text": [
            "Validation accuracy:\n",
            "LR: 0.961 (0.002)\n",
            "LDA: 0.971 (0.002)\n",
            "LnSVC: 0.978 (0.001)\n",
            "Test accuracy:\n",
            "LR: 0.916\n",
            "LDA: 0.898\n",
            "LnSVC: 0.872\n"
          ],
          "name": "stdout"
        }
      ]
    },
    {
      "cell_type": "code",
      "metadata": {
        "id": "rIq611UVllEh"
      },
      "source": [
        "# SELECTED 10 FEATURES FROM THE SELECTED SET OF ORIGINAL FEATURES + EXTRACTED FEATURES"
      ],
      "execution_count": null,
      "outputs": []
    },
    {
      "cell_type": "code",
      "metadata": {
        "colab": {
          "base_uri": "https://localhost:8080/"
        },
        "id": "f_x4CXTYlpxI",
        "outputId": "40231ad0-b301-43f0-ed85-153695545144"
      },
      "source": [
        "# simple encoder\n",
        "compare_algorithms_2(sel_x_train_sel_enc_1, y_train, sel_x_test_sel_enc_1, y_test)"
      ],
      "execution_count": 54,
      "outputs": [
        {
          "output_type": "stream",
          "text": [
            "Validation accuracy:\n",
            "LR: 0.984 (0.001)\n",
            "LDA: 0.969 (0.001)\n"
          ],
          "name": "stdout"
        },
        {
          "output_type": "stream",
          "text": [
            "/usr/local/lib/python3.6/dist-packages/sklearn/svm/_base.py:947: ConvergenceWarning: Liblinear failed to converge, increase the number of iterations.\n",
            "  \"the number of iterations.\", ConvergenceWarning)\n",
            "/usr/local/lib/python3.6/dist-packages/sklearn/svm/_base.py:947: ConvergenceWarning: Liblinear failed to converge, increase the number of iterations.\n",
            "  \"the number of iterations.\", ConvergenceWarning)\n",
            "/usr/local/lib/python3.6/dist-packages/sklearn/svm/_base.py:947: ConvergenceWarning: Liblinear failed to converge, increase the number of iterations.\n",
            "  \"the number of iterations.\", ConvergenceWarning)\n",
            "/usr/local/lib/python3.6/dist-packages/sklearn/svm/_base.py:947: ConvergenceWarning: Liblinear failed to converge, increase the number of iterations.\n",
            "  \"the number of iterations.\", ConvergenceWarning)\n"
          ],
          "name": "stderr"
        },
        {
          "output_type": "stream",
          "text": [
            "LnSVC: 0.986 (0.001)\n",
            "Test accuracy:\n",
            "LR: 0.512\n",
            "LDA: 0.925\n",
            "LnSVC: 0.519\n"
          ],
          "name": "stdout"
        },
        {
          "output_type": "stream",
          "text": [
            "/usr/local/lib/python3.6/dist-packages/sklearn/svm/_base.py:947: ConvergenceWarning: Liblinear failed to converge, increase the number of iterations.\n",
            "  \"the number of iterations.\", ConvergenceWarning)\n"
          ],
          "name": "stderr"
        }
      ]
    },
    {
      "cell_type": "code",
      "metadata": {
        "colab": {
          "base_uri": "https://localhost:8080/"
        },
        "id": "sj_5Hqltlpzp",
        "outputId": "064ba36d-cd0b-436e-dd5e-5ad11ecf593f"
      },
      "source": [
        "# denoising encoder\n",
        "compare_algorithms_2(sel_x_train_sel_enc_2, y_train, sel_x_test_sel_enc_2, y_test)"
      ],
      "execution_count": 55,
      "outputs": [
        {
          "output_type": "stream",
          "text": [
            "Validation accuracy:\n",
            "LR: 0.957 (0.002)\n",
            "LDA: 0.934 (0.002)\n"
          ],
          "name": "stdout"
        },
        {
          "output_type": "stream",
          "text": [
            "/usr/local/lib/python3.6/dist-packages/sklearn/svm/_base.py:947: ConvergenceWarning: Liblinear failed to converge, increase the number of iterations.\n",
            "  \"the number of iterations.\", ConvergenceWarning)\n",
            "/usr/local/lib/python3.6/dist-packages/sklearn/svm/_base.py:947: ConvergenceWarning: Liblinear failed to converge, increase the number of iterations.\n",
            "  \"the number of iterations.\", ConvergenceWarning)\n",
            "/usr/local/lib/python3.6/dist-packages/sklearn/svm/_base.py:947: ConvergenceWarning: Liblinear failed to converge, increase the number of iterations.\n",
            "  \"the number of iterations.\", ConvergenceWarning)\n",
            "/usr/local/lib/python3.6/dist-packages/sklearn/svm/_base.py:947: ConvergenceWarning: Liblinear failed to converge, increase the number of iterations.\n",
            "  \"the number of iterations.\", ConvergenceWarning)\n",
            "/usr/local/lib/python3.6/dist-packages/sklearn/svm/_base.py:947: ConvergenceWarning: Liblinear failed to converge, increase the number of iterations.\n",
            "  \"the number of iterations.\", ConvergenceWarning)\n"
          ],
          "name": "stderr"
        },
        {
          "output_type": "stream",
          "text": [
            "LnSVC: 0.965 (0.002)\n",
            "Test accuracy:\n",
            "LR: 0.859\n",
            "LDA: 0.814\n",
            "LnSVC: 0.887\n"
          ],
          "name": "stdout"
        },
        {
          "output_type": "stream",
          "text": [
            "/usr/local/lib/python3.6/dist-packages/sklearn/svm/_base.py:947: ConvergenceWarning: Liblinear failed to converge, increase the number of iterations.\n",
            "  \"the number of iterations.\", ConvergenceWarning)\n"
          ],
          "name": "stderr"
        }
      ]
    },
    {
      "cell_type": "code",
      "metadata": {
        "colab": {
          "base_uri": "https://localhost:8080/"
        },
        "id": "R-iFLCbrlp2i",
        "outputId": "fd52101f-e886-42a7-d0d7-cb5bdb916fe8"
      },
      "source": [
        "# sparse encoder\n",
        "compare_algorithms_2(sel_x_train_sel_enc_3, y_train, sel_x_test_sel_enc_2, y_test)"
      ],
      "execution_count": 56,
      "outputs": [
        {
          "output_type": "stream",
          "text": [
            "Validation accuracy:\n",
            "LR: 0.979 (0.002)\n",
            "LDA: 0.971 (0.002)\n",
            "LnSVC: 0.982 (0.001)\n",
            "Test accuracy:\n",
            "LR: 0.668\n",
            "LDA: 0.500\n",
            "LnSVC: 0.500\n"
          ],
          "name": "stdout"
        }
      ]
    }
  ]
}