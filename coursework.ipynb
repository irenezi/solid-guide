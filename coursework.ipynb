{
  "nbformat": 4,
  "nbformat_minor": 0,
  "metadata": {
    "colab": {
      "name": "coursework.ipynb",
      "provenance": [],
      "collapsed_sections": [],
      "toc_visible": true
    },
    "kernelspec": {
      "display_name": "Python 3",
      "name": "python3"
    }
  },
  "cells": [
    {
      "cell_type": "code",
      "metadata": {
        "id": "l3_qVcGUuKhO"
      },
      "source": [
        "from pandas import read_csv, set_option\r\n",
        "from numpy import set_printoptions\r\n",
        "from matplotlib import pyplot\r\n",
        "from pandas.plotting import scatter_matrix\r\n",
        "from sklearn.feature_selection import VarianceThreshold, SelectKBest, chi2\r\n",
        "from sklearn.model_selection import KFold, cross_val_score\r\n",
        "from sklearn.linear_model import LogisticRegression\r\n",
        "from sklearn.tree import DecisionTreeClassifier\r\n",
        "from sklearn.neighbors import KNeighborsClassifier\r\n",
        "from sklearn.discriminant_analysis import LinearDiscriminantAnalysis\r\n",
        "from sklearn.naive_bayes import GaussianNB\r\n",
        "from sklearn.svm import SVC, LinearSVC"
      ],
      "execution_count": 1,
      "outputs": []
    },
    {
      "cell_type": "code",
      "metadata": {
        "id": "1T8gpZlHcfYf"
      },
      "source": [
        "def filter_constant_columns(df_data_set_x, variance=0):\r\n",
        "  # This function filters out all the constant columns (variance = 0)\r\n",
        "  \r\n",
        "  constant_filter = VarianceThreshold(threshold=variance)\r\n",
        "  constant_filter.fit(df_data_set_x)\r\n",
        "  non_constant = constant_filter.get_support()\r\n",
        "\r\n",
        "  columns_to_keep = (df_data_set_x.columns[constant_filter.get_support()])\r\n",
        "\r\n",
        "  return df_data_set_x[columns_to_keep]"
      ],
      "execution_count": 8,
      "outputs": []
    },
    {
      "cell_type": "code",
      "metadata": {
        "id": "34mL89vG5mDf"
      },
      "source": [
        "def normalize(x_train_input, x_test_input):\n",
        "  #Normalize train and test data\n",
        "  #normalize the training set and save the normalization parameters\n",
        "  #normalize the test set using the training normalization parameters\n",
        "\n",
        "  from sklearn.preprocessing import Normalizer\n",
        "  scaler=Normalizer().fit(x_train_input)\n",
        "  x_train_norm=scaler.transform(x_train_input)\n",
        "  x_test_norm=scaler.transform(x_test_input)\n",
        "  \n",
        "  return x_train_norm, x_test_norm"
      ],
      "execution_count": 38,
      "outputs": []
    },
    {
      "cell_type": "code",
      "metadata": {
        "id": "YU8ONbjs05A1"
      },
      "source": [
        "def rescale(x_train_input, x_test_input):\n",
        "  from sklearn.preprocessing import MinMaxScaler\n",
        "\n",
        "  scaler=MinMaxScaler(feature_range=(0,1))\n",
        "  x_train_resc=scaler.fit_transform(x_train_input)\n",
        "  x_test_resc=scaler.transform(x_test_input)\n",
        "  return x_train_resc, x_test_resc"
      ],
      "execution_count": 39,
      "outputs": []
    },
    {
      "cell_type": "code",
      "metadata": {
        "id": "HqtXs2ub9sgf"
      },
      "source": [
        "def compare_algorithms(x_input, y_output):\n",
        "\n",
        "  models=[]\n",
        "  models.append(('LR', LogisticRegression(solver='liblinear'))) \n",
        "  models.append(('LDA', LinearDiscriminantAnalysis()))\n",
        "  #models.append(('PCA', PCA(n_components=4)))\n",
        "  models.append(('KNN', KNeighborsClassifier()))\n",
        "  models.append(('CART', DecisionTreeClassifier()))\n",
        "  models.append(('NB', GaussianNB()))\n",
        "  models.append(('SVC', SVC()))\n",
        "  models.append(('LnSVC', LinearSVC()))\n",
        "  results=[]\n",
        "  names=[]\n",
        "\n",
        "  for name, model in models:\n",
        "    kfold=KFold(n_splits=5, random_state=3, shuffle=True)\n",
        "    cv_results=cross_val_score(model,x_input,y_output,cv=kfold,scoring=\"accuracy\")\n",
        "    results.append(cv_results)\n",
        "    names.append(name)\n",
        "    print(\"%s: %.3f (%.3f)\" % (name,cv_results.mean(),cv_results.std()))\n",
        "  print(results)\n",
        "\n",
        "  #boxplot comparison\n",
        "  fig=pyplot.figure()\n",
        "  ax=fig.add_subplot(111)\n",
        "  ax.set_xticklabels(names)\n",
        "  ax.set_ylabel(\"Accuracy\")\n",
        "  ax.set_xlabel(\"Classification Models\")\n",
        "  pyplot.boxplot(results)\n",
        "  fig.suptitle(\"Algorithm Comparison\")\n",
        "  pyplot.show()"
      ],
      "execution_count": null,
      "outputs": []
    },
    {
      "cell_type": "code",
      "metadata": {
        "id": "z9vgZFr8euFc"
      },
      "source": [
        "def kbest(x_train_input, y_train_output):\n",
        "  #feature selection using K-best\n",
        "  \n",
        "\n",
        "  #apply SelectKBest class to extract top 10 best features\n",
        "  bestfeatures = SelectKBest(score_func=chi2, k=10)\n",
        "  fit = bestfeatures.fit(x_train_input, y_train_output)\n",
        "  dfscores = pd.DataFrame(fit.scores_)\n",
        "  df = pd.DataFrame(x_train_input)\n",
        "  dfcolumns = pd.DataFrame(df.columns)\n",
        "  #concat two dataframes for better visualization \n",
        "  featureScores = pd.concat([dfcolumns,dfscores],axis=1)\n",
        "  featureScores.columns = ['Specs','Score']  #naming the dataframe columns\n",
        "  print(featureScores.nlargest(10,'Score'))  #print 10 best features\n",
        "  features=fit.transform(x_train_input)\n",
        "  return features"
      ],
      "execution_count": null,
      "outputs": []
    },
    {
      "cell_type": "code",
      "metadata": {
        "id": "u-2LbYOhAKvr"
      },
      "source": [
        "kbest_features=kbest(x_train, y_train)\n",
        "print(kbest_features)"
      ],
      "execution_count": null,
      "outputs": []
    },
    {
      "cell_type": "code",
      "metadata": {
        "id": "aKU8JNOZhRCE"
      },
      "source": [
        "#feature union(kbest-RFE logistic reg-extra tree)\n",
        "from sklearn.pipeline import Pipeline, FeatureUnion\n",
        "from sklearn.decomposition import PCA\n",
        "from sklearn.feature_selection import SelectKBest\n",
        "from sklearn.feature_selection import RFE\n",
        "from sklearn.ensemble import ExtraTreesClassifier\n",
        "from sklearn.linear_model import LogisticRegression\n",
        "from sklearn.model_selection import KFold, cross_val_score\n",
        "\n",
        "def features_union(x_data, y_data):\n",
        "  #create feature union\n",
        "  \n",
        "  # ('EXTRE', ExtraTreesClassifier())\n",
        "  \n",
        "  features=[\n",
        "            ('KBEST', SelectKBest(k=10)),\n",
        "            ('RFE', RFE(LogisticRegression(solver='liblinear'),10 ))\n",
        "            \n",
        "  ]\n",
        "\n",
        "  # features = []\n",
        "  # features.append(('pca', PCA(n_components=3)))\n",
        "  # features.append(('select_best', SelectKBest(k=6)))\n",
        "\n",
        "  union = FeatureUnion(features)\n",
        "  union.fit(x_data, y_data)\n",
        "  model = union.transform(x_data)\n",
        "  \n",
        "  return model\n"
      ],
      "execution_count": null,
      "outputs": []
    },
    {
      "cell_type": "code",
      "metadata": {
        "colab": {
          "base_uri": "https://localhost:8080/"
        },
        "id": "ZXcemPuhJKs3",
        "outputId": "5a61413b-9b5e-4598-cf63-679210cf4057"
      },
      "source": [
        "f_union = features_union(x_train, y_train)\r\n",
        "print(f_union.shape)\r\n"
      ],
      "execution_count": null,
      "outputs": [
        {
          "output_type": "stream",
          "text": [
            "(97044, 20)\n"
          ],
          "name": "stdout"
        }
      ]
    },
    {
      "cell_type": "code",
      "metadata": {
        "id": "59khphFbulBS"
      },
      "source": [
        "compare_algorithms(kbest_features, y_train)"
      ],
      "execution_count": null,
      "outputs": []
    },
    {
      "cell_type": "code",
      "metadata": {
        "id": "kmSM6nUmAQeE"
      },
      "source": [
        "kbest_features_norm=kbest(x_train_norm, y_train)\n",
        "print(kbest_features_norm)"
      ],
      "execution_count": null,
      "outputs": []
    },
    {
      "cell_type": "code",
      "metadata": {
        "id": "NMOatE15wRcT"
      },
      "source": [
        "compare_algorithms(kbest_features_norm, y_train)"
      ],
      "execution_count": null,
      "outputs": []
    },
    {
      "cell_type": "code",
      "metadata": {
        "id": "beyD-swH7qqs"
      },
      "source": [
        "kbest_features_resc=kbest(x_train_resc, y_train)\n",
        "print(kbest_features_resc)"
      ],
      "execution_count": null,
      "outputs": []
    },
    {
      "cell_type": "code",
      "metadata": {
        "id": "YDdK1mPUwj9u"
      },
      "source": [
        "compare_algorithms(kbest_features_resc, y_train)"
      ],
      "execution_count": null,
      "outputs": []
    },
    {
      "cell_type": "code",
      "metadata": {
        "id": "0M9oa_TtnPJo"
      },
      "source": [
        "def rfe_elimination(model, x_train_input, y_train_output):\n",
        "  #apply Recursive Feature Elimination(RFE) for feature selection\n",
        "\n",
        "  from sklearn.feature_selection import RFE\n",
        "  import pandas as pd\n",
        "\n",
        "  rfe=RFE(model,10)\n",
        "  fit=rfe.fit(x_train_input, y_train_output)\n",
        "  print(\"Num Features: %d\" % fit.n_features_)\n",
        "  print(\"Selected Features: %s\" % fit.support_)\n",
        "  print(\"Feature Ranking: %s\" % fit.ranking_)\n",
        "\n",
        "  dfscores = pd.DataFrame(fit.ranking_)\n",
        "  df = pd.DataFrame(x_train_input)\n",
        "  dfcolumns = pd.DataFrame(df.columns)\n",
        "  #concat two dataframes for better visualization \n",
        "  featureScores = pd.concat([dfcolumns,dfscores],axis=1)\n",
        "  featureScores.columns = ['Specs','Score']  #naming the dataframe columns\n",
        "  print(featureScores.nsmallest(10,'Score')) \n",
        "\n",
        "  features=fit.transform(x_train_input)\n",
        "  return features\n"
      ],
      "execution_count": null,
      "outputs": []
    },
    {
      "cell_type": "code",
      "metadata": {
        "id": "lH6wTI6_B_Ol"
      },
      "source": [
        "from sklearn.linear_model import LogisticRegression\n",
        "rfe_features=rfe_elimination(LogisticRegression(solver='liblinear'), x_train, y_train)\n",
        "print(rfe_features)"
      ],
      "execution_count": null,
      "outputs": []
    },
    {
      "cell_type": "code",
      "metadata": {
        "id": "Eu_PR2qX1iD6"
      },
      "source": [
        "compare_algorithms(rfe_features, y_train)"
      ],
      "execution_count": null,
      "outputs": []
    },
    {
      "cell_type": "code",
      "metadata": {
        "id": "a-CIE9rMB3FN"
      },
      "source": [
        "rfe_features_norm=rfe_elimination(LogisticRegression(solver='liblinear'), x_train_norm, y_train)\n",
        "print(rfe_features_norm)"
      ],
      "execution_count": null,
      "outputs": []
    },
    {
      "cell_type": "code",
      "metadata": {
        "id": "Od7DvS0U12HW"
      },
      "source": [
        "compare_algorithms(rfe_features_norm, y_train)"
      ],
      "execution_count": null,
      "outputs": []
    },
    {
      "cell_type": "code",
      "metadata": {
        "id": "X6Ca5qG18NZ0"
      },
      "source": [
        "rfe_features_resc=rfe_elimination(LogisticRegression(solver='liblinear'), x_train_resc, y_train)\n",
        "print(rfe_features_resc)"
      ],
      "execution_count": null,
      "outputs": []
    },
    {
      "cell_type": "code",
      "metadata": {
        "id": "EEZ6j4DJ1_2c"
      },
      "source": [
        "compare_algorithms(rfe_features_resc, y_train)"
      ],
      "execution_count": null,
      "outputs": []
    },
    {
      "cell_type": "code",
      "metadata": {
        "id": "CQO545Ul4y94"
      },
      "source": [
        "from sklearn.svm import SVR, SVC, LinearSVC\n",
        "rfe_elimination(SVR(kernel=\"linear\"), x_train, y_train)\n",
        "rfe_elimination(SVC(), x_train, y_train)\n",
        "rfe_elimination(LinearSVC(), x_train, y_train)"
      ],
      "execution_count": null,
      "outputs": []
    },
    {
      "cell_type": "code",
      "metadata": {
        "id": "PqH5mEPbp-ei"
      },
      "source": [
        "def extra_trees_classifier(x_train_input, y_train_output):\n",
        "  #feature selection with extra tree classifier - Feature Importance\n",
        "  from sklearn.ensemble import ExtraTreesClassifier\n",
        "  import pandas as pd\n",
        "\n",
        "  model = ExtraTreesClassifier()\n",
        "  tree=model.fit(x_train_input,y_train_output)\n",
        "  print(model.feature_importances_)\n",
        "  \n",
        "  print(\"the larger the score, the more important the attribute\")\n",
        "\n",
        "  dfscores = pd.DataFrame(tree.feature_importances_)\n",
        "  df = pd.DataFrame(x_train_input)\n",
        "  dfcolumns = pd.DataFrame(df.columns)\n",
        "  \n",
        "  #concat two dataframes for better visualization \n",
        "  featureScores = pd.concat([dfcolumns,dfscores],axis=1)\n",
        "  featureScores.columns = ['Specs','Score']  #naming the dataframe columns\n",
        "  featureScores=featureScores.nlargest(10,'Score')\n",
        "  \n",
        "  featureScores=featureScores.values\n",
        "  col=list(featureScores[:,0])\n",
        "  print(col)\n",
        "  features=df[col]\n",
        "  return features\n",
        "\n"
      ],
      "execution_count": null,
      "outputs": []
    },
    {
      "cell_type": "code",
      "metadata": {
        "id": "c-zMTjn8C4mD"
      },
      "source": [
        "extree_features=extra_trees_classifier(x_train, y_train)\n",
        "print(extree_features)"
      ],
      "execution_count": null,
      "outputs": []
    },
    {
      "cell_type": "code",
      "metadata": {
        "id": "VkGGYZFkC4b9"
      },
      "source": [
        "extree_features_norm=extra_trees_classifier(x_train_norm, y_train)\n",
        "print(extree_features_norm)"
      ],
      "execution_count": null,
      "outputs": []
    },
    {
      "cell_type": "code",
      "metadata": {
        "id": "4TxoNGth8guq"
      },
      "source": [
        "extree_features_resc=extra_trees_classifier(x_train_resc, y_train)\n",
        "print(extree_features_resc)"
      ],
      "execution_count": null,
      "outputs": []
    },
    {
      "cell_type": "code",
      "metadata": {
        "id": "cLTG-w9ftGYu"
      },
      "source": [
        "#feature union(kbest-RFE logistic reg-extra tree)\n",
        "from sklearn.pipeline import Pipeline, FeatureUnion\n",
        "from sklearn.decomposition import PCA\n",
        "from sklearn.feature_selection import SelectKBest\n",
        "from sklearn.feature_selection import RFE\n",
        "from sklearn.ensemble import ExtraTreesClassifier\n",
        "from sklearn.linear_model import LogisticRegression\n",
        "from sklearn.model_selection import KFold, cross_val_score\n",
        "\n",
        "#create feature union\n",
        "features=[]\n",
        "#features.append(('PCA', PCA(n_components=3)))\n",
        "features.append(('KBEST', SelectKBest(k=10)))\n",
        "features.append(('RFE', RFE(LogisticRegression(solver='liblinear'),10 )))\n",
        "#features.append(('EXTRE', ExtraTreesClassifier()))\n",
        "feature_union=FeatureUnion(features)\n",
        "\n",
        "#create pipeline\n",
        "estimators=[]\n",
        "estimators.append(('feat_union', feature_union))\n",
        "estimators.append(('logistic', LogisticRegression()))\n",
        "model=Pipeline(estimators)\n",
        "\n",
        "#evaluate pipeline\n",
        "kfold=KFold(n_splits=5, random_state=3, shuffle=True)\n",
        "results=cross_val_score(model, x_train_resc,y_train, cv=kfold)\n",
        "print(results.mean())\n"
      ],
      "execution_count": null,
      "outputs": []
    },
    {
      "cell_type": "code",
      "metadata": {
        "colab": {
          "base_uri": "https://localhost:8080/"
        },
        "id": "yTkwkbZFEEPP",
        "outputId": "efeab547-d569-4dfc-9006-41fc1068c4e4"
      },
      "source": [
        "#no need to reshape!!!!\n",
        "#reshape\n",
        "#x_train_norm = x_train_norm.reshape((len(x_train_norm), np.prod(x_train_norm.shape[1:]))) \n",
        "#x_test_norm = x_test_norm.reshape((len(x_test_norm), np.prod(x_test_norm.shape[1:])))\n",
        "#print(x_train_norm.shape)"
      ],
      "execution_count": null,
      "outputs": [
        {
          "output_type": "stream",
          "text": [
            "(97044, 152)\n"
          ],
          "name": "stdout"
        }
      ]
    },
    {
      "cell_type": "code",
      "metadata": {
        "id": "A-nSGFUobMwN"
      },
      "source": [
        "#autoencoder - 2 hidden layers\n",
        "from keras.layers import Dense, Input\n",
        "from keras.models import Model\n",
        "from keras.optimizers import Adam\n",
        "\n",
        "input_img = Input(shape=(152,))\n",
        "hidden_1 = Dense(90, activation='relu')(input_img)\n",
        "code = Dense(30, activation='relu')(hidden_1)\n",
        "hidden_2 = Dense(90, activation='relu')(code) \n",
        "output_img = Dense(152, activation='sigmoid')(hidden_2)\n",
        "\n",
        "autoencoder = Model(input_img, output_img)\n",
        "autoencoder.compile(optimizer='adam', loss='binary_crossentropy')\n",
        "autoencoder.fit(x_train_norm, x_train_norm, epochs=3)\n",
        "\n",
        "predictions_1 = autoencoder.predict(x_test_norm)"
      ],
      "execution_count": null,
      "outputs": []
    },
    {
      "cell_type": "code",
      "metadata": {
        "id": "LV0RSclzJw4l"
      },
      "source": [
        "print(predictions_1.shape)\n",
        "predictions_1"
      ],
      "execution_count": null,
      "outputs": []
    },
    {
      "cell_type": "code",
      "metadata": {
        "id": "Q9wwaGy4joN0"
      },
      "source": [
        "#denoising autoencoder - same layers\n",
        "from keras.layers import Dense, Input\n",
        "from keras.models import Model\n",
        "from keras.optimizers import Adam\n",
        "\n",
        "#noise\n",
        "noise_factor = 0.4\n",
        "x_train_noisy = x_train_norm + noise_factor * np.random.normal(size=x_train_norm.shape)\n",
        "x_test_noisy = x_test_norm + noise_factor * np.random.normal(size=x_test_norm.shape)\n",
        "x_train_noisy = np.clip(x_train_noisy, 0.0, 1.0)\n",
        "x_test_noisy = np.clip(x_test_noisy, 0.0, 1.0)\n",
        "\n",
        "input_img = Input(shape=(152,))\n",
        "hidden_1 = Dense(90, activation='relu')(input_img)\n",
        "code = Dense(30, activation='relu')(hidden_1)\n",
        "hidden_2 = Dense(90, activation='relu')(code) \n",
        "output_img = Dense(152, activation='sigmoid')(hidden_2)\n",
        "\n",
        "autoencoder_noisy = Model(input_img, output_img)\n",
        "autoencoder_noisy.compile(optimizer='adam', loss='binary_crossentropy')\n",
        "autoencoder_noisy.fit(x_train_noisy, x_train_norm, epochs=3)\n",
        "\n",
        "predictions_2 = autoencoder_noisy.predict(x_test_noisy)"
      ],
      "execution_count": null,
      "outputs": []
    },
    {
      "cell_type": "code",
      "metadata": {
        "id": "rimNfUGgDDob"
      },
      "source": [
        "#without regularization (not sparsed)\n",
        "from keras.layers import Dense, Input\n",
        "from keras.models import Model\n",
        "from keras.optimizers import Adam\n",
        "\n",
        "input_size = 152\n",
        "code_size = 30\n",
        "\n",
        "input_img = Input(shape=(input_size,))\n",
        "code = Dense(code_size, activation='relu')(input_img) \n",
        "output_img = Dense(input_size, activation='sigmoid')(code)\n",
        "\n",
        "autoencoder_standard = Model(input_img, output_img) \n",
        "autoencoder_standard.compile(optimizer='adam', loss='binary_crossentropy') \n",
        "history_standard = autoencoder_standard.fit(x_train_norm, x_train_norm, epochs=3)\n",
        "encoded_standard = Model(input_img, code)\n",
        "\n",
        "predictions_3 = autoencoder_standard.predict(x_test_norm)"
      ],
      "execution_count": null,
      "outputs": []
    },
    {
      "cell_type": "code",
      "metadata": {
        "id": "sNxK6SdZelO9"
      },
      "source": [
        "#sparse autoencoder with regularization\n",
        "from keras.regularizers import l1\n",
        "\n",
        "input_size = 152\n",
        "code_size = 30\n",
        "\n",
        "input_img = Input(shape=(input_size,))\n",
        "code = Dense(code_size,activity_regularizer=l1(10e-4), activation='relu')(input_img) \n",
        "output_img = Dense(input_size, activation='sigmoid')(code)\n",
        "\n",
        "autoencoder_regularized = Model(input_img, output_img) \n",
        "autoencoder_regularized.compile(optimizer='adam', loss='binary_crossentropy') \n",
        "history_regularized = autoencoder_regularized.fit(x_train_norm, x_train_norm, epochs=3)\n",
        "encoded_regularized = Model(input_img, code)\n",
        "\n",
        "predictions_4 = autoencoder_regularized.predict(x_test_norm)"
      ],
      "execution_count": null,
      "outputs": []
    },
    {
      "cell_type": "code",
      "metadata": {
        "id": "GZN-l--kH4I8"
      },
      "source": [
        "autoencoder.evaluate(x_test_norm, x_test_norm)\n",
        "autoencoder_noisy.evaluate(x_test_norm, x_test_norm)\n",
        "autoencoder_standard.evaluate(x_test_norm, x_test_norm)\n",
        "autoencoder_regularized.evaluate(x_test_norm, x_test_norm)\n",
        "\n",
        "print(predictions_1.mean())\n",
        "#print(autoencoder.predict(x_test_norm).mean()) - same\n",
        "print(predictions_2.mean())\n",
        "print(predictions_3.mean()) \n",
        "print(predictions_4.mean())"
      ],
      "execution_count": null,
      "outputs": []
    },
    {
      "cell_type": "code",
      "metadata": {
        "id": "meOWVa8rTeGR"
      },
      "source": [
        "#not ready!!\n",
        "import matplotlib.pyplot as plt\n",
        "\n",
        "# plot loss\n",
        "plt.plot(history_standard.history['loss'], label='train')\n",
        "plt.plot(history_standard.history['val_loss'], label='test')\n",
        "plt.legend()\n",
        "plt.show()"
      ],
      "execution_count": null,
      "outputs": []
    },
    {
      "cell_type": "code",
      "metadata": {
        "id": "yHdkwhRH7yqZ"
      },
      "source": [
        "#reduced train dataset\n",
        "import numpy as np\n",
        "number_of_rows = train_data_array.shape[0]\n",
        "print(number_of_rows)\n",
        "random_indices = np.random.choice(number_of_rows,size=600, replace=False)\n",
        "random_rows = train_data_array[random_indices, :]\n",
        "\n",
        "X=random_rows[:,0:152]\n",
        "Y=random_rows[:,152]"
      ],
      "execution_count": null,
      "outputs": []
    },
    {
      "cell_type": "code",
      "metadata": {
        "id": "quxt4Dxcr2_q"
      },
      "source": [
        "#GRID SEARCH FOR NN\n",
        "\n",
        "# MLP for Pima Indians Dataset with grid search via sklearn\n",
        "\n",
        "from keras.layers import Dense\n",
        "from keras.models import Sequential\n",
        "from sklearn.model_selection import GridSearchCV\n",
        "from keras.wrappers.scikit_learn import KerasClassifier\n",
        "\n",
        "#numpy.set_printoptions(precision=3)\n",
        "\n",
        "\n",
        "# create a function to build a model\n",
        "#required for KerasClassifier\n",
        "def create_model_2(init=\"glorot_uniform\", optimizer=\"rmsprop\"):\n",
        "  model=Sequential()\n",
        "  model.add(Dense(150, input_dim=152, activation=\"relu\", kernel_initializer=init))\n",
        "  model.add(Dense(50, activation=\"relu\", kernel_initializer=init))\n",
        "  model.add(Dense(1, activation=\"softmax\", kernel_initializer=init))\n",
        "\n",
        "  model.compile(loss=\"binary_crossentropy\", optimizer=optimizer, metrics=[\"accuracy\"])\n",
        "\n",
        "  return model\n",
        "\n",
        "# create model\n",
        "model_2=KerasClassifier(build_fn=create_model_2, verbose=0)\n",
        "\n",
        "#grid search to find epochs, batch_size, optimizer\n",
        "epochs_list=[50,100,150,200]\n",
        "batches_list=[5,10,15]\n",
        "optimizer_list=[\"adam\", \"rmsprop\"]\n",
        "inits_list=[\"glorot_uniform\",\"normal\", \"uniform\"]\n",
        "\n",
        "param_grid_dictionary=dict(optimizer=optimizer_list, epochs=epochs_list, batch_size=batches_list, init=inits_list)\n",
        "type(param_grid_dictionary)\n",
        "grid=GridSearchCV(estimator=model_2,param_grid=param_grid_dictionary)\n",
        "grid_result=grid.fit(X,Y)\n",
        "\n",
        "# summarize results\n",
        "print(\"Best: %f using %s\" % (grid_result.best_score_, grid_result.best_params_))\n",
        "means = grid_result.cv_results_['mean_test_score']\n",
        "stds = grid_result.cv_results_['std_test_score']\n",
        "params = grid_result.cv_results_['params']\n",
        "for mean, stdev, param in zip(means, stds, params):\n",
        "  print(\"%f (%f) with: %r\" % (mean, stdev, param))\n",
        "\n",
        "#best result 0,5033, epochs=50, batches=5, optimizer=\"adam\", inits=\"glorot_uniform\"\n"
      ],
      "execution_count": null,
      "outputs": []
    },
    {
      "cell_type": "code",
      "metadata": {
        "id": "_5-09xovEH1j"
      },
      "source": [
        "#GRID SEARCH FOR CNN\n",
        "\n",
        "# MLP for Pima Indians Dataset with grid search via sklearn\n",
        "\n",
        "from keras.layers import Dense, Dropout, Flatten\n",
        "from keras.layers.convolutional import Conv2D, MaxPooling2D\n",
        "from keras.models import Sequential\n",
        "from sklearn.model_selection import GridSearchCV\n",
        "from keras.wrappers.scikit_learn import KerasClassifier\n",
        "\n",
        "#numpy.set_printoptions(precision=3)\n",
        "\n",
        "\n",
        "# create a function to build a model\n",
        "#required for KerasClassifier\n",
        "def create_model_CNN(init=\"glorot_uniform\", optimizer=\"rmsprop\"):\n",
        "  model=Sequential()\n",
        "  model.add(Conv2D(32,kernel_size=(5,5), strides=(1,1), padding=\"same\", activation=\"relu\", input_shape=(1,152,600)))\n",
        "  model.add(MaxPooling2D(pool_size=(2,2),strides=(2,2)))\n",
        "  model.add(Conv2D(64,(2,2),activation=\"relu\",padding=\"same\"))\n",
        "  model.add(MaxPooling2D(pool_size=(2,2)))\n",
        "  model.add(Dropout(0,25))\n",
        "  model.add(Flatten())\n",
        "  model.add(Dense(1000, activation=\"relu\"))\n",
        "  model.add(Dropout(0,5))\n",
        "  model.add(Dense(2, activation=\"softmax\"))\n",
        "\n",
        "  model.compile(loss=\"binary_crossentropy\", optimizer=optimizer, metrics=[\"accuracy\"])\n",
        "\n",
        "  return model\n",
        "\n",
        "# create model\n",
        "model_CNN=KerasClassifier(build_fn=create_model_CNN, verbose=0)\n",
        "\n",
        "#grid search to find epochs, batch_size, optimizer\n",
        "epochs_list=[100,150]\n",
        "batches_list=[5,10]\n",
        "optimizer_list=[\"adam\", \"rmsprop\"]\n",
        "inits_list=[\"glorot_uniform\",\"normal\", \"uniform\"]\n",
        "\n",
        "param_grid_dictionary=dict(optimizer=optimizer_list, epochs=epochs_list, batch_size=batches_list, init=inits_list)\n",
        "type(param_grid_dictionary)\n",
        "grid=GridSearchCV(estimator=model_CNN,param_grid=param_grid_dictionary)\n",
        "grid_result=grid.fit(X,Y)\n",
        "\n",
        "# summarize results\n",
        "print(\"Best: %f using %s\" % (grid_result.best_score_, grid_result.best_params_))\n",
        "means = grid_result.cv_results_['mean_test_score']\n",
        "stds = grid_result.cv_results_['std_test_score']\n",
        "params = grid_result.cv_results_['params']\n",
        "for mean, stdev, param in zip(means, stds, params):\n",
        "  print(\"%f (%f) with: %r\" % (mean, stdev, param))\n",
        "  "
      ],
      "execution_count": null,
      "outputs": []
    },
    {
      "cell_type": "code",
      "metadata": {
        "colab": {
          "background_save": true
        },
        "id": "QFjF5QHfGQ_5"
      },
      "source": [
        "compare_algorithms(x_train, y_train)  "
      ],
      "execution_count": null,
      "outputs": []
    },
    {
      "cell_type": "code",
      "metadata": {
        "id": "D7N52I7tGRG8"
      },
      "source": [
        "compare_algorithms(x_train_norm, y_train)  "
      ],
      "execution_count": null,
      "outputs": []
    },
    {
      "cell_type": "code",
      "metadata": {
        "id": "ugTn-ACEAmOt"
      },
      "source": [
        "compare_algorithms(x_train_resc, y_train)"
      ],
      "execution_count": null,
      "outputs": []
    },
    {
      "cell_type": "markdown",
      "metadata": {
        "id": "8Th9DJqd7TZP"
      },
      "source": [
        "MAY NOT BE NEEDED"
      ]
    },
    {
      "cell_type": "code",
      "metadata": {
        "colab": {
          "base_uri": "https://localhost:8080/",
          "height": 271
        },
        "id": "7lM5tj9NQzSa",
        "outputId": "be6d3aa3-25a9-4d4d-d5c5-89e3e951dde7"
      },
      "source": [
        "#correlation matrix plot\n",
        "correlations=df_train_data_filtered.corr()\n",
        "fig=pyplot.figure()\n",
        "ax=fig.add_subplot(1,1,1)\n",
        "cax=ax.matshow(correlations,vmin=-1, vmax=1)\n",
        "fig.colorbar(cax)\n",
        "pyplot.show()"
      ],
      "execution_count": 34,
      "outputs": [
        {
          "output_type": "display_data",
          "data": {
            "image/png": "[encoded data removed]",
            "text/plain": [
              "<Figure size 432x288 with 2 Axes>"
            ]
          },
          "metadata": {
            "tags": [],
            "needs_background": "light"
          }
        }
      ]
    },
    {
      "cell_type": "code",
      "metadata": {
        "id": "MaMH_5U53vm0"
      },
      "source": [
        "df_train_data_filtered.corr(method=\"pearson\")"
      ],
      "execution_count": null,
      "outputs": []
    },
    {
      "cell_type": "code",
      "metadata": {
        "id": "94iCQv43R7xv"
      },
      "source": [
        "#scatter plot matrix\n",
        "scatter_matrix(train_data, figsize=[20,20])\n",
        "pyplot.show()"
      ],
      "execution_count": null,
      "outputs": []
    },
    {
      "cell_type": "code",
      "metadata": {
        "id": "FFdb4sgJ0kXR"
      },
      "source": [
        "set_option(\"display.width\",100)\n",
        "set_option(\"precision\",2)\n",
        "train_data.describe()\n",
        "\n",
        "set_printoptions(precision=3)"
      ],
      "execution_count": null,
      "outputs": []
    },
    {
      "cell_type": "code",
      "metadata": {
        "id": "JE39KsLR2Boc"
      },
      "source": [
        "#check if balanced\n",
        "train_data.groupby(\"155\").size()\n",
        "test_data.groupby(\"155\").size()"
      ],
      "execution_count": null,
      "outputs": []
    },
    {
      "cell_type": "code",
      "metadata": {
        "id": "HsVRjH3u6Rzm"
      },
      "source": [
        "#check for skew\r\n",
        "pd.set_option('max_rows', 99999)\r\n",
        "pd.set_option('max_colwidth', 400)\r\n",
        "pd.describe_option('max_colwidth')\r\n",
        "\r\n",
        "results_skew = train_data.skew()\r\n",
        "print(results_skew)"
      ],
      "execution_count": null,
      "outputs": []
    },
    {
      "cell_type": "code",
      "metadata": {
        "id": "v5QB6Tbm68ja"
      },
      "source": [
        "import numpy as np\n",
        "print(np.max(x_test_norm))\n",
        "np.min(x_test_norm)"
      ],
      "execution_count": null,
      "outputs": []
    },
    {
      "cell_type": "markdown",
      "metadata": {
        "id": "KxJd23Hyp39u"
      },
      "source": [
        "RUN"
      ]
    },
    {
      "cell_type": "markdown",
      "metadata": {
        "id": "K76ClZgz5vu0"
      },
      "source": [
        "DEALING WITH THE DATA"
      ]
    },
    {
      "cell_type": "code",
      "metadata": {
        "id": "8UunGMNRNXAT"
      },
      "source": [
        "#load the data\n",
        "filename1 =\"train_imperson_without4n7_balanced_data.csv\"\n",
        "filename2 =\"test_imperson_without4n7_balanced_data.csv\"\n",
        "\n",
        "df_train_data = read_csv(filename1)\n",
        "df_test_data = read_csv(filename2)\n",
        "\n",
        "\n",
        "# apply constant column filter\n",
        "\n",
        "# not matched constant columns in the train and test data set\n",
        "\n",
        "# merge them to one data set\n",
        "df_full_data = df_train_data.append(df_test_data)\n",
        "\n",
        "#apply the filter\n",
        "df_full_data_filtered = filter_constant_columns(df_full_data)\n",
        "\n",
        "# separate the data sets\n",
        "df_train_data_filtered = df_full_data_filtered[0:97044]\n",
        "df_test_data_filtered = df_full_data_filtered[97044:]\n",
        "\n",
        "\n",
        "#separate the filtered x,y\n",
        "x_train = df_train_data_filtered[df_train_data_filtered.columns[:-1]].values\n",
        "y_train = df_train_data_filtered[df_train_data_filtered.columns[-1]].values\n",
        "x_test = df_test_data_filtered[df_test_data_filtered.columns[:-1]].values\n",
        "y_test = df_test_data_filtered[df_test_data_filtered.columns[-1]].values"
      ],
      "execution_count": 36,
      "outputs": []
    },
    {
      "cell_type": "code",
      "metadata": {
        "id": "ghXPi-v--9Yt"
      },
      "source": [
        "x_train_norm, x_test_norm = normalize(x_train, x_test)"
      ],
      "execution_count": 40,
      "outputs": []
    },
    {
      "cell_type": "code",
      "metadata": {
        "id": "FwOrcHT105K0"
      },
      "source": [
        "x_train_resc, x_test_resc = rescale(x_train, x_test)"
      ],
      "execution_count": 41,
      "outputs": []
    },
    {
      "cell_type": "markdown",
      "metadata": {
        "id": "VMhTSMRZ9jUn"
      },
      "source": [
        "FITTING MODELS TO COMPARE:\n",
        "-Raw data\n",
        "-Normalized data\n",
        "="
      ]
    },
    {
      "cell_type": "code",
      "metadata": {
        "id": "yvrwOm0DpVvq"
      },
      "source": [
        ""
      ],
      "execution_count": 22,
      "outputs": []
    },
    {
      "cell_type": "code",
      "metadata": {
        "id": "HqcPfwG2sIX3"
      },
      "source": [
        ""
      ],
      "execution_count": null,
      "outputs": []
    }
  ]
}